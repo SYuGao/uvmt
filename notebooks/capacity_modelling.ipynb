{
 "cells": [
  {
   "cell_type": "markdown",
   "id": "284fc453-aeed-40c9-8226-68269ef5d152",
   "metadata": {},
   "source": [
    "Minimum cost network flow prolem:"
   ]
  },
  {
   "cell_type": "code",
   "execution_count": 12,
   "id": "c293f466-506f-4ea3-8a47-72d809464277",
   "metadata": {},
   "outputs": [
    {
     "name": "stdout",
     "output_type": "stream",
     "text": [
      "Flow:  {'source': {'node1': 0, 'node2': 0}, 'destination': {}, 'node1': {'node2': 0, 'destination': 0}, 'node2': {'destination': 0}}\n",
      "Cost:  0\n"
     ]
    }
   ],
   "source": [
    "import networkx as nx\n",
    "\n",
    "# Create a directed graph with capacity and cost attributes for each edge\n",
    "G = nx.DiGraph()\n",
    "\n",
    "# Add nodes to the graph\n",
    "G.add_node('source')\n",
    "G.add_node('destination')\n",
    "G.add_node('node1')\n",
    "G.add_node('node2')\n",
    "\n",
    "# Add edges to the graph with capacity and cost attributes\n",
    "G.add_edge('source', 'node1', capacity=10, weight=4)\n",
    "G.add_edge('source', 'node2', capacity=20, weight=2)\n",
    "G.add_edge('node1', 'node2', capacity=5, weight=1)\n",
    "G.add_edge('node1', 'destination', capacity=15, weight=3)\n",
    "G.add_edge('node2', 'destination', capacity=15, weight=2)\n",
    "\n",
    "# Find the minimum cost flow from the source to the destination\n",
    "flowDict = nx.min_cost_flow(G)\n",
    "\n",
    "# Print the flow and cost\n",
    "print(\"Flow: \", flowDict)\n",
    "print(\"Cost: \", nx.cost_of_flow(G, flowDict))"
   ]
  },
  {
   "cell_type": "markdown",
   "id": "8933b9b7-f956-4f5a-abf6-75da5e97f354",
   "metadata": {},
   "source": [
    "Maximum flow problem： Ford-Fulkerson -- It uses DFS to search for augmentation paths and updates the network's traffic at each step  "
   ]
  },
  {
   "cell_type": "code",
   "execution_count": 7,
   "id": "a6dac14c-d28a-48ec-85b2-2c5c5c4af28c",
   "metadata": {},
   "outputs": [],
   "source": [
    "from collections import defaultdict\n",
    "\n",
    "class Graph:\n",
    "    def __init__(self, vertices):\n",
    "        self.graph = defaultdict(dict) # 用 defaultdict 来创建一个空的图，每个顶点连接的边是一个字典\n",
    "        self.vertices = vertices # 所有顶点的列表\n",
    "        \n",
    "    def add_edge(self, u, v, w):\n",
    "        self.graph[u][v] = w # 添加一条 u 到 v 的权值为 w 的边\n",
    "\n",
    "    def dfs(self, graph, u, t, visited, path):\n",
    "        visited[u] = True # 将 u 标记为已访问\n",
    "        path.append(u) # 将 u 加入到路径中\n",
    "        if u == t: # 如果已经到达汇点 t，返回该路径\n",
    "            return path\n",
    "        for v in graph[u]: # 遍历 u 的所有相邻节点 v\n",
    "            if not visited[v] and graph[u][v] > 0: # 如果 v 没有被访问过并且 u 到 v 的边有剩余容量\n",
    "                res = self.dfs(graph, v, t, visited, path) # 递归调用 dfs 函数  Depth-First Search\n",
    "                if res:\n",
    "                    return res # 如果找到一条路径，返回该路径\n",
    "        path.pop() # 如果没有找到任何路径，则从路径中删除 u\n",
    "        return None\n",
    "\n",
    "    def max_flow(self, source, sink):\n",
    "        flow = 0 # 初始流量为 0\n",
    "        while True:\n",
    "            visited = {v: False for v in self.vertices} # 初始化所有顶点的访问状态\n",
    "            path = self.dfs(self.graph, source, sink, visited, []) # 在残留图上查找一条增广路径\n",
    "            if not path: # 如果没有找到任何增广路径，结束循环\n",
    "                break\n",
    "            min_capacity = float(\"inf\") # 将最小容量设置为正无穷大\n",
    "            for u, v in zip(path, path[1:]): # 计算增广路径中的最小容量\n",
    "                min_capacity = min(min_capacity, self.graph[u][v])\n",
    "            for u, v in zip(path, path[1:]): # 在增广路径上更新残留网络的容量\n",
    "                self.graph[u][v] -= min_capacity # u 到 v 的边减去最小容量\n",
    "                self.graph[v][u] += min_capacity # v 到 u 的边加上最小容量\n",
    "            flow += min_capacity # 将最小容量加入总流量\n",
    "        return flow # 返回总流量"
   ]
  },
  {
   "cell_type": "code",
   "execution_count": 8,
   "id": "247f3b04-a4fe-4059-9a06-1881bf2c31c1",
   "metadata": {},
   "outputs": [],
   "source": [
    "g = Graph(['A', 'B', 'C', 'D', 'E'])\n",
    "g.add_edge('A', 'B', 3)\n",
    "g.add_edge('A', 'D', 2)\n",
    "g.add_edge('B', 'C', 4)\n",
    "g.add_edge('C', 'A', 2)\n",
    "g.add_edge('C', 'D', 1)\n",
    "g.add_edge('C', 'E', 2)\n",
    "g.add_edge('D', 'E', 3)"
   ]
  },
  {
   "cell_type": "code",
   "execution_count": 11,
   "id": "fb6ceb3b-bed3-4b26-9a04-b3fac68c098f",
   "metadata": {},
   "outputs": [
    {
     "ename": "KeyError",
     "evalue": "'A'",
     "output_type": "error",
     "traceback": [
      "\u001b[1;31m---------------------------------------------------------------------------\u001b[0m",
      "\u001b[1;31mKeyError\u001b[0m                                  Traceback (most recent call last)",
      "Cell \u001b[1;32mIn [11], line 1\u001b[0m\n\u001b[1;32m----> 1\u001b[0m \u001b[43mg\u001b[49m\u001b[38;5;241;43m.\u001b[39;49m\u001b[43mmax_flow\u001b[49m\u001b[43m(\u001b[49m\u001b[38;5;124;43m'\u001b[39;49m\u001b[38;5;124;43mA\u001b[39;49m\u001b[38;5;124;43m'\u001b[39;49m\u001b[43m,\u001b[49m\u001b[38;5;124;43m'\u001b[39;49m\u001b[38;5;124;43mB\u001b[39;49m\u001b[38;5;124;43m'\u001b[39;49m\u001b[43m)\u001b[49m\n",
      "Cell \u001b[1;32mIn [7], line 36\u001b[0m, in \u001b[0;36mGraph.max_flow\u001b[1;34m(self, source, sink)\u001b[0m\n\u001b[0;32m     34\u001b[0m     \u001b[38;5;28;01mfor\u001b[39;00m u, v \u001b[38;5;129;01min\u001b[39;00m \u001b[38;5;28mzip\u001b[39m(path, path[\u001b[38;5;241m1\u001b[39m:]): \u001b[38;5;66;03m# 在增广路径上更新残留网络的容量\u001b[39;00m\n\u001b[0;32m     35\u001b[0m         \u001b[38;5;28mself\u001b[39m\u001b[38;5;241m.\u001b[39mgraph[u][v] \u001b[38;5;241m-\u001b[39m\u001b[38;5;241m=\u001b[39m min_capacity \u001b[38;5;66;03m# u 到 v 的边减去最小容量\u001b[39;00m\n\u001b[1;32m---> 36\u001b[0m         \u001b[38;5;28mself\u001b[39m\u001b[38;5;241m.\u001b[39mgraph[v][u] \u001b[38;5;241m+\u001b[39m\u001b[38;5;241m=\u001b[39m min_capacity \u001b[38;5;66;03m# v 到 u 的边加上最小容量\u001b[39;00m\n\u001b[0;32m     37\u001b[0m     flow \u001b[38;5;241m+\u001b[39m\u001b[38;5;241m=\u001b[39m min_capacity \u001b[38;5;66;03m# 将最小容量加入总流量\u001b[39;00m\n\u001b[0;32m     38\u001b[0m \u001b[38;5;28;01mreturn\u001b[39;00m flow\n",
      "\u001b[1;31mKeyError\u001b[0m: 'A'"
     ]
    }
   ],
   "source": [
    "g.max_flow('A','B')"
   ]
  },
  {
   "cell_type": "code",
   "execution_count": null,
   "id": "f1049102-f116-494e-8f19-1f42e674e5a0",
   "metadata": {},
   "outputs": [],
   "source": [
    "print(g.max_flow('A', 'E')) # Output: 5"
   ]
  },
  {
   "cell_type": "markdown",
   "id": "946c798d-c4d4-4553-8b31-85100b4478cc",
   "metadata": {},
   "source": [
    "Traffic Capacity Modelling: A Greenshields model, which assumes a linear relationship between traffic flow rate and density.  \n",
    "\n",
    "Here's an example Python code snippet that uses the Greenshields model to simulate traffic flow on a highway:  "
   ]
  },
  {
   "cell_type": "code",
   "execution_count": null,
   "id": "bf403ecd-7aa7-456c-8ea7-a0e3c7345a84",
   "metadata": {},
   "outputs": [],
   "source": [
    "import numpy as np\n",
    "import matplotlib.pyplot as plt\n",
    "\n",
    "# Parameters\n",
    "L = 10  # Length of the highway (in km)\n",
    "v_max = 120  # Maximum speed (in km/h)\n",
    "rho_max = 100  # Maximum density (in vehicles/km)\n",
    "q_max = v_max * rho_max  # Maximum flow rate (in vehicles/h)\n",
    "T = 1  # Simulation time step (in hours)\n",
    "N = 100  # Number of cells\n",
    "dx = L / N  # Cell length (in km)\n",
    "\n",
    "# Initial conditions\n",
    "rho = np.zeros(N)\n",
    "rho[int(N/4):int(N/2)] = rho_max/2\n",
    "\n",
    "# Simulation\n",
    "for t in np.arange(0, 3, T):\n",
    "    q = v_max * rho * (1 - rho / rho_max)\n",
    "    q[:-1] = np.minimum(q[:-1], q_max * np.diff(rho) / dx)\n",
    "    rho[1:] -= np.diff(q) / dx * T\n",
    "\n",
    "    # Boundary conditions\n",
    "    rho[0] = rho[-1]\n",
    "\n",
    "    # Plotting\n",
    "    plt.figure(figsize=(8, 6))\n",
    "    plt.plot(np.linspace(0, L, N), rho, 'o-')\n",
    "    plt.xlabel('Distance (km)')\n",
    "    plt.ylabel('Density (vehicles/km)')\n",
    "    plt.title('Traffic flow simulation (t = {:.1f} hours)'.format(t))\n",
    "    plt.show()"
   ]
  },
  {
   "cell_type": "code",
   "execution_count": null,
   "id": "516fee56-caae-49db-8f59-789feb328d66",
   "metadata": {},
   "outputs": [],
   "source": []
  }
 ],
 "metadata": {
  "kernelspec": {
   "display_name": "Python 3 (ipykernel)",
   "language": "python",
   "name": "python3"
  },
  "language_info": {
   "codemirror_mode": {
    "name": "ipython",
    "version": 3
   },
   "file_extension": ".py",
   "mimetype": "text/x-python",
   "name": "python",
   "nbconvert_exporter": "python",
   "pygments_lexer": "ipython3",
   "version": "3.9.13"
  }
 },
 "nbformat": 4,
 "nbformat_minor": 5
}
