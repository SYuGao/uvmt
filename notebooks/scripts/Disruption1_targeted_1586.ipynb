version https://git-lfs.github.com/spec/v1
oid sha256:6b2f637f23817cc16bb80ad665778737f9708a98ac1da9cdc48df02490b1c4ce
size 378938
