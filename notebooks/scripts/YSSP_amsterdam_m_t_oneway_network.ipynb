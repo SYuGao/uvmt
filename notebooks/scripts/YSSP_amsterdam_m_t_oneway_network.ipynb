{
 "cells": [
  {
   "cell_type": "code",
   "execution_count": 1,
   "id": "7cfae179-7787-4f76-841a-bd70147ba4a3",
   "metadata": {},
   "outputs": [],
   "source": [
    "import sys\n",
    "sys.path.append('C:\\\\projects\\\\UTNCE\\\\src\\\\utnce202402')"
   ]
  },
  {
   "cell_type": "code",
   "execution_count": 2,
   "id": "319bb615-778c-407e-85bf-2b536f23f1a9",
   "metadata": {},
   "outputs": [],
   "source": [
    "from simplify import *\n",
    "from prepare import *\n",
    "from routing import *\n",
    "from percolation_plot import *\n",
    "from generate import *\n",
    "from transfer import *\n",
    "from copy import deepcopy\n",
    "from shapely.geometry import Point,LineString\n",
    "from pyproj import Proj, Transformer\n",
    "import pickle\n",
    "import itertools\n",
    "import random\n",
    "from sympy import symbols, Eq, solve\n",
    "import datetime"
   ]
  },
  {
   "cell_type": "code",
   "execution_count": 3,
   "id": "d7a7e079-a767-481e-8a1a-3ff3c78db845",
   "metadata": {},
   "outputs": [],
   "source": [
    "osm_path = \"C:\\\\projects\\\\UTNCE\\\\data\\\\Amsterdam.large.pbf\""
   ]
  },
  {
   "cell_type": "markdown",
   "id": "a8e43a7a-a324-45d5-b07c-722bf46ffda2",
   "metadata": {},
   "source": [
    "# Subway-Amsterdam "
   ]
  },
  {
   "cell_type": "markdown",
   "id": "2cafe259-b774-4259-a92f-352568cbe87d",
   "metadata": {},
   "source": [
    "## Generate Baseline network"
   ]
  },
  {
   "cell_type": "code",
   "execution_count": 4,
   "id": "67c97c61-f91d-4b8d-ac69-f29510ddb6d9",
   "metadata": {},
   "outputs": [],
   "source": [
    "# Obtain sub-stations in the city\n",
    "city_sub_stations = sub_stations(osm_path)"
   ]
  },
  {
   "cell_type": "code",
   "execution_count": 5,
   "id": "a749b6f6-f2aa-4429-8e0d-eb9dfa16688f",
   "metadata": {},
   "outputs": [
    {
     "name": "stderr",
     "output_type": "stream",
     "text": [
      "endpoints: 100%|██████████████████████████████████████████████████████████████████| 711/711 [00:00<00:00, 55310.02it/s]\n",
      "endpoints: 100%|██████████████████████████████████████████████████████████████████| 962/962 [00:00<00:00, 15021.82it/s]\n",
      "topology: 100%|████████████████████████████████████████████████████████████████████| 962/962 [00:00<00:00, 3753.83it/s]\n"
     ]
    }
   ],
   "source": [
    "# Obtain subway network data\n",
    "city_sub_network = subway_network(osm_path)\n",
    "\n",
    "# Prepare the network edges and nodes based on sub-stations and subway network\n",
    "edges, nodes = prepare_network(city_sub_network, city_sub_stations)\n",
    "\n",
    "# Expand the edges if required\n",
    "edges = expand_edges(edges)\n",
    "\n",
    "# Obtain sub-routes in the city\n",
    "city_sub_routes = sub_routes(osm_path)\n",
    "\n",
    "# Sort the sub-routes\n",
    "city_sub_routes = sorted_routes(city_sub_routes)\n",
    "\n",
    "# Check the name and assign a column\n",
    "check_name = check_to_column(city_sub_routes, city_sub_stations)"
   ]
  },
  {
   "cell_type": "code",
   "execution_count": 6,
   "id": "f909cfa3-2615-4e2e-bc66-ca1ceac54021",
   "metadata": {},
   "outputs": [],
   "source": [
    "# Calculate dataframe length of nodes and edges of metro for adding it to tram dataframes\n",
    "id_edges_length_sub = len(edges)\n",
    "id_nodes_length_sub = len(nodes)"
   ]
  },
  {
   "cell_type": "code",
   "execution_count": 7,
   "id": "acdc5f93-680e-478b-b210-f8f67f319675",
   "metadata": {},
   "outputs": [],
   "source": [
    "# id_nodes_length_sub"
   ]
  },
  {
   "cell_type": "code",
   "execution_count": 8,
   "id": "294a28d0-4ec9-4ed6-ad00-727e29f602e1",
   "metadata": {},
   "outputs": [],
   "source": [
    "# id_edges_length_sub"
   ]
  },
  {
   "cell_type": "code",
   "execution_count": null,
   "id": "64ee128e-8b00-4b46-8d6c-2a524dc3f8f6",
   "metadata": {},
   "outputs": [],
   "source": []
  },
  {
   "cell_type": "code",
   "execution_count": null,
   "id": "543f212d-5b8e-4e7e-b9f7-9f39298edaea",
   "metadata": {},
   "outputs": [],
   "source": []
  },
  {
   "cell_type": "code",
   "execution_count": 9,
   "id": "79c7af91-b817-4151-932e-3c61a0ede90a",
   "metadata": {},
   "outputs": [],
   "source": [
    "# create copy dataframe for nodes and edges\n",
    "city_sub_edges = pd.DataFrame(edges.copy())\n",
    "city_sub_nodes = pd.DataFrame(nodes.copy())"
   ]
  },
  {
   "cell_type": "code",
   "execution_count": 10,
   "id": "3e52056d-8706-49de-9fc5-95104cbede85",
   "metadata": {},
   "outputs": [],
   "source": [
    "# delete useless and wrong edges \n",
    "city_sub_edges.drop(city_sub_edges[(city_sub_edges['from_id'] == 771) & (city_sub_edges['to_id'] == 761)].index, inplace=True)\n",
    "city_sub_edges.drop(city_sub_edges[(city_sub_edges['from_id'] == 771) & (city_sub_edges['to_id'] == 766)].index, inplace=True)\n",
    "city_sub_edges.drop(city_sub_edges[(city_sub_edges['from_id'] == 762) & (city_sub_edges['to_id'] == 771)].index, inplace=True)\n",
    "city_sub_edges.drop(city_sub_edges[(city_sub_edges['from_id'] == 767) & (city_sub_edges['to_id'] == 771)].index, inplace=True)\n",
    "\n",
    "city_sub_edges.drop(city_sub_edges[(city_sub_edges['from_id'] == 780) & (city_sub_edges['to_id'] == 773)].index, inplace=True)\n",
    "city_sub_edges.drop(city_sub_edges[(city_sub_edges['from_id'] == 780) & (city_sub_edges['to_id'] == 772)].index, inplace=True)\n",
    "city_sub_edges.drop(city_sub_edges[(city_sub_edges['from_id'] == 774) & (city_sub_edges['to_id'] == 780)].index, inplace=True)\n",
    "city_sub_edges.drop(city_sub_edges[(city_sub_edges['from_id'] == 775) & (city_sub_edges['to_id'] == 780)].index, inplace=True)\n",
    "\n",
    "city_sub_edges.drop(city_sub_edges[(city_sub_edges['from_id'] == 180) & (city_sub_edges['to_id'] == 345)].index, inplace=True)\n",
    "\n",
    "city_sub_edges.drop(city_sub_edges[(city_sub_edges['from_id'] == 491) & (city_sub_edges['to_id'] == 492)].index, inplace=True)\n",
    "city_sub_edges.drop(city_sub_edges[(city_sub_edges['from_id'] == 498) & (city_sub_edges['to_id'] == 499)].index, inplace=True)\n",
    "\n",
    "\n",
    "\n",
    "city_sub_edges.drop(city_sub_edges[(city_sub_edges['from_id'] == 634) & (city_sub_edges['to_id'] == 635)].index, inplace=True)\n",
    "city_sub_edges.drop(city_sub_edges[(city_sub_edges['from_id'] == 654) & (city_sub_edges['to_id'] == 655)].index, inplace=True)\n",
    "city_sub_edges.drop(city_sub_edges[(city_sub_edges['from_id'] == 584) & (city_sub_edges['to_id'] == 585)].index, inplace=True)\n",
    "city_sub_edges.drop(city_sub_edges[(city_sub_edges['from_id'] == 569) & (city_sub_edges['to_id'] == 570)].index, inplace=True)\n",
    "city_sub_edges.drop(city_sub_edges[(city_sub_edges['from_id'] == 588) & (city_sub_edges['to_id'] == 589)].index, inplace=True)\n",
    "city_sub_edges.drop(city_sub_edges[(city_sub_edges['from_id'] == 577) & (city_sub_edges['to_id'] == 589)].index, inplace=True)\n",
    "city_sub_edges.drop(city_sub_edges[(city_sub_edges['from_id'] == 607) & (city_sub_edges['to_id'] == 577)].index, inplace=True)\n",
    "city_sub_edges.drop(city_sub_edges[(city_sub_edges['from_id'] == 564) & (city_sub_edges['to_id'] == 565)].index, inplace=True)\n",
    "city_sub_edges.drop(city_sub_edges[(city_sub_edges['from_id'] == 586) & (city_sub_edges['to_id'] == 587)].index, inplace=True)\n",
    "\n",
    "city_sub_edges.drop(city_sub_edges[(city_sub_edges['from_id'] == 643) & (city_sub_edges['to_id'] == 644)].index, inplace=True)\n",
    "city_sub_edges.drop(city_sub_edges[(city_sub_edges['from_id'] == 638) & (city_sub_edges['to_id'] == 639)].index, inplace=True)\n",
    "\n",
    "city_sub_edges = city_sub_edges.reset_index(drop = True)"
   ]
  },
  {
   "cell_type": "code",
   "execution_count": 11,
   "id": "32f835da-9a9e-4c02-8b1e-dd9984a389b9",
   "metadata": {},
   "outputs": [],
   "source": [
    "# revise Zuid metro stations' coordinates, replace 712 with 180 and 345 nodes to avoid wrong shortest-path edges\n",
    "geometry_value1 = city_sub_nodes.loc[city_sub_nodes['id'] == 180, 'geometry'].values[0]\n",
    "geometry_value2 = city_sub_nodes.loc[city_sub_nodes['id'] == 345, 'geometry'].values[0]\n",
    "\n",
    "city_sub_stations.loc[city_sub_stations['osm_id'] == '4073737797', 'geometry'] = geometry_value1\n",
    "city_sub_stations.loc[city_sub_stations['osm_id'] == '4073737797', 'geo_x'] = geometry_value1.x\n",
    "city_sub_stations.loc[city_sub_stations['osm_id'] == '4073737797', 'geo_y'] = geometry_value1.y\n",
    "\n",
    "city_sub_stations.loc[city_sub_stations['osm_id'] == '4073737796', 'geometry'] = geometry_value2\n",
    "city_sub_stations.loc[city_sub_stations['osm_id'] == '4073737796', 'geo_x'] = geometry_value2.x\n",
    "city_sub_stations.loc[city_sub_stations['osm_id'] == '4073737796', 'geo_y'] = geometry_value2.y"
   ]
  },
  {
   "cell_type": "code",
   "execution_count": 12,
   "id": "cdbcaf56-f321-4ce1-b733-0f8d132a1c31",
   "metadata": {},
   "outputs": [],
   "source": [
    "# city_sub_nodes"
   ]
  },
  {
   "cell_type": "code",
   "execution_count": 13,
   "id": "33601a6e-651e-4e73-995e-7736f8f850b1",
   "metadata": {},
   "outputs": [],
   "source": [
    "# city_sub_stations"
   ]
  },
  {
   "cell_type": "code",
   "execution_count": 14,
   "id": "9539a667-b168-4ed7-809e-a0acaebe863d",
   "metadata": {},
   "outputs": [],
   "source": [
    "# city_sub_edges"
   ]
  },
  {
   "cell_type": "code",
   "execution_count": 15,
   "id": "f970ca9d-3b66-40bf-99df-24f3040f7605",
   "metadata": {},
   "outputs": [],
   "source": [
    "# city_sub_routes"
   ]
  },
  {
   "cell_type": "code",
   "execution_count": 16,
   "id": "f3c9f84f-8f2e-45c8-833e-1108d265ab52",
   "metadata": {},
   "outputs": [],
   "source": [
    "# Define replacement dictionary of names of destination stations\n",
    "replacement_dict = {\n",
    "     'Amsterdam Centraal': 'Centraal Station',\n",
    "}\n",
    "# Replace values in the 'to' column of the metro routes using the replacement dictionary\n",
    "city_sub_routes['to'] = city_sub_routes['to'].replace(replacement_dict, regex=True).str.strip()\n",
    "\n",
    "# Reset the index of the metro routes\n",
    "city_sub_routes = city_sub_routes.reset_index(drop=True)\n",
    "\n",
    "# Check if the values in the 'to' column of the metro routes match the station names\n",
    "check_name = check_to_column(city_sub_routes, city_sub_stations)"
   ]
  },
  {
   "cell_type": "code",
   "execution_count": 17,
   "id": "687cb0be-1d36-448b-9b45-b8c98430033b",
   "metadata": {},
   "outputs": [],
   "source": [
    "# # restore DataFrames as pickle files\n",
    "# city_sub_edges.to_pickle('city_sub_edges_0328.pkl')\n",
    "# city_sub_stations.to_pickle('city_sub_stations_0328.pkl')\n",
    "# city_sub_nodes.to_pickle('city_sub_nodes_0328.pkl')\n",
    "# city_sub_routes.to_pickle('city_sub_routes_0328.pkl')"
   ]
  },
  {
   "cell_type": "code",
   "execution_count": 18,
   "id": "cecf2ea9-92b9-4ba1-89f3-8a7d1a6f34c3",
   "metadata": {
    "scrolled": true
   },
   "outputs": [],
   "source": [
    "# Create a dictionary mapping start stations to their corresponding routes\n",
    "city_sub_start_station_name_dict = start_station_dict(city_sub_routes)\n",
    "\n",
    "# Create a dictionary mapping subway lines to their corresponding routes\n",
    "city_sub_line_dict = line_dict(city_sub_routes)\n",
    "\n",
    "# Create a list of all station names in the city's subway network\n",
    "city_all_sub_stations_name = all_station_list(city_sub_stations)\n",
    "\n",
    "# Create a dictionary mapping subway lines to the ordered list of stations on each line\n",
    "city_sub_order_route_dict = order_stations_inline(city_sub_line_dict, city_all_sub_stations_name, city_sub_routes, city_sub_start_station_name_dict)"
   ]
  },
  {
   "cell_type": "code",
   "execution_count": 19,
   "id": "4190950a-c19d-446e-b22a-4359f6820170",
   "metadata": {
    "scrolled": true
   },
   "outputs": [],
   "source": [
    "# city_sub_order_route_dict"
   ]
  },
  {
   "cell_type": "code",
   "execution_count": 20,
   "id": "136cedfc-4bf1-4a58-a020-9d5aae3fb5d2",
   "metadata": {
    "scrolled": true
   },
   "outputs": [],
   "source": [
    "# revise station sequence of 51_1 route\n",
    "df51_1 = pd.read_excel('C:\\\\projects\\\\UTNCE\\\\data\\\\Metro 51 Centraal Station = Isolatorweg.xlsx',header=None)\n",
    "df51_1 = df51_1[0::4].reset_index(drop=True)\n",
    "df51_1.columns = ['name']\n",
    "df51_1.name[9] = 'Zuid' \n",
    "df51_1.name[13] = 'Lelylaan' \n",
    "df51_1.name[16] = 'De Vlugtlaan' \n",
    "\n",
    "df = city_sub_order_route_dict['Metro 51: Centraal Station => Isolatorweg']\n",
    "df_reordered = pd.merge(df51_1,df,on='name')\n",
    "\n",
    "desired_order = ['id', 'name', 'geometry', 'geo_x', 'geo_y']\n",
    "df_reordered = df_reordered[desired_order]\n",
    "\n",
    "key_to_replace = 'Metro 51: Centraal Station => Isolatorweg'\n",
    "city_sub_order_route_dict[key_to_replace] = df_reordered\n",
    "\n",
    "# city_sub_order_route_dict"
   ]
  },
  {
   "cell_type": "code",
   "execution_count": 21,
   "id": "0e78e5fe-4cf0-4913-89a0-f0dbfb3191c5",
   "metadata": {},
   "outputs": [],
   "source": [
    "# revise station sequence of 52 routes\n",
    "df52_metro_1 = city_sub_order_route_dict['Metro 52: Noord => Zuid']\n",
    "df52_metro_2 = city_sub_order_route_dict['Metro 52: Zuid => Noord']\n",
    "\n",
    "df52_metro_1_dep = df52_metro_1[df52_metro_1.name == 'De Pijp'].copy()\n",
    "df52_metro_2_dep = df52_metro_2[df52_metro_2.name == 'De Pijp'].copy()\n",
    "\n",
    "\n",
    "columns_to_swap = ['geometry', 'geo_x', 'geo_y']\n",
    "for column in columns_to_swap:\n",
    "    temp = df52_metro_1_dep[column].copy()\n",
    "    df52_metro_1_dep.loc[df52_metro_1_dep['name'] == 'De Pijp', column] = df52_metro_2_dep.loc[df52_metro_2_dep['name'] == 'De Pijp', column].values\n",
    "    df52_metro_2_dep.loc[df52_metro_2_dep['name'] == 'De Pijp', column] = temp.values\n",
    "\n",
    "df52_metro_1.loc[df52_metro_1['name'] == 'De Pijp', columns_to_swap] = df52_metro_1_dep[columns_to_swap].values\n",
    "df52_metro_2.loc[df52_metro_2['name'] == 'De Pijp', columns_to_swap] = df52_metro_2_dep[columns_to_swap].values\n",
    "\n",
    "# city_sub_order_route_dict"
   ]
  },
  {
   "cell_type": "code",
   "execution_count": 22,
   "id": "f53343dd-a321-4ecd-a9a4-5e801a4289b2",
   "metadata": {
    "scrolled": true
   },
   "outputs": [],
   "source": [
    "# city_sub_order_route_dict"
   ]
  },
  {
   "cell_type": "code",
   "execution_count": 23,
   "id": "35c9a49c-0a68-4415-bbbb-519c7d2c79fd",
   "metadata": {
    "scrolled": true
   },
   "outputs": [],
   "source": [
    "# Create a dictionary mapping subway lines to the pairs of station IDs on each line\n",
    "city_sub_order_id_pairs = id_pairs_inline(city_sub_line_dict, city_sub_order_route_dict, city_sub_nodes)"
   ]
  },
  {
   "cell_type": "code",
   "execution_count": 24,
   "id": "bdc5b51b-7486-4f93-bd86-e82d6efb8029",
   "metadata": {
    "scrolled": true
   },
   "outputs": [],
   "source": [
    "# Create a graph representing the subway network using the extracted undirected edges and nodes\n",
    "G = create_ground_graph(city_sub_edges, city_sub_nodes)\n",
    "\n",
    "# Calculate the shortest path id pairs for each subway line\n",
    "\n",
    "city_sub_all_shortest_paths_id_dict = city_sub_order_id_pairs.copy()\n",
    "\n",
    "\n",
    "for line in city_sub_order_id_pairs.keys():\n",
    "    # Calculate all shortest paths id for the current line using the subway network edges\n",
    "    city_sub_all_shortest_paths_id_dict[line] = all_shortest_path_id_list(G, city_sub_order_id_pairs[line], city_sub_edges)"
   ]
  },
  {
   "cell_type": "code",
   "execution_count": 25,
   "id": "8d5c6b47-3f72-4c8f-a32e-b98a041adb4a",
   "metadata": {
    "scrolled": true
   },
   "outputs": [],
   "source": [
    "# city_sub_all_shortest_paths_id_dict"
   ]
  },
  {
   "cell_type": "code",
   "execution_count": 26,
   "id": "f9746322-1d8d-41ab-9e13-904cf3db5bcc",
   "metadata": {},
   "outputs": [],
   "source": [
    "# city_sub_edges"
   ]
  },
  {
   "cell_type": "code",
   "execution_count": 27,
   "id": "4b8cdd8b-37f4-49c7-ab30-12a2baee1c43",
   "metadata": {},
   "outputs": [],
   "source": [
    "# Obtain the right ordered edges dataframe of metro\n",
    "city_sub_ordered_edges = edges_revise_direction(city_sub_all_shortest_paths_id_dict,city_sub_edges)"
   ]
  },
  {
   "cell_type": "code",
   "execution_count": 28,
   "id": "0569ccbd-00aa-4695-a1b6-3eb6f446e5f2",
   "metadata": {},
   "outputs": [],
   "source": [
    "# city_sub_ordered_edges"
   ]
  },
  {
   "cell_type": "code",
   "execution_count": null,
   "id": "74b8e0c1-ec4f-494f-9f6c-dbf9d3ae8434",
   "metadata": {},
   "outputs": [],
   "source": []
  },
  {
   "cell_type": "code",
   "execution_count": null,
   "id": "ed84c46c-d552-4d7d-b6ae-b7d9bf125bb0",
   "metadata": {},
   "outputs": [],
   "source": []
  },
  {
   "cell_type": "code",
   "execution_count": 29,
   "id": "f24ec9da-dc6e-45d0-a13a-d44d0e8d9474",
   "metadata": {
    "scrolled": true
   },
   "outputs": [],
   "source": [
    "# Create a graph representing the subway network using the directed edges and nodes\n",
    "G = nx.DiGraph()\n",
    "\n",
    "for _, row in city_sub_nodes.iterrows():\n",
    "    node = row['id']  # Assuming 'id' is the node identifier\n",
    "    geometry = row['geometry']\n",
    "    x, y = geometry.x, geometry.y\n",
    "    G.add_node(node, pos=(x, y))\n",
    "    \n",
    "# Extract the edges from the input DataFrame and create a list of tuples with time\n",
    "od = city_sub_ordered_edges[['from_id', 'to_id', 'time', 'weights']]\n",
    "edges_list = []\n",
    "for i, row in od.iterrows():\n",
    "    weight_dict = {\"weight\": row[2]*60}\n",
    "    tuple_row = (row[0], row[1], weight_dict)\n",
    "    edges_list.append(tuple_row)\n",
    "# edges_list\n",
    "G.add_edges_from(edges_list)"
   ]
  },
  {
   "cell_type": "code",
   "execution_count": 30,
   "id": "e02ad956-3a44-4b69-be79-89c3ffe366d2",
   "metadata": {
    "scrolled": true
   },
   "outputs": [],
   "source": [
    "# Calculate the shortest path pairs for each subway line\n",
    "city_sub_shortest_path_pairs_dict = city_sub_order_id_pairs.copy()\n",
    "duplicate_row_count = city_sub_order_id_pairs.copy()\n",
    "city_sub_shortest_path_edges_dict = city_sub_order_id_pairs.copy()\n",
    "city_sub_edges_dict = city_sub_order_id_pairs.copy()\n",
    "\n",
    "for line in city_sub_order_id_pairs.keys():\n",
    "    # Calculate all shortest paths for the current line using the subway network edges\n",
    "    city_sub_shortest_path_pairs_dict[line] = all_shortest_paths(G, city_sub_order_id_pairs[line], city_sub_ordered_edges)\n",
    "\n",
    "    # Count the duplicate rows, calculate the weighted edges for shortest paths,\n",
    "    # and update the subway network edges for the current line\n",
    "    duplicate_row_count[line], city_sub_shortest_path_edges_dict[line], city_sub_edges_dict[line] = edges_with_count_weight(city_sub_shortest_path_pairs_dict[line], city_sub_ordered_edges)\n",
    "    \n",
    "# Plot all subway routes\n",
    "# plot_routes(city_sub_routes, city_sub_ordered_edges, city_sub_shortest_path_edges_dict)"
   ]
  },
  {
   "cell_type": "code",
   "execution_count": 31,
   "id": "eadb94e5-0ac8-4c04-9b08-a1573916f8c7",
   "metadata": {
    "scrolled": true
   },
   "outputs": [],
   "source": [
    "# city_sub_shortest_path_pairs_dict"
   ]
  },
  {
   "cell_type": "markdown",
   "id": "7fe5d225-e17e-4f7f-b010-fd115960e689",
   "metadata": {},
   "source": [
    "## Obtain dataframes of edges,nodes and stations for baseline network of metro"
   ]
  },
  {
   "cell_type": "markdown",
   "id": "117b7912-c595-4975-8ed0-eb0aeaad9170",
   "metadata": {},
   "source": [
    "### Add columns to edges--city_sub_extended_edges"
   ]
  },
  {
   "cell_type": "code",
   "execution_count": 32,
   "id": "5b5191db-bc4e-4329-961c-f52ca3b5e0cd",
   "metadata": {},
   "outputs": [],
   "source": [
    "city_sub_shortest_path_edges = add_ref_to_orderroutes_or_shortestpath_dict(city_sub_shortest_path_edges_dict, city_sub_routes)"
   ]
  },
  {
   "cell_type": "code",
   "execution_count": 33,
   "id": "8e2d205c-2333-412c-993f-4343a3a46964",
   "metadata": {},
   "outputs": [],
   "source": [
    "city_sub_extended_edges = add_columns_to_edges(city_sub_shortest_path_edges_dict,city_sub_ordered_edges)"
   ]
  },
  {
   "cell_type": "code",
   "execution_count": 34,
   "id": "5318f7b2-eb33-4b8d-a34f-0f313d2a7094",
   "metadata": {},
   "outputs": [],
   "source": [
    "# column_to_drop = 'count_weight'\n",
    "# city_sub_extended_edges = city_sub_extended_edges.drop(columns=column_to_drop)"
   ]
  },
  {
   "cell_type": "code",
   "execution_count": 35,
   "id": "83c42e7d-8c68-4d17-aa9c-518eba4d5d78",
   "metadata": {
    "scrolled": true
   },
   "outputs": [
    {
     "data": {
      "text/html": [
       "<div>\n",
       "<style scoped>\n",
       "    .dataframe tbody tr th:only-of-type {\n",
       "        vertical-align: middle;\n",
       "    }\n",
       "\n",
       "    .dataframe tbody tr th {\n",
       "        vertical-align: top;\n",
       "    }\n",
       "\n",
       "    .dataframe thead th {\n",
       "        text-align: right;\n",
       "    }\n",
       "</style>\n",
       "<table border=\"1\" class=\"dataframe\">\n",
       "  <thead>\n",
       "    <tr style=\"text-align: right;\">\n",
       "      <th></th>\n",
       "      <th>osm_id</th>\n",
       "      <th>geometry</th>\n",
       "      <th>railway</th>\n",
       "      <th>service</th>\n",
       "      <th>id</th>\n",
       "      <th>from_id</th>\n",
       "      <th>to_id</th>\n",
       "      <th>distance</th>\n",
       "      <th>time</th>\n",
       "      <th>weights</th>\n",
       "      <th>to_from</th>\n",
       "      <th>from_to</th>\n",
       "      <th>count_weight</th>\n",
       "      <th>route_name_list</th>\n",
       "      <th>route</th>\n",
       "      <th>ref</th>\n",
       "    </tr>\n",
       "  </thead>\n",
       "  <tbody>\n",
       "    <tr>\n",
       "      <th>0</th>\n",
       "      <td>23157994</td>\n",
       "      <td>LINESTRING (4.9236699 52.3361909, 4.9236979 52...</td>\n",
       "      <td>subway</td>\n",
       "      <td>None</td>\n",
       "      <td>0</td>\n",
       "      <td>1</td>\n",
       "      <td>0</td>\n",
       "      <td>258.660599</td>\n",
       "      <td>0.010346</td>\n",
       "      <td>258</td>\n",
       "      <td>(0, 1)</td>\n",
       "      <td>(1, 0)</td>\n",
       "      <td>1.0</td>\n",
       "      <td>Metro 51: Isolatorweg =&gt; Centraal Station</td>\n",
       "      <td>subway</td>\n",
       "      <td>51</td>\n",
       "    </tr>\n",
       "    <tr>\n",
       "      <th>1</th>\n",
       "      <td>23158053</td>\n",
       "      <td>LINESTRING (4.9642294 52.2945339, 4.9644259 52...</td>\n",
       "      <td>subway</td>\n",
       "      <td>None</td>\n",
       "      <td>1</td>\n",
       "      <td>2</td>\n",
       "      <td>3</td>\n",
       "      <td>215.433271</td>\n",
       "      <td>0.008617</td>\n",
       "      <td>215</td>\n",
       "      <td>(3, 2)</td>\n",
       "      <td>(2, 3)</td>\n",
       "      <td>1.0</td>\n",
       "      <td>Metro 50: Isolatorweg =&gt; Gein</td>\n",
       "      <td>subway</td>\n",
       "      <td>50, 54</td>\n",
       "    </tr>\n",
       "    <tr>\n",
       "      <th>2</th>\n",
       "      <td>23158054</td>\n",
       "      <td>LINESTRING (4.9622901 52.2955678, 4.9624673 52...</td>\n",
       "      <td>subway</td>\n",
       "      <td>None</td>\n",
       "      <td>2</td>\n",
       "      <td>4</td>\n",
       "      <td>5</td>\n",
       "      <td>121.794737</td>\n",
       "      <td>0.004872</td>\n",
       "      <td>121</td>\n",
       "      <td>(5, 4)</td>\n",
       "      <td>(4, 5)</td>\n",
       "      <td>1.0</td>\n",
       "      <td>Metro 50: Isolatorweg =&gt; Gein</td>\n",
       "      <td>subway</td>\n",
       "      <td>50, 54</td>\n",
       "    </tr>\n",
       "    <tr>\n",
       "      <th>3</th>\n",
       "      <td>23189033</td>\n",
       "      <td>LINESTRING (4.8467318 52.3952137, 4.8471439 52...</td>\n",
       "      <td>subway</td>\n",
       "      <td>None</td>\n",
       "      <td>3</td>\n",
       "      <td>7</td>\n",
       "      <td>6</td>\n",
       "      <td>28.046592</td>\n",
       "      <td>0.001122</td>\n",
       "      <td>28</td>\n",
       "      <td>(6, 7)</td>\n",
       "      <td>(7, 6)</td>\n",
       "      <td>1.0</td>\n",
       "      <td>Metro 50: Isolatorweg =&gt; Gein</td>\n",
       "      <td>subway</td>\n",
       "      <td>50, 51</td>\n",
       "    </tr>\n",
       "    <tr>\n",
       "      <th>4</th>\n",
       "      <td>23189039</td>\n",
       "      <td>LINESTRING (4.8409161 52.3937679, 4.8416087 52...</td>\n",
       "      <td>subway</td>\n",
       "      <td>None</td>\n",
       "      <td>4</td>\n",
       "      <td>492</td>\n",
       "      <td>8</td>\n",
       "      <td>382.935219</td>\n",
       "      <td>0.015317</td>\n",
       "      <td>382</td>\n",
       "      <td>(8, 492)</td>\n",
       "      <td>(492, 8)</td>\n",
       "      <td>1.0</td>\n",
       "      <td>Metro 50: Isolatorweg =&gt; Gein</td>\n",
       "      <td>subway</td>\n",
       "      <td>50, 51</td>\n",
       "    </tr>\n",
       "    <tr>\n",
       "      <th>...</th>\n",
       "      <td>...</td>\n",
       "      <td>...</td>\n",
       "      <td>...</td>\n",
       "      <td>...</td>\n",
       "      <td>...</td>\n",
       "      <td>...</td>\n",
       "      <td>...</td>\n",
       "      <td>...</td>\n",
       "      <td>...</td>\n",
       "      <td>...</td>\n",
       "      <td>...</td>\n",
       "      <td>...</td>\n",
       "      <td>...</td>\n",
       "      <td>...</td>\n",
       "      <td>...</td>\n",
       "      <td>...</td>\n",
       "    </tr>\n",
       "    <tr>\n",
       "      <th>935</th>\n",
       "      <td>1131538381</td>\n",
       "      <td>LINESTRING (4.9200955 52.3417374, 4.9200444 52...</td>\n",
       "      <td>subway</td>\n",
       "      <td>None</td>\n",
       "      <td>957</td>\n",
       "      <td>803</td>\n",
       "      <td>463</td>\n",
       "      <td>73.656989</td>\n",
       "      <td>0.002946</td>\n",
       "      <td>73</td>\n",
       "      <td>(463, 803)</td>\n",
       "      <td>(803, 463)</td>\n",
       "      <td>1.0</td>\n",
       "      <td>Metro 53: Gaasperplas =&gt; Centraal Station</td>\n",
       "      <td>subway</td>\n",
       "      <td>53, 54</td>\n",
       "    </tr>\n",
       "    <tr>\n",
       "      <th>936</th>\n",
       "      <td>1131538382</td>\n",
       "      <td>LINESTRING (4.9201445 52.3416568, 4.9200955 52...</td>\n",
       "      <td>subway</td>\n",
       "      <td>None</td>\n",
       "      <td>958</td>\n",
       "      <td>462</td>\n",
       "      <td>803</td>\n",
       "      <td>9.568427</td>\n",
       "      <td>0.000383</td>\n",
       "      <td>9</td>\n",
       "      <td>(803, 462)</td>\n",
       "      <td>(462, 803)</td>\n",
       "      <td>1.0</td>\n",
       "      <td>Metro 53: Gaasperplas =&gt; Centraal Station</td>\n",
       "      <td>subway</td>\n",
       "      <td>53, 54</td>\n",
       "    </tr>\n",
       "    <tr>\n",
       "      <th>937</th>\n",
       "      <td>1131538383</td>\n",
       "      <td>LINESTRING (4.9200365 52.3417239, 4.9200773 52...</td>\n",
       "      <td>subway</td>\n",
       "      <td>None</td>\n",
       "      <td>959</td>\n",
       "      <td>246</td>\n",
       "      <td>804</td>\n",
       "      <td>9.568874</td>\n",
       "      <td>0.000383</td>\n",
       "      <td>9</td>\n",
       "      <td>(804, 246)</td>\n",
       "      <td>(246, 804)</td>\n",
       "      <td>1.0</td>\n",
       "      <td>Metro 51: Isolatorweg =&gt; Centraal Station</td>\n",
       "      <td>subway</td>\n",
       "      <td>51</td>\n",
       "    </tr>\n",
       "    <tr>\n",
       "      <th>938</th>\n",
       "      <td>1131538384</td>\n",
       "      <td>LINESTRING (4.9197172 52.3423576, 4.9197589 52...</td>\n",
       "      <td>subway</td>\n",
       "      <td>None</td>\n",
       "      <td>960</td>\n",
       "      <td>804</td>\n",
       "      <td>463</td>\n",
       "      <td>73.789113</td>\n",
       "      <td>0.002952</td>\n",
       "      <td>73</td>\n",
       "      <td>(463, 804)</td>\n",
       "      <td>(804, 463)</td>\n",
       "      <td>1.0</td>\n",
       "      <td>Metro 51: Isolatorweg =&gt; Centraal Station</td>\n",
       "      <td>subway</td>\n",
       "      <td>51</td>\n",
       "    </tr>\n",
       "    <tr>\n",
       "      <th>939</th>\n",
       "      <td>1131538385</td>\n",
       "      <td>LINESTRING (4.9194179 52.3424458, 4.919254 52....</td>\n",
       "      <td>subway</td>\n",
       "      <td>None</td>\n",
       "      <td>961</td>\n",
       "      <td>256</td>\n",
       "      <td>249</td>\n",
       "      <td>40.444210</td>\n",
       "      <td>0.001618</td>\n",
       "      <td>40</td>\n",
       "      <td>(249, 256)</td>\n",
       "      <td>(256, 249)</td>\n",
       "      <td>1.0</td>\n",
       "      <td>Metro 51: Centraal Station =&gt; Isolatorweg</td>\n",
       "      <td>subway</td>\n",
       "      <td>51, 53, 54</td>\n",
       "    </tr>\n",
       "  </tbody>\n",
       "</table>\n",
       "<p>940 rows × 16 columns</p>\n",
       "</div>"
      ],
      "text/plain": [
       "         osm_id                                           geometry railway  \\\n",
       "0      23157994  LINESTRING (4.9236699 52.3361909, 4.9236979 52...  subway   \n",
       "1      23158053  LINESTRING (4.9642294 52.2945339, 4.9644259 52...  subway   \n",
       "2      23158054  LINESTRING (4.9622901 52.2955678, 4.9624673 52...  subway   \n",
       "3      23189033  LINESTRING (4.8467318 52.3952137, 4.8471439 52...  subway   \n",
       "4      23189039  LINESTRING (4.8409161 52.3937679, 4.8416087 52...  subway   \n",
       "..          ...                                                ...     ...   \n",
       "935  1131538381  LINESTRING (4.9200955 52.3417374, 4.9200444 52...  subway   \n",
       "936  1131538382  LINESTRING (4.9201445 52.3416568, 4.9200955 52...  subway   \n",
       "937  1131538383  LINESTRING (4.9200365 52.3417239, 4.9200773 52...  subway   \n",
       "938  1131538384  LINESTRING (4.9197172 52.3423576, 4.9197589 52...  subway   \n",
       "939  1131538385  LINESTRING (4.9194179 52.3424458, 4.919254 52....  subway   \n",
       "\n",
       "    service   id  from_id  to_id    distance      time  weights     to_from  \\\n",
       "0      None    0        1      0  258.660599  0.010346      258      (0, 1)   \n",
       "1      None    1        2      3  215.433271  0.008617      215      (3, 2)   \n",
       "2      None    2        4      5  121.794737  0.004872      121      (5, 4)   \n",
       "3      None    3        7      6   28.046592  0.001122       28      (6, 7)   \n",
       "4      None    4      492      8  382.935219  0.015317      382    (8, 492)   \n",
       "..      ...  ...      ...    ...         ...       ...      ...         ...   \n",
       "935    None  957      803    463   73.656989  0.002946       73  (463, 803)   \n",
       "936    None  958      462    803    9.568427  0.000383        9  (803, 462)   \n",
       "937    None  959      246    804    9.568874  0.000383        9  (804, 246)   \n",
       "938    None  960      804    463   73.789113  0.002952       73  (463, 804)   \n",
       "939    None  961      256    249   40.444210  0.001618       40  (249, 256)   \n",
       "\n",
       "        from_to  count_weight                            route_name_list  \\\n",
       "0        (1, 0)           1.0  Metro 51: Isolatorweg => Centraal Station   \n",
       "1        (2, 3)           1.0              Metro 50: Isolatorweg => Gein   \n",
       "2        (4, 5)           1.0              Metro 50: Isolatorweg => Gein   \n",
       "3        (7, 6)           1.0              Metro 50: Isolatorweg => Gein   \n",
       "4      (492, 8)           1.0              Metro 50: Isolatorweg => Gein   \n",
       "..          ...           ...                                        ...   \n",
       "935  (803, 463)           1.0  Metro 53: Gaasperplas => Centraal Station   \n",
       "936  (462, 803)           1.0  Metro 53: Gaasperplas => Centraal Station   \n",
       "937  (246, 804)           1.0  Metro 51: Isolatorweg => Centraal Station   \n",
       "938  (804, 463)           1.0  Metro 51: Isolatorweg => Centraal Station   \n",
       "939  (256, 249)           1.0  Metro 51: Centraal Station => Isolatorweg   \n",
       "\n",
       "      route         ref  \n",
       "0    subway          51  \n",
       "1    subway      50, 54  \n",
       "2    subway      50, 54  \n",
       "3    subway      50, 51  \n",
       "4    subway      50, 51  \n",
       "..      ...         ...  \n",
       "935  subway      53, 54  \n",
       "936  subway      53, 54  \n",
       "937  subway          51  \n",
       "938  subway          51  \n",
       "939  subway  51, 53, 54  \n",
       "\n",
       "[940 rows x 16 columns]"
      ]
     },
     "execution_count": 35,
     "metadata": {},
     "output_type": "execute_result"
    }
   ],
   "source": [
    "city_sub_extended_edges"
   ]
  },
  {
   "cell_type": "markdown",
   "id": "0d932468-e424-4d29-8530-d91399343535",
   "metadata": {},
   "source": [
    "### Organize edges dataframe for baseline network--city_sub_new_edges"
   ]
  },
  {
   "cell_type": "code",
   "execution_count": 36,
   "id": "8683bcc8-1ee6-46b0-a4c4-415ca8eb0998",
   "metadata": {},
   "outputs": [],
   "source": [
    "city_sub_shortest_path_edges_df = pd.concat(city_sub_shortest_path_edges_dict.values()).reset_index(drop=True)\n",
    "city_sub_shortest_path_edges_df.drop_duplicates(subset='geometry',inplace=True,ignore_index=True)"
   ]
  },
  {
   "cell_type": "code",
   "execution_count": 37,
   "id": "e5eb7851-7c01-414f-aca5-93b9c9f0bc13",
   "metadata": {},
   "outputs": [],
   "source": [
    "# city_sub_shortest_path_edges_df"
   ]
  },
  {
   "cell_type": "code",
   "execution_count": 38,
   "id": "c5f7e625-86ff-486d-a735-180947d5ecc2",
   "metadata": {},
   "outputs": [],
   "source": [
    "city_sub_new_edges = pd.merge(city_sub_extended_edges,city_sub_shortest_path_edges_df.geometry,on='geometry',how='inner')"
   ]
  },
  {
   "cell_type": "code",
   "execution_count": 39,
   "id": "def2fe4b-53f5-49ce-a91e-69a832f8c7dc",
   "metadata": {},
   "outputs": [
    {
     "data": {
      "text/html": [
       "<div>\n",
       "<style scoped>\n",
       "    .dataframe tbody tr th:only-of-type {\n",
       "        vertical-align: middle;\n",
       "    }\n",
       "\n",
       "    .dataframe tbody tr th {\n",
       "        vertical-align: top;\n",
       "    }\n",
       "\n",
       "    .dataframe thead th {\n",
       "        text-align: right;\n",
       "    }\n",
       "</style>\n",
       "<table border=\"1\" class=\"dataframe\">\n",
       "  <thead>\n",
       "    <tr style=\"text-align: right;\">\n",
       "      <th></th>\n",
       "      <th>osm_id</th>\n",
       "      <th>geometry</th>\n",
       "      <th>railway</th>\n",
       "      <th>service</th>\n",
       "      <th>id</th>\n",
       "      <th>from_id</th>\n",
       "      <th>to_id</th>\n",
       "      <th>distance</th>\n",
       "      <th>time</th>\n",
       "      <th>weights</th>\n",
       "      <th>to_from</th>\n",
       "      <th>from_to</th>\n",
       "      <th>count_weight</th>\n",
       "      <th>route_name_list</th>\n",
       "      <th>route</th>\n",
       "      <th>ref</th>\n",
       "    </tr>\n",
       "  </thead>\n",
       "  <tbody>\n",
       "    <tr>\n",
       "      <th>0</th>\n",
       "      <td>23157994</td>\n",
       "      <td>LINESTRING (4.9236699 52.3361909, 4.9236979 52...</td>\n",
       "      <td>subway</td>\n",
       "      <td>None</td>\n",
       "      <td>0</td>\n",
       "      <td>1</td>\n",
       "      <td>0</td>\n",
       "      <td>258.660599</td>\n",
       "      <td>0.010346</td>\n",
       "      <td>258</td>\n",
       "      <td>(0, 1)</td>\n",
       "      <td>(1, 0)</td>\n",
       "      <td>1.0</td>\n",
       "      <td>Metro 51: Isolatorweg =&gt; Centraal Station</td>\n",
       "      <td>subway</td>\n",
       "      <td>51</td>\n",
       "    </tr>\n",
       "    <tr>\n",
       "      <th>1</th>\n",
       "      <td>23158053</td>\n",
       "      <td>LINESTRING (4.9642294 52.2945339, 4.9644259 52...</td>\n",
       "      <td>subway</td>\n",
       "      <td>None</td>\n",
       "      <td>1</td>\n",
       "      <td>2</td>\n",
       "      <td>3</td>\n",
       "      <td>215.433271</td>\n",
       "      <td>0.008617</td>\n",
       "      <td>215</td>\n",
       "      <td>(3, 2)</td>\n",
       "      <td>(2, 3)</td>\n",
       "      <td>1.0</td>\n",
       "      <td>Metro 50: Isolatorweg =&gt; Gein</td>\n",
       "      <td>subway</td>\n",
       "      <td>50, 54</td>\n",
       "    </tr>\n",
       "    <tr>\n",
       "      <th>2</th>\n",
       "      <td>23158054</td>\n",
       "      <td>LINESTRING (4.9622901 52.2955678, 4.9624673 52...</td>\n",
       "      <td>subway</td>\n",
       "      <td>None</td>\n",
       "      <td>2</td>\n",
       "      <td>4</td>\n",
       "      <td>5</td>\n",
       "      <td>121.794737</td>\n",
       "      <td>0.004872</td>\n",
       "      <td>121</td>\n",
       "      <td>(5, 4)</td>\n",
       "      <td>(4, 5)</td>\n",
       "      <td>1.0</td>\n",
       "      <td>Metro 50: Isolatorweg =&gt; Gein</td>\n",
       "      <td>subway</td>\n",
       "      <td>50, 54</td>\n",
       "    </tr>\n",
       "    <tr>\n",
       "      <th>3</th>\n",
       "      <td>23189033</td>\n",
       "      <td>LINESTRING (4.8467318 52.3952137, 4.8471439 52...</td>\n",
       "      <td>subway</td>\n",
       "      <td>None</td>\n",
       "      <td>3</td>\n",
       "      <td>7</td>\n",
       "      <td>6</td>\n",
       "      <td>28.046592</td>\n",
       "      <td>0.001122</td>\n",
       "      <td>28</td>\n",
       "      <td>(6, 7)</td>\n",
       "      <td>(7, 6)</td>\n",
       "      <td>1.0</td>\n",
       "      <td>Metro 50: Isolatorweg =&gt; Gein</td>\n",
       "      <td>subway</td>\n",
       "      <td>50, 51</td>\n",
       "    </tr>\n",
       "    <tr>\n",
       "      <th>4</th>\n",
       "      <td>23189039</td>\n",
       "      <td>LINESTRING (4.8409161 52.3937679, 4.8416087 52...</td>\n",
       "      <td>subway</td>\n",
       "      <td>None</td>\n",
       "      <td>4</td>\n",
       "      <td>492</td>\n",
       "      <td>8</td>\n",
       "      <td>382.935219</td>\n",
       "      <td>0.015317</td>\n",
       "      <td>382</td>\n",
       "      <td>(8, 492)</td>\n",
       "      <td>(492, 8)</td>\n",
       "      <td>1.0</td>\n",
       "      <td>Metro 50: Isolatorweg =&gt; Gein</td>\n",
       "      <td>subway</td>\n",
       "      <td>50, 51</td>\n",
       "    </tr>\n",
       "    <tr>\n",
       "      <th>...</th>\n",
       "      <td>...</td>\n",
       "      <td>...</td>\n",
       "      <td>...</td>\n",
       "      <td>...</td>\n",
       "      <td>...</td>\n",
       "      <td>...</td>\n",
       "      <td>...</td>\n",
       "      <td>...</td>\n",
       "      <td>...</td>\n",
       "      <td>...</td>\n",
       "      <td>...</td>\n",
       "      <td>...</td>\n",
       "      <td>...</td>\n",
       "      <td>...</td>\n",
       "      <td>...</td>\n",
       "      <td>...</td>\n",
       "    </tr>\n",
       "    <tr>\n",
       "      <th>631</th>\n",
       "      <td>1131538381</td>\n",
       "      <td>LINESTRING (4.9200955 52.3417374, 4.9200444 52...</td>\n",
       "      <td>subway</td>\n",
       "      <td>None</td>\n",
       "      <td>957</td>\n",
       "      <td>803</td>\n",
       "      <td>463</td>\n",
       "      <td>73.656989</td>\n",
       "      <td>0.002946</td>\n",
       "      <td>73</td>\n",
       "      <td>(463, 803)</td>\n",
       "      <td>(803, 463)</td>\n",
       "      <td>1.0</td>\n",
       "      <td>Metro 53: Gaasperplas =&gt; Centraal Station</td>\n",
       "      <td>subway</td>\n",
       "      <td>53, 54</td>\n",
       "    </tr>\n",
       "    <tr>\n",
       "      <th>632</th>\n",
       "      <td>1131538382</td>\n",
       "      <td>LINESTRING (4.9201445 52.3416568, 4.9200955 52...</td>\n",
       "      <td>subway</td>\n",
       "      <td>None</td>\n",
       "      <td>958</td>\n",
       "      <td>462</td>\n",
       "      <td>803</td>\n",
       "      <td>9.568427</td>\n",
       "      <td>0.000383</td>\n",
       "      <td>9</td>\n",
       "      <td>(803, 462)</td>\n",
       "      <td>(462, 803)</td>\n",
       "      <td>1.0</td>\n",
       "      <td>Metro 53: Gaasperplas =&gt; Centraal Station</td>\n",
       "      <td>subway</td>\n",
       "      <td>53, 54</td>\n",
       "    </tr>\n",
       "    <tr>\n",
       "      <th>633</th>\n",
       "      <td>1131538383</td>\n",
       "      <td>LINESTRING (4.9200365 52.3417239, 4.9200773 52...</td>\n",
       "      <td>subway</td>\n",
       "      <td>None</td>\n",
       "      <td>959</td>\n",
       "      <td>246</td>\n",
       "      <td>804</td>\n",
       "      <td>9.568874</td>\n",
       "      <td>0.000383</td>\n",
       "      <td>9</td>\n",
       "      <td>(804, 246)</td>\n",
       "      <td>(246, 804)</td>\n",
       "      <td>1.0</td>\n",
       "      <td>Metro 51: Isolatorweg =&gt; Centraal Station</td>\n",
       "      <td>subway</td>\n",
       "      <td>51</td>\n",
       "    </tr>\n",
       "    <tr>\n",
       "      <th>634</th>\n",
       "      <td>1131538384</td>\n",
       "      <td>LINESTRING (4.9197172 52.3423576, 4.9197589 52...</td>\n",
       "      <td>subway</td>\n",
       "      <td>None</td>\n",
       "      <td>960</td>\n",
       "      <td>804</td>\n",
       "      <td>463</td>\n",
       "      <td>73.789113</td>\n",
       "      <td>0.002952</td>\n",
       "      <td>73</td>\n",
       "      <td>(463, 804)</td>\n",
       "      <td>(804, 463)</td>\n",
       "      <td>1.0</td>\n",
       "      <td>Metro 51: Isolatorweg =&gt; Centraal Station</td>\n",
       "      <td>subway</td>\n",
       "      <td>51</td>\n",
       "    </tr>\n",
       "    <tr>\n",
       "      <th>635</th>\n",
       "      <td>1131538385</td>\n",
       "      <td>LINESTRING (4.9194179 52.3424458, 4.919254 52....</td>\n",
       "      <td>subway</td>\n",
       "      <td>None</td>\n",
       "      <td>961</td>\n",
       "      <td>256</td>\n",
       "      <td>249</td>\n",
       "      <td>40.444210</td>\n",
       "      <td>0.001618</td>\n",
       "      <td>40</td>\n",
       "      <td>(249, 256)</td>\n",
       "      <td>(256, 249)</td>\n",
       "      <td>1.0</td>\n",
       "      <td>Metro 51: Centraal Station =&gt; Isolatorweg</td>\n",
       "      <td>subway</td>\n",
       "      <td>51, 53, 54</td>\n",
       "    </tr>\n",
       "  </tbody>\n",
       "</table>\n",
       "<p>636 rows × 16 columns</p>\n",
       "</div>"
      ],
      "text/plain": [
       "         osm_id                                           geometry railway  \\\n",
       "0      23157994  LINESTRING (4.9236699 52.3361909, 4.9236979 52...  subway   \n",
       "1      23158053  LINESTRING (4.9642294 52.2945339, 4.9644259 52...  subway   \n",
       "2      23158054  LINESTRING (4.9622901 52.2955678, 4.9624673 52...  subway   \n",
       "3      23189033  LINESTRING (4.8467318 52.3952137, 4.8471439 52...  subway   \n",
       "4      23189039  LINESTRING (4.8409161 52.3937679, 4.8416087 52...  subway   \n",
       "..          ...                                                ...     ...   \n",
       "631  1131538381  LINESTRING (4.9200955 52.3417374, 4.9200444 52...  subway   \n",
       "632  1131538382  LINESTRING (4.9201445 52.3416568, 4.9200955 52...  subway   \n",
       "633  1131538383  LINESTRING (4.9200365 52.3417239, 4.9200773 52...  subway   \n",
       "634  1131538384  LINESTRING (4.9197172 52.3423576, 4.9197589 52...  subway   \n",
       "635  1131538385  LINESTRING (4.9194179 52.3424458, 4.919254 52....  subway   \n",
       "\n",
       "    service   id  from_id  to_id    distance      time  weights     to_from  \\\n",
       "0      None    0        1      0  258.660599  0.010346      258      (0, 1)   \n",
       "1      None    1        2      3  215.433271  0.008617      215      (3, 2)   \n",
       "2      None    2        4      5  121.794737  0.004872      121      (5, 4)   \n",
       "3      None    3        7      6   28.046592  0.001122       28      (6, 7)   \n",
       "4      None    4      492      8  382.935219  0.015317      382    (8, 492)   \n",
       "..      ...  ...      ...    ...         ...       ...      ...         ...   \n",
       "631    None  957      803    463   73.656989  0.002946       73  (463, 803)   \n",
       "632    None  958      462    803    9.568427  0.000383        9  (803, 462)   \n",
       "633    None  959      246    804    9.568874  0.000383        9  (804, 246)   \n",
       "634    None  960      804    463   73.789113  0.002952       73  (463, 804)   \n",
       "635    None  961      256    249   40.444210  0.001618       40  (249, 256)   \n",
       "\n",
       "        from_to  count_weight                            route_name_list  \\\n",
       "0        (1, 0)           1.0  Metro 51: Isolatorweg => Centraal Station   \n",
       "1        (2, 3)           1.0              Metro 50: Isolatorweg => Gein   \n",
       "2        (4, 5)           1.0              Metro 50: Isolatorweg => Gein   \n",
       "3        (7, 6)           1.0              Metro 50: Isolatorweg => Gein   \n",
       "4      (492, 8)           1.0              Metro 50: Isolatorweg => Gein   \n",
       "..          ...           ...                                        ...   \n",
       "631  (803, 463)           1.0  Metro 53: Gaasperplas => Centraal Station   \n",
       "632  (462, 803)           1.0  Metro 53: Gaasperplas => Centraal Station   \n",
       "633  (246, 804)           1.0  Metro 51: Isolatorweg => Centraal Station   \n",
       "634  (804, 463)           1.0  Metro 51: Isolatorweg => Centraal Station   \n",
       "635  (256, 249)           1.0  Metro 51: Centraal Station => Isolatorweg   \n",
       "\n",
       "      route         ref  \n",
       "0    subway          51  \n",
       "1    subway      50, 54  \n",
       "2    subway      50, 54  \n",
       "3    subway      50, 51  \n",
       "4    subway      50, 51  \n",
       "..      ...         ...  \n",
       "631  subway      53, 54  \n",
       "632  subway      53, 54  \n",
       "633  subway          51  \n",
       "634  subway          51  \n",
       "635  subway  51, 53, 54  \n",
       "\n",
       "[636 rows x 16 columns]"
      ]
     },
     "execution_count": 39,
     "metadata": {},
     "output_type": "execute_result"
    }
   ],
   "source": [
    "city_sub_new_edges"
   ]
  },
  {
   "cell_type": "markdown",
   "id": "0b105041-67c1-4448-866b-c3d358f0640a",
   "metadata": {},
   "source": [
    "### Organize nodes dataframe for baseline network--city_sub_new_nodes"
   ]
  },
  {
   "cell_type": "code",
   "execution_count": 40,
   "id": "07f1be38-3645-4e06-b467-fdae2780e43e",
   "metadata": {
    "scrolled": true
   },
   "outputs": [],
   "source": [
    "city_sub_shortest_path_nodes_id = pd.DataFrame(list(city_sub_new_edges['from_id'])+list(city_sub_new_edges['to_id'])).drop_duplicates(ignore_index = True)"
   ]
  },
  {
   "cell_type": "code",
   "execution_count": 41,
   "id": "322bfb22-1374-4479-a0d3-c03f1c73e1d0",
   "metadata": {
    "scrolled": true
   },
   "outputs": [],
   "source": [
    "city_sub_shortest_path_nodes_id = city_sub_shortest_path_nodes_id.rename(columns={0:'id'})"
   ]
  },
  {
   "cell_type": "code",
   "execution_count": 42,
   "id": "0ac53395-d5b3-4099-a72f-3f8176946845",
   "metadata": {},
   "outputs": [],
   "source": [
    "# city_sub_shortest_path_nodes_id"
   ]
  },
  {
   "cell_type": "code",
   "execution_count": 43,
   "id": "70e5ac6c-370d-435b-af29-fe0cdf66eafa",
   "metadata": {},
   "outputs": [],
   "source": [
    "city_sub_new_nodes = pd.merge(city_sub_shortest_path_nodes_id,city_sub_nodes,on='id',how='left').reset_index(drop=True)"
   ]
  },
  {
   "cell_type": "code",
   "execution_count": 44,
   "id": "342c2f37-6059-4c78-beb4-c44bbd3f0949",
   "metadata": {},
   "outputs": [
    {
     "data": {
      "text/html": [
       "<div>\n",
       "<style scoped>\n",
       "    .dataframe tbody tr th:only-of-type {\n",
       "        vertical-align: middle;\n",
       "    }\n",
       "\n",
       "    .dataframe tbody tr th {\n",
       "        vertical-align: top;\n",
       "    }\n",
       "\n",
       "    .dataframe thead th {\n",
       "        text-align: right;\n",
       "    }\n",
       "</style>\n",
       "<table border=\"1\" class=\"dataframe\">\n",
       "  <thead>\n",
       "    <tr style=\"text-align: right;\">\n",
       "      <th></th>\n",
       "      <th>id</th>\n",
       "      <th>geometry</th>\n",
       "      <th>degree</th>\n",
       "    </tr>\n",
       "  </thead>\n",
       "  <tbody>\n",
       "    <tr>\n",
       "      <th>0</th>\n",
       "      <td>1</td>\n",
       "      <td>POINT (4.9232197 52.3339159)</td>\n",
       "      <td>2</td>\n",
       "    </tr>\n",
       "    <tr>\n",
       "      <th>1</th>\n",
       "      <td>2</td>\n",
       "      <td>POINT (4.9642294 52.2945339)</td>\n",
       "      <td>2</td>\n",
       "    </tr>\n",
       "    <tr>\n",
       "      <th>2</th>\n",
       "      <td>4</td>\n",
       "      <td>POINT (4.9622901 52.2955678)</td>\n",
       "      <td>2</td>\n",
       "    </tr>\n",
       "    <tr>\n",
       "      <th>3</th>\n",
       "      <td>7</td>\n",
       "      <td>POINT (4.8471439 52.3952143)</td>\n",
       "      <td>2</td>\n",
       "    </tr>\n",
       "    <tr>\n",
       "      <th>4</th>\n",
       "      <td>492</td>\n",
       "      <td>POINT (4.8457805 52.395217)</td>\n",
       "      <td>3</td>\n",
       "    </tr>\n",
       "    <tr>\n",
       "      <th>...</th>\n",
       "      <td>...</td>\n",
       "      <td>...</td>\n",
       "      <td>...</td>\n",
       "    </tr>\n",
       "    <tr>\n",
       "      <th>633</th>\n",
       "      <td>805</td>\n",
       "      <td>POINT (4.8505958 52.3951031)</td>\n",
       "      <td>2</td>\n",
       "    </tr>\n",
       "    <tr>\n",
       "      <th>634</th>\n",
       "      <td>323</td>\n",
       "      <td>POINT (4.989299 52.2962711)</td>\n",
       "      <td>2</td>\n",
       "    </tr>\n",
       "    <tr>\n",
       "      <th>635</th>\n",
       "      <td>180</td>\n",
       "      <td>POINT (4.8772326 52.3393181)</td>\n",
       "      <td>3</td>\n",
       "    </tr>\n",
       "    <tr>\n",
       "      <th>636</th>\n",
       "      <td>728</td>\n",
       "      <td>POINT (4.9010471 52.3775081)</td>\n",
       "      <td>2</td>\n",
       "    </tr>\n",
       "    <tr>\n",
       "      <th>637</th>\n",
       "      <td>716</td>\n",
       "      <td>POINT (4.932585 52.4020575)</td>\n",
       "      <td>2</td>\n",
       "    </tr>\n",
       "  </tbody>\n",
       "</table>\n",
       "<p>638 rows × 3 columns</p>\n",
       "</div>"
      ],
      "text/plain": [
       "      id                      geometry  degree\n",
       "0      1  POINT (4.9232197 52.3339159)       2\n",
       "1      2  POINT (4.9642294 52.2945339)       2\n",
       "2      4  POINT (4.9622901 52.2955678)       2\n",
       "3      7  POINT (4.8471439 52.3952143)       2\n",
       "4    492   POINT (4.8457805 52.395217)       3\n",
       "..   ...                           ...     ...\n",
       "633  805  POINT (4.8505958 52.3951031)       2\n",
       "634  323   POINT (4.989299 52.2962711)       2\n",
       "635  180  POINT (4.8772326 52.3393181)       3\n",
       "636  728  POINT (4.9010471 52.3775081)       2\n",
       "637  716   POINT (4.932585 52.4020575)       2\n",
       "\n",
       "[638 rows x 3 columns]"
      ]
     },
     "execution_count": 44,
     "metadata": {},
     "output_type": "execute_result"
    }
   ],
   "source": [
    "city_sub_new_nodes"
   ]
  },
  {
   "cell_type": "markdown",
   "id": "571f11cd-82aa-46bf-ab17-e6cf2fa816f0",
   "metadata": {},
   "source": [
    "### Add columns to stations--city_sub_new_staions"
   ]
  },
  {
   "cell_type": "code",
   "execution_count": 45,
   "id": "e955a1c3-691b-42b3-a13c-05358412fb29",
   "metadata": {},
   "outputs": [],
   "source": [
    "city_sub_order_route_dict = add_ref_to_orderroutes_or_shortestpath_dict(city_sub_order_route_dict, city_sub_routes)"
   ]
  },
  {
   "cell_type": "code",
   "execution_count": 46,
   "id": "7ed242c9-5c83-46ff-90f5-6f218926d467",
   "metadata": {},
   "outputs": [],
   "source": [
    "city_sub_new_stations = add_columns_to_nodes(city_sub_order_route_dict, city_sub_new_nodes)"
   ]
  },
  {
   "cell_type": "code",
   "execution_count": 47,
   "id": "43e82036-790c-4ead-ac55-fbd7b9f70fb7",
   "metadata": {
    "scrolled": true
   },
   "outputs": [
    {
     "data": {
      "text/html": [
       "<div>\n",
       "<style scoped>\n",
       "    .dataframe tbody tr th:only-of-type {\n",
       "        vertical-align: middle;\n",
       "    }\n",
       "\n",
       "    .dataframe tbody tr th {\n",
       "        vertical-align: top;\n",
       "    }\n",
       "\n",
       "    .dataframe thead th {\n",
       "        text-align: right;\n",
       "    }\n",
       "</style>\n",
       "<table border=\"1\" class=\"dataframe\">\n",
       "  <thead>\n",
       "    <tr style=\"text-align: right;\">\n",
       "      <th></th>\n",
       "      <th>id</th>\n",
       "      <th>geometry</th>\n",
       "      <th>degree</th>\n",
       "      <th>name</th>\n",
       "      <th>geo_x</th>\n",
       "      <th>geo_y</th>\n",
       "      <th>coordinate_value</th>\n",
       "      <th>route_name_list</th>\n",
       "      <th>route</th>\n",
       "      <th>ref</th>\n",
       "      <th>transfer</th>\n",
       "    </tr>\n",
       "  </thead>\n",
       "  <tbody>\n",
       "    <tr>\n",
       "      <th>0</th>\n",
       "      <td>328</td>\n",
       "      <td>POINT (4.98916 52.29641)</td>\n",
       "      <td>2</td>\n",
       "      <td>Gein</td>\n",
       "      <td>4.989161</td>\n",
       "      <td>52.296407</td>\n",
       "      <td>(4.9891612, 52.2964067)</td>\n",
       "      <td>Metro 50: Gein =&gt; Isolatorweg</td>\n",
       "      <td>subway</td>\n",
       "      <td>50, 54</td>\n",
       "      <td>50, 54</td>\n",
       "    </tr>\n",
       "    <tr>\n",
       "      <th>1</th>\n",
       "      <td>855</td>\n",
       "      <td>POINT (4.97400 52.29564)</td>\n",
       "      <td>2</td>\n",
       "      <td>Reigersbos</td>\n",
       "      <td>4.974000</td>\n",
       "      <td>52.295637</td>\n",
       "      <td>(4.9740002, 52.2956365)</td>\n",
       "      <td>Metro 50: Gein =&gt; Isolatorweg</td>\n",
       "      <td>subway</td>\n",
       "      <td>50, 54</td>\n",
       "      <td>50, 54</td>\n",
       "    </tr>\n",
       "    <tr>\n",
       "      <th>2</th>\n",
       "      <td>854</td>\n",
       "      <td>POINT (4.96013 52.29813)</td>\n",
       "      <td>2</td>\n",
       "      <td>Holendrecht</td>\n",
       "      <td>4.960126</td>\n",
       "      <td>52.298132</td>\n",
       "      <td>(4.9601264, 52.2981319)</td>\n",
       "      <td>Metro 50: Gein =&gt; Isolatorweg</td>\n",
       "      <td>subway</td>\n",
       "      <td>50, 54</td>\n",
       "      <td>50, 54</td>\n",
       "    </tr>\n",
       "    <tr>\n",
       "      <th>3</th>\n",
       "      <td>810</td>\n",
       "      <td>POINT (4.95213 52.30687)</td>\n",
       "      <td>2</td>\n",
       "      <td>Bullewijk</td>\n",
       "      <td>4.952129</td>\n",
       "      <td>52.306869</td>\n",
       "      <td>(4.9521292, 52.306869)</td>\n",
       "      <td>Metro 50: Gein =&gt; Isolatorweg</td>\n",
       "      <td>subway</td>\n",
       "      <td>50, 54</td>\n",
       "      <td>50, 54</td>\n",
       "    </tr>\n",
       "    <tr>\n",
       "      <th>4</th>\n",
       "      <td>809</td>\n",
       "      <td>POINT (4.94762 52.31181)</td>\n",
       "      <td>2</td>\n",
       "      <td>Bijlmer ArenA</td>\n",
       "      <td>4.947618</td>\n",
       "      <td>52.311806</td>\n",
       "      <td>(4.9476178, 52.311806)</td>\n",
       "      <td>Metro 50: Gein =&gt; Isolatorweg</td>\n",
       "      <td>subway</td>\n",
       "      <td>50, 54</td>\n",
       "      <td>50, 54</td>\n",
       "    </tr>\n",
       "    <tr>\n",
       "      <th>...</th>\n",
       "      <td>...</td>\n",
       "      <td>...</td>\n",
       "      <td>...</td>\n",
       "      <td>...</td>\n",
       "      <td>...</td>\n",
       "      <td>...</td>\n",
       "      <td>...</td>\n",
       "      <td>...</td>\n",
       "      <td>...</td>\n",
       "      <td>...</td>\n",
       "      <td>...</td>\n",
       "    </tr>\n",
       "    <tr>\n",
       "      <th>82</th>\n",
       "      <td>824</td>\n",
       "      <td>POINT (4.96734 52.32837)</td>\n",
       "      <td>2</td>\n",
       "      <td>Verrijn Stuartweg</td>\n",
       "      <td>4.967335</td>\n",
       "      <td>52.328367</td>\n",
       "      <td>(4.9673352, 52.3283668)</td>\n",
       "      <td>Metro 53: Gaasperplas =&gt; Centraal Station</td>\n",
       "      <td>subway</td>\n",
       "      <td>53</td>\n",
       "      <td>None</td>\n",
       "    </tr>\n",
       "    <tr>\n",
       "      <th>83</th>\n",
       "      <td>823</td>\n",
       "      <td>POINT (4.95669 52.33041)</td>\n",
       "      <td>2</td>\n",
       "      <td>Station Diemen Zuid</td>\n",
       "      <td>4.956688</td>\n",
       "      <td>52.330406</td>\n",
       "      <td>(4.9566878, 52.3304057)</td>\n",
       "      <td>Metro 53: Gaasperplas =&gt; Centraal Station</td>\n",
       "      <td>subway</td>\n",
       "      <td>53</td>\n",
       "      <td>None</td>\n",
       "    </tr>\n",
       "    <tr>\n",
       "      <th>84</th>\n",
       "      <td>829</td>\n",
       "      <td>POINT (4.94628 52.32683)</td>\n",
       "      <td>2</td>\n",
       "      <td>Venserpolder</td>\n",
       "      <td>4.946277</td>\n",
       "      <td>52.326833</td>\n",
       "      <td>(4.9462773, 52.3268326)</td>\n",
       "      <td>Metro 53: Gaasperplas =&gt; Centraal Station</td>\n",
       "      <td>subway</td>\n",
       "      <td>53</td>\n",
       "      <td>None</td>\n",
       "    </tr>\n",
       "    <tr>\n",
       "      <th>85</th>\n",
       "      <td>827</td>\n",
       "      <td>POINT (4.93028 52.32974)</td>\n",
       "      <td>2</td>\n",
       "      <td>Van der Madeweg</td>\n",
       "      <td>4.930285</td>\n",
       "      <td>52.329735</td>\n",
       "      <td>(4.9302846, 52.3297352)</td>\n",
       "      <td>Metro 53: Gaasperplas =&gt; Centraal Station</td>\n",
       "      <td>subway</td>\n",
       "      <td>50, 53, 54</td>\n",
       "      <td>50, 53, 54</td>\n",
       "    </tr>\n",
       "    <tr>\n",
       "      <th>86</th>\n",
       "      <td>833</td>\n",
       "      <td>POINT (4.92105 52.34029)</td>\n",
       "      <td>2</td>\n",
       "      <td>Spaklerweg</td>\n",
       "      <td>4.921045</td>\n",
       "      <td>52.340287</td>\n",
       "      <td>(4.9210454, 52.3402871)</td>\n",
       "      <td>Metro 53: Gaasperplas =&gt; Centraal Station</td>\n",
       "      <td>subway</td>\n",
       "      <td>51, 53, 54</td>\n",
       "      <td>51, 53, 54</td>\n",
       "    </tr>\n",
       "  </tbody>\n",
       "</table>\n",
       "<p>87 rows × 11 columns</p>\n",
       "</div>"
      ],
      "text/plain": [
       "     id                  geometry  degree                 name     geo_x  \\\n",
       "0   328  POINT (4.98916 52.29641)       2                 Gein  4.989161   \n",
       "1   855  POINT (4.97400 52.29564)       2           Reigersbos  4.974000   \n",
       "2   854  POINT (4.96013 52.29813)       2          Holendrecht  4.960126   \n",
       "3   810  POINT (4.95213 52.30687)       2            Bullewijk  4.952129   \n",
       "4   809  POINT (4.94762 52.31181)       2        Bijlmer ArenA  4.947618   \n",
       "..  ...                       ...     ...                  ...       ...   \n",
       "82  824  POINT (4.96734 52.32837)       2    Verrijn Stuartweg  4.967335   \n",
       "83  823  POINT (4.95669 52.33041)       2  Station Diemen Zuid  4.956688   \n",
       "84  829  POINT (4.94628 52.32683)       2         Venserpolder  4.946277   \n",
       "85  827  POINT (4.93028 52.32974)       2      Van der Madeweg  4.930285   \n",
       "86  833  POINT (4.92105 52.34029)       2           Spaklerweg  4.921045   \n",
       "\n",
       "        geo_y         coordinate_value  \\\n",
       "0   52.296407  (4.9891612, 52.2964067)   \n",
       "1   52.295637  (4.9740002, 52.2956365)   \n",
       "2   52.298132  (4.9601264, 52.2981319)   \n",
       "3   52.306869   (4.9521292, 52.306869)   \n",
       "4   52.311806   (4.9476178, 52.311806)   \n",
       "..        ...                      ...   \n",
       "82  52.328367  (4.9673352, 52.3283668)   \n",
       "83  52.330406  (4.9566878, 52.3304057)   \n",
       "84  52.326833  (4.9462773, 52.3268326)   \n",
       "85  52.329735  (4.9302846, 52.3297352)   \n",
       "86  52.340287  (4.9210454, 52.3402871)   \n",
       "\n",
       "                              route_name_list   route         ref    transfer  \n",
       "0               Metro 50: Gein => Isolatorweg  subway      50, 54      50, 54  \n",
       "1               Metro 50: Gein => Isolatorweg  subway      50, 54      50, 54  \n",
       "2               Metro 50: Gein => Isolatorweg  subway      50, 54      50, 54  \n",
       "3               Metro 50: Gein => Isolatorweg  subway      50, 54      50, 54  \n",
       "4               Metro 50: Gein => Isolatorweg  subway      50, 54      50, 54  \n",
       "..                                        ...     ...         ...         ...  \n",
       "82  Metro 53: Gaasperplas => Centraal Station  subway          53        None  \n",
       "83  Metro 53: Gaasperplas => Centraal Station  subway          53        None  \n",
       "84  Metro 53: Gaasperplas => Centraal Station  subway          53        None  \n",
       "85  Metro 53: Gaasperplas => Centraal Station  subway  50, 53, 54  50, 53, 54  \n",
       "86  Metro 53: Gaasperplas => Centraal Station  subway  51, 53, 54  51, 53, 54  \n",
       "\n",
       "[87 rows x 11 columns]"
      ]
     },
     "execution_count": 47,
     "metadata": {},
     "output_type": "execute_result"
    }
   ],
   "source": [
    "city_sub_new_stations"
   ]
  },
  {
   "cell_type": "markdown",
   "id": "1a7a531c-6dd4-4bfe-81a6-c6fe544172f1",
   "metadata": {},
   "source": [
    "# Tram-Amsterdam"
   ]
  },
  {
   "cell_type": "markdown",
   "id": "930c66b6-4c8d-444c-b3b5-e44e53bb7828",
   "metadata": {},
   "source": [
    "## Generate Baseline Networks"
   ]
  },
  {
   "cell_type": "code",
   "execution_count": 48,
   "id": "f6783039-9d5d-4ae3-8a79-95607bb8c7da",
   "metadata": {},
   "outputs": [
    {
     "name": "stderr",
     "output_type": "stream",
     "text": [
      "endpoints: 100%|████████████████████████████████████████████████████████████████| 1562/1562 [00:00<00:00, 21402.73it/s]\n",
      "endpoints: 100%|████████████████████████████████████████████████████████████████| 2204/2204 [00:00<00:00, 26432.90it/s]\n",
      "topology: 100%|██████████████████████████████████████████████████████████████████| 2204/2204 [00:00<00:00, 4005.22it/s]\n"
     ]
    },
    {
     "name": "stdout",
     "output_type": "stream",
     "text": [
      "Calculate_degree possibly unhappy\n"
     ]
    }
   ],
   "source": [
    "city_tram_stations, edges, nodes, city_tram_routes = prepare_tram(osm_path)"
   ]
  },
  {
   "cell_type": "code",
   "execution_count": 49,
   "id": "eb7f6ba4-bc6f-453f-a40a-0fde1666f3ff",
   "metadata": {},
   "outputs": [],
   "source": [
    "# city_tram_stations"
   ]
  },
  {
   "cell_type": "code",
   "execution_count": 50,
   "id": "98d72383-dbaa-47a4-bb1a-8992e3f98131",
   "metadata": {},
   "outputs": [],
   "source": [
    "id_nodes_length_tram = len(nodes)\n",
    "id_edges_length_tram = len(edges)"
   ]
  },
  {
   "cell_type": "code",
   "execution_count": 51,
   "id": "ee066c9d-9617-4246-827c-caf2ed8f9c71",
   "metadata": {},
   "outputs": [
    {
     "data": {
      "text/plain": [
       "1920"
      ]
     },
     "execution_count": 51,
     "metadata": {},
     "output_type": "execute_result"
    }
   ],
   "source": [
    "id_nodes_length_tram"
   ]
  },
  {
   "cell_type": "code",
   "execution_count": 52,
   "id": "33658240-48ca-4b21-abf5-52e0c9716377",
   "metadata": {},
   "outputs": [
    {
     "data": {
      "text/plain": [
       "2204"
      ]
     },
     "execution_count": 52,
     "metadata": {},
     "output_type": "execute_result"
    }
   ],
   "source": [
    "id_edges_length_tram "
   ]
  },
  {
   "cell_type": "code",
   "execution_count": null,
   "id": "cbdee221-f033-47ce-9db1-4e8f805c6fde",
   "metadata": {},
   "outputs": [],
   "source": []
  },
  {
   "cell_type": "code",
   "execution_count": null,
   "id": "01b9ff86-bf21-4b64-bff6-c18e5383c183",
   "metadata": {},
   "outputs": [],
   "source": []
  },
  {
   "cell_type": "code",
   "execution_count": 53,
   "id": "229445a1-37af-4fc5-8bb8-b863bd44a1af",
   "metadata": {},
   "outputs": [],
   "source": [
    "city_tram_edges = pd.DataFrame(edges.copy())\n",
    "city_tram_nodes = pd.DataFrame(nodes.copy())"
   ]
  },
  {
   "cell_type": "code",
   "execution_count": 54,
   "id": "36121699-ab6b-4f9a-a84d-71a7ea1565d2",
   "metadata": {},
   "outputs": [],
   "source": [
    "# city_tram_edges"
   ]
  },
  {
   "cell_type": "code",
   "execution_count": 55,
   "id": "5846e4b7-1db2-4fa9-950c-1dca971da77b",
   "metadata": {},
   "outputs": [],
   "source": [
    "# city_tram_nodes"
   ]
  },
  {
   "cell_type": "code",
   "execution_count": 56,
   "id": "c3442988-8c55-43ee-be0b-0e3ad69c28df",
   "metadata": {},
   "outputs": [],
   "source": [
    "# Add the number of nodes and edges of metro to tram, which help unify them into one layer netwrok\n",
    "city_tram_nodes['id'] = city_tram_nodes['id'] + id_nodes_length_sub\n",
    "\n",
    "id_new_edges_length_sub = city_sub_new_edges['id'].iloc[-1]\n",
    "city_tram_edges['id'] = city_tram_edges['id'] + id_new_edges_length_sub+1\n",
    "city_tram_edges['from_id'] = city_tram_edges['from_id'] + id_nodes_length_sub\n",
    "city_tram_edges['to_id'] = city_tram_edges['to_id'] + id_nodes_length_sub\n",
    "city_tram_edges['from_to'] = list(zip(city_tram_edges.from_id, city_tram_edges.to_id))\n",
    "city_tram_edges['to_from'] = list(zip(city_tram_edges.to_id, city_tram_edges.from_id))"
   ]
  },
  {
   "cell_type": "code",
   "execution_count": 57,
   "id": "8b4d3eb1-3df9-42ac-983d-d84fddb260a2",
   "metadata": {},
   "outputs": [],
   "source": [
    "# gpd.GeoDataFrame(city_tram_edges[['osm_id', 'id', 'geometry','from_id','to_id','distance','time','weights']]).to_file('city_tram_edges0502.GPKG',driver='GPKG')"
   ]
  },
  {
   "cell_type": "code",
   "execution_count": 58,
   "id": "5d13490f-6428-4685-b3da-a16653e16d11",
   "metadata": {},
   "outputs": [],
   "source": [
    "# gpd.GeoDataFrame(city_tram_nodes[['geometry','degree','id']]).to_file('city_tram_nodes0505.GPKG',driver='GPKG')"
   ]
  },
  {
   "cell_type": "code",
   "execution_count": 59,
   "id": "d7e95531-0bc1-480e-bb97-da9eaa45b46c",
   "metadata": {},
   "outputs": [],
   "source": [
    "# Delete useless and wrong edges\n",
    "# tram 12\n",
    "city_tram_edges.drop(city_tram_edges[(city_tram_edges['from_id'] == 2099) & (city_tram_edges['to_id'] == 2100)].index, inplace=True)\n",
    "city_tram_edges.drop(city_tram_edges[(city_tram_edges['from_id'] == 1510) & (city_tram_edges['to_id'] == 1369)].index, inplace=True)\n",
    "city_tram_edges.drop(city_tram_edges[(city_tram_edges['from_id'] == 2331) & (city_tram_edges['to_id'] == 1369)].index, inplace=True)\n",
    "\n",
    "# tram 19\n",
    "city_tram_edges.drop(city_tram_edges[(city_tram_edges['from_id'] == 2096) & (city_tram_edges['to_id'] == 1246)].index, inplace=True)\n",
    "city_tram_edges.drop(city_tram_edges[(city_tram_edges['from_id'] == 1246) & (city_tram_edges['to_id'] == 2096)].index, inplace=True)\n",
    "city_tram_edges.drop(city_tram_edges[(city_tram_edges['from_id'] == 1386) & (city_tram_edges['to_id'] == 1390)].index, inplace=True)\n",
    "city_tram_edges.drop(city_tram_edges[(city_tram_edges['from_id'] == 1390) & (city_tram_edges['to_id'] == 1386)].index, inplace=True)\n",
    "city_tram_edges.drop(city_tram_edges[city_tram_edges['id'] == 1207].index, inplace=True)  \n",
    "\n",
    "# tram 26-2\n",
    "city_tram_edges.drop(city_tram_edges[(city_tram_edges['from_id'] == 2310) & (city_tram_edges['to_id'] == 1546)].index, inplace=True)\n",
    "city_tram_edges.drop(city_tram_edges[(city_tram_edges['from_id'] == 1359) & (city_tram_edges['to_id'] == 2778)].index, inplace=True)\n",
    "city_tram_edges.drop(city_tram_edges[(city_tram_edges['from_id'] == 2778) & (city_tram_edges['to_id'] == 1359)].index, inplace=True)\n",
    "city_tram_edges.drop(city_tram_edges[city_tram_edges['id'] == 1685].index, inplace=True)\n",
    "\n",
    "# tram 4,14,24\n",
    "city_tram_edges.drop(city_tram_edges[(city_tram_edges['from_id'] == 2150) & (city_tram_edges['to_id'] == 1201)].index, inplace=True)\n",
    "city_tram_edges.drop(city_tram_edges[(city_tram_edges['from_id'] == 1806) & (city_tram_edges['to_id'] == 2150)].index, inplace=True)\n",
    "city_tram_edges.drop(city_tram_edges[(city_tram_edges['from_id'] == 2777) & (city_tram_edges['to_id'] == 1544)].index, inplace=True)\n",
    "city_tram_edges.drop(city_tram_edges[(city_tram_edges['from_id'] == 2776) & (city_tram_edges['to_id'] == 1659)].index, inplace=True)\n",
    "city_tram_edges.drop(city_tram_edges[(city_tram_edges['from_id'] == 1641) & (city_tram_edges['to_id'] == 1576)].index, inplace=True)\n",
    "city_tram_edges.drop(city_tram_edges[(city_tram_edges['from_id'] == 1640) & (city_tram_edges['to_id'] == 1641)].index, inplace=True)\n",
    "city_tram_edges = city_tram_edges.reset_index(drop = True)"
   ]
  },
  {
   "cell_type": "code",
   "execution_count": 60,
   "id": "8a16c5e7-dbaf-41a8-b47c-d656ab1f6881",
   "metadata": {},
   "outputs": [],
   "source": [
    "# city_tram_edges"
   ]
  },
  {
   "cell_type": "code",
   "execution_count": 61,
   "id": "d8e951e4-1c4f-4b2a-a1b6-bab570e1deb0",
   "metadata": {},
   "outputs": [],
   "source": [
    "# city_tram_nodes"
   ]
  },
  {
   "cell_type": "code",
   "execution_count": 62,
   "id": "7c5f2bd8-06cf-4f3d-856e-d3954bd90fd3",
   "metadata": {},
   "outputs": [],
   "source": [
    "# Revise destination name of routes dataframe in 'to' column\n",
    "city_tram_routes = city_tram_routes.loc[city_tram_routes.ref != 'EMA']\n",
    "\n",
    "city_tram_routes, check_name = check_tram_routes(city_tram_stations, city_tram_routes)\n",
    "\n",
    "replacement_dict = {\n",
    "    ',': '',\n",
    "    'Diemen': '',\n",
    "    'Amsterdam': '',\n",
    "    'Sloterdijk': 'Station Sloterdijk',\n",
    "    'Osdorp Dijkgraafsplein': 'Dijkgraafplein',\n",
    "    'Osdorp De Aker': 'Matterhorn'\n",
    "}\n",
    "\n",
    "city_tram_stations, city_tram_routes, check_name = recheck_tram_routes(replacement_dict, city_tram_stations, city_tram_routes)\n",
    "\n",
    "\n",
    "replacement_dict = {\n",
    "    'Amstelveen Westwijk': 'Westwijk'\n",
    "}\n",
    "\n",
    "city_tram_stations, city_tram_routes, check_name = recheck_tram_routes(replacement_dict, city_tram_stations, city_tram_routes)"
   ]
  },
  {
   "cell_type": "code",
   "execution_count": 63,
   "id": "8c10e8bb-a39d-4532-84b6-0c206ec9fda0",
   "metadata": {},
   "outputs": [],
   "source": [
    "# city_tram_stations"
   ]
  },
  {
   "cell_type": "code",
   "execution_count": 64,
   "id": "3bdae6e8-e794-470d-9ee4-410262a8e169",
   "metadata": {},
   "outputs": [],
   "source": [
    "# city_tram_routes"
   ]
  },
  {
   "cell_type": "code",
   "execution_count": null,
   "id": "dc4524ee-5ab6-47db-9556-ebceb883d885",
   "metadata": {},
   "outputs": [],
   "source": [
    "# Create a dictionary mapping start stations to their corresponding routes\n",
    "city_tram_start_station_name_dict = start_station_dict(city_tram_routes)\n",
    "\n",
    "# Create a dictionary mapping tram lines to their corresponding routes\n",
    "city_tram_line_dict = line_dict(city_tram_routes)\n",
    "\n",
    "# Create a list of all station names in the city's tram network\n",
    "city_all_tram_stations_name = all_station_list(city_tram_stations)\n",
    "\n",
    "# Create a dictionary mapping tram lines to the ordered list of stations on each line\n",
    "city_tram_order_route_dict = order_stations_inline(city_tram_line_dict, city_all_tram_stations_name, city_tram_routes, city_tram_start_station_name_dict)\n",
    "\n",
    "# Create a dictionary mapping tram lines to the pairs of station IDs on each line\n",
    "city_tram_order_id_pairs = id_pairs_inline(city_tram_line_dict, city_tram_order_route_dict, city_tram_nodes)\n",
    "\n",
    "# Create a graph representing the tram network using the extracted edges and nodes\n",
    "G = create_ground_graph(city_tram_edges, city_tram_nodes)\n",
    "\n",
    "# Calculate the shortest path pairs for each tram line\n",
    "city_tram_all_shortest_paths_id_dict = city_tram_order_id_pairs.copy()\n",
    "\n",
    "\n",
    "for line in city_tram_order_id_pairs.keys():\n",
    "    \n",
    "    city_tram_all_shortest_paths_id_dict[line] = all_shortest_path_id_list(G, city_tram_order_id_pairs[line], city_tram_edges)"
   ]
  },
  {
   "cell_type": "code",
   "execution_count": null,
   "id": "9754d68e-f259-465a-aa13-2efe8f2d71b8",
   "metadata": {
    "scrolled": true
   },
   "outputs": [],
   "source": [
    "# city_tram_order_id_pairs"
   ]
  },
  {
   "cell_type": "code",
   "execution_count": null,
   "id": "33307286-6aa9-4a48-b6a7-9dc491794ad8",
   "metadata": {},
   "outputs": [],
   "source": [
    "# city_tram_all_shortest_paths_id_dict"
   ]
  },
  {
   "cell_type": "code",
   "execution_count": null,
   "id": "8a51b4ad-7cf6-4e24-acbe-134236771709",
   "metadata": {},
   "outputs": [],
   "source": [
    "# Obtain the right ordered edges dataframe of tram\n",
    "city_tram_ordered_edges = edges_revise_direction(city_tram_all_shortest_paths_id_dict,city_tram_edges)"
   ]
  },
  {
   "cell_type": "code",
   "execution_count": null,
   "id": "8aa0d141-532c-4d99-af7a-841e9336567b",
   "metadata": {
    "scrolled": true
   },
   "outputs": [],
   "source": [
    "duplicated_rows = city_tram_ordered_edges[city_tram_ordered_edges.index.duplicated(keep=False)]"
   ]
  },
  {
   "cell_type": "code",
   "execution_count": null,
   "id": "def09ece-e256-43e5-a48e-73bf779b5441",
   "metadata": {},
   "outputs": [],
   "source": [
    "# duplicated_rows"
   ]
  },
  {
   "cell_type": "code",
   "execution_count": null,
   "id": "b006437d-735b-4d9a-95bd-a99b8763dcd2",
   "metadata": {},
   "outputs": [],
   "source": [
    "len(duplicated_rows)"
   ]
  },
  {
   "cell_type": "code",
   "execution_count": null,
   "id": "db29e311-bb44-4d18-9ea1-b7d228a463c2",
   "metadata": {},
   "outputs": [],
   "source": []
  },
  {
   "cell_type": "code",
   "execution_count": null,
   "id": "523fab6b-1ee5-41f5-9798-006acc6412da",
   "metadata": {},
   "outputs": [],
   "source": []
  },
  {
   "cell_type": "code",
   "execution_count": null,
   "id": "46af6242-8624-402c-b632-bfa414d6a580",
   "metadata": {},
   "outputs": [],
   "source": [
    "# Create a graph representing the tram network using the directed edges and nodes\n",
    "G = nx.DiGraph()\n",
    "\n",
    "for _, row in city_tram_nodes.iterrows():\n",
    "    node = row['id']  # Assuming 'id' is the node identifier\n",
    "    geometry = row['geometry']\n",
    "    x, y = geometry.x, geometry.y\n",
    "    G.add_node(node, pos=(x, y))\n",
    "    \n",
    "# Extract the edges from the input DataFrame and create a list of tuples with time\n",
    "od = city_tram_ordered_edges[['from_id', 'to_id', 'time','weights']]\n",
    "edges_list = []\n",
    "for i, row in od.iterrows():\n",
    "    weight_dict = {\"weight\": row[2]*60}\n",
    "    tuple_row = (row[0], row[1], weight_dict)\n",
    "    edges_list.append(tuple_row)\n",
    "# edges_list\n",
    "\n",
    "G.add_edges_from(edges_list)"
   ]
  },
  {
   "cell_type": "code",
   "execution_count": null,
   "id": "99145ba1-36db-4336-a4a5-607cfc33675e",
   "metadata": {
    "scrolled": true
   },
   "outputs": [],
   "source": [
    "# Calculate the shortest path pairs for each tram line\n",
    "city_tram_shortest_path_pairs_dict = city_tram_order_id_pairs.copy()\n",
    "duplicate_row_count = city_tram_order_id_pairs.copy()\n",
    "city_tram_shortest_path_edges_dict = city_tram_order_id_pairs.copy()\n",
    "city_tram_edges_dict = city_tram_order_id_pairs.copy()\n",
    "\n",
    "for line in city_tram_order_id_pairs.keys():\n",
    "    # Calculate all shortest paths for the current line using the tram network edges\n",
    "    city_tram_shortest_path_pairs_dict[line] = all_shortest_paths(G, city_tram_order_id_pairs[line], city_tram_ordered_edges)\n",
    "\n",
    "    # Count the duplicate rows, calculate the weighted edges for shortest paths,\n",
    "    # and update the tram network edges for the current line\n",
    "    duplicate_row_count[line], city_tram_shortest_path_edges_dict[line], city_tram_edges_dict[line] = edges_with_count_weight(city_tram_shortest_path_pairs_dict[line], city_tram_ordered_edges)\n",
    "    \n",
    "# # Plot all tram routes\n",
    "# plot_routes(city_tram_routes, city_tram_ordered_edges, city_tram_shortest_path_edges_dict)"
   ]
  },
  {
   "cell_type": "code",
   "execution_count": null,
   "id": "6a18c5b1-f2a1-44cd-94ac-0b1348fa21ca",
   "metadata": {},
   "outputs": [],
   "source": [
    "# df1_1 = city_tram_shortest_path_edges_dict['Tram 1: Amsterdam Muiderpoortstation =>Amsterdam Osdorp De Aker']\n",
    "# df1_2 = city_tram_shortest_path_edges_dict['Tram 1: Amsterdam Osdorp de Aker => Amsterdam Muiderpoortstation']\n",
    "\n",
    "# df12_1 = city_tram_shortest_path_edges_dict['Tram 12: Amsterdam Centraal Station => Amsterdam Amstelstation']\n",
    "# df12_2 = city_tram_shortest_path_edges_dict['Tram 12: Amsterdam Amstelstation => Amsterdam Centraal Station']\n",
    "\n",
    "# df13_1 = city_tram_shortest_path_edges_dict['Tram 13: Amsterdam Centraal Station => Amsterdam Geuzenveld']\n",
    "# df13_2 = city_tram_shortest_path_edges_dict['Tram 13: Amsterdam Geuzenveld => Amsterdam Centraal Station']\n",
    "\n",
    "# df14_1 = city_tram_shortest_path_edges_dict['Tram 14: Amsterdam Centraal Station => Amsterdam Flevopark']\n",
    "# df14_2 = city_tram_shortest_path_edges_dict['Tram 14: Amsterdam Flevopark => Amsterdam Centraal Station']\n",
    "\n",
    "# df17_1 = city_tram_shortest_path_edges_dict['Tram 17: Amsterdam Centraal Station => Amsterdam Osdorp Dijkgraafsplein']\n",
    "# df17_2 = city_tram_shortest_path_edges_dict['Tram 17: Amsterdam Osdorp Dijkgraafsplein => Amsterdam Centraal Station']\n",
    "\n",
    "# df19_1 = city_tram_shortest_path_edges_dict['Tram 19: Amsterdam Sloterdijk => Diemen Sniep']\n",
    "# df19_2 = city_tram_shortest_path_edges_dict['Tram 19: Diemen Sniep => Amsterdam Sloterdijk']\n",
    "\n",
    "# df2_1 = city_tram_shortest_path_edges_dict['Tram 2: Amsterdam Centraal Station => Amsterdam Nieuw Sloten']\n",
    "# df2_2 = city_tram_shortest_path_edges_dict['Tram 2: Amsterdam Nieuw Sloten => Amsterdam Centraal Station']\n",
    "\n",
    "# df24_1 = city_tram_shortest_path_edges_dict['Tram 24: Amsterdam Centraal Station => Amsterdam VUmc']\n",
    "# df24_2 = city_tram_shortest_path_edges_dict['Tram 24: Amsterdam VUmc => Amsterdam Centraal Station']\n",
    "\n",
    "# df25_1 = city_tram_shortest_path_edges_dict['Tram 25: Amstelveen Westwijk => Amsterdam Station Zuid']\n",
    "# df25_2 = city_tram_shortest_path_edges_dict['Tram 25: Amsterdam Station Zuid => Amstelveen Westwijk']\n",
    "\n",
    "# df26_1 = city_tram_shortest_path_edges_dict['Tram 26: Amsterdam IJburg => Amsterdam Centraal Station']\n",
    "# df26_2 = city_tram_shortest_path_edges_dict['Tram 26: Amsterdam Centraal Station => Amsterdam IJburg']\n",
    "\n",
    "# df3_1 = city_tram_shortest_path_edges_dict['Tram 3: Amsterdam Westergasfabriek => Amsterdam Flevopark']\n",
    "# df3_2 = city_tram_shortest_path_edges_dict['Tram 3: Amsterdam Flevopark => Amsterdam Westergasfabriek']\n",
    "\n",
    "# df4_1 = city_tram_shortest_path_edges_dict['Tram 4: Amsterdam Station RAI => Amsterdam Centraal Station']\n",
    "# df4_2 = city_tram_shortest_path_edges_dict['Tram 4: Amsterdam Centraal Station => Amsterdam Station RAI']\n",
    "\n",
    "# df5_1 = city_tram_shortest_path_edges_dict['Tram 5: Amstelveen Stadshart => Amsterdam Eerste Marnixdwarsstraat']\n",
    "# df5_2 = city_tram_shortest_path_edges_dict['Tram 5: Amsterdam Eerste Marnixdwarsstraat => Amstelveen Stadshart']\n",
    "\n",
    "# df7_1 = city_tram_shortest_path_edges_dict['Tram 7: Amsterdam Azartplein => Amsterdam Slotermeer']\n",
    "# df7_2 = city_tram_shortest_path_edges_dict['Tram 7: Amsterdam Slotermeer => Amsterdam Azartplein']"
   ]
  },
  {
   "cell_type": "code",
   "execution_count": null,
   "id": "35b3268d-5eea-4b5f-a47b-a03ae6e57bd3",
   "metadata": {},
   "outputs": [],
   "source": [
    "# gpd.GeoDataFrame(df1_1[['osm_id', 'geometry','id','from_id','to_id','distance','time','weights']]).to_file('df1_1_0505.GPKG',driver='GPKG')\n",
    "# gpd.GeoDataFrame(df1_2[['osm_id', 'geometry','id','from_id','to_id','distance','time','weights']]).to_file('df1_2_0505.GPKG',driver='GPKG')\n",
    "# gpd.GeoDataFrame(df12_1[['osm_id', 'geometry','id','from_id','to_id','distance','time','weights']]).to_file('df12_1_0505.GPKG',driver='GPKG')\n",
    "# gpd.GeoDataFrame(df12_2[['osm_id', 'geometry','id','from_id','to_id','distance','time','weights']]).to_file('df12_2_0505.GPKG',driver='GPKG')\n",
    "# gpd.GeoDataFrame(df13_1[['osm_id', 'geometry','id','from_id','to_id','distance','time','weights']]).to_file('df13_1_0505.GPKG',driver='GPKG')\n",
    "# gpd.GeoDataFrame(df13_2[['osm_id', 'geometry','id','from_id','to_id','distance','time','weights']]).to_file('df13_2_0505.GPKG',driver='GPKG')\n",
    "# gpd.GeoDataFrame(df14_1[['osm_id', 'geometry','id','from_id','to_id','distance','time','weights']]).to_file('df14_1_0505.GPKG',driver='GPKG')\n",
    "# gpd.GeoDataFrame(df14_2[['osm_id', 'geometry','id','from_id','to_id','distance','time','weights']]).to_file('df14_2_0505.GPKG',driver='GPKG')\n",
    "# gpd.GeoDataFrame(df17_1[['osm_id', 'geometry','id','from_id','to_id','distance','time','weights']]).to_file('df17_1_0505.GPKG',driver='GPKG')\n",
    "# gpd.GeoDataFrame(df17_2[['osm_id', 'geometry','id','from_id','to_id','distance','time','weights']]).to_file('df17_2_0505.GPKG',driver='GPKG')\n",
    "# gpd.GeoDataFrame(df19_1[['osm_id', 'geometry','id','from_id','to_id','distance','time','weights']]).to_file('df19_1_0505.GPKG',driver='GPKG')\n",
    "# gpd.GeoDataFrame(df19_2[['osm_id', 'geometry','id','from_id','to_id','distance','time','weights']]).to_file('df19_2_0505.GPKG',driver='GPKG')\n",
    "# gpd.GeoDataFrame(df2_1[['osm_id', 'geometry','id','from_id','to_id','distance','time','weights']]).to_file('df2_1_0505.GPKG',driver='GPKG')\n",
    "# gpd.GeoDataFrame(df2_2[['osm_id', 'geometry','id','from_id','to_id','distance','time','weights']]).to_file('df2_2_0505.GPKG',driver='GPKG')\n",
    "# gpd.GeoDataFrame(df24_1[['osm_id', 'geometry','id','from_id','to_id','distance','time','weights']]).to_file('df24_1_0505.GPKG',driver='GPKG')\n",
    "# gpd.GeoDataFrame(df24_2[['osm_id', 'geometry','id','from_id','to_id','distance','time','weights']]).to_file('df24_2_0505.GPKG',driver='GPKG')\n",
    "# gpd.GeoDataFrame(df25_1[['osm_id', 'geometry','id','from_id','to_id','distance','time','weights']]).to_file('df25_1_0505.GPKG',driver='GPKG')\n",
    "# gpd.GeoDataFrame(df25_2[['osm_id', 'geometry','id','from_id','to_id','distance','time','weights']]).to_file('df25_2_0505.GPKG',driver='GPKG')\n",
    "# gpd.GeoDataFrame(df26_1[['osm_id', 'geometry','id','from_id','to_id','distance','time','weights']]).to_file('df26_1_0505.GPKG',driver='GPKG')\n",
    "# gpd.GeoDataFrame(df26_2[['osm_id', 'geometry','id','from_id','to_id','distance','time','weights']]).to_file('df26_2_0505.GPKG',driver='GPKG')\n",
    "# gpd.GeoDataFrame(df3_1[['osm_id', 'geometry','id','from_id','to_id','distance','time','weights']]).to_file('df3_1_0505.GPKG',driver='GPKG')\n",
    "# gpd.GeoDataFrame(df3_2[['osm_id', 'geometry','id','from_id','to_id','distance','time','weights']]).to_file('df3_2_0505.GPKG',driver='GPKG')\n",
    "# gpd.GeoDataFrame(df4_1[['osm_id', 'geometry','id','from_id','to_id','distance','time','weights']]).to_file('df4_1_0505.GPKG',driver='GPKG')\n",
    "# gpd.GeoDataFrame(df4_2[['osm_id', 'geometry','id','from_id','to_id','distance','time','weights']]).to_file('df4_2_0505.GPKG',driver='GPKG')\n",
    "# gpd.GeoDataFrame(df5_1[['osm_id', 'geometry','id','from_id','to_id','distance','time','weights']]).to_file('df5_1_0505.GPKG',driver='GPKG')\n",
    "# gpd.GeoDataFrame(df5_2[['osm_id', 'geometry','id','from_id','to_id','distance','time','weights']]).to_file('df5_2_0505.GPKG',driver='GPKG')\n",
    "# gpd.GeoDataFrame(df7_1[['osm_id', 'geometry','id','from_id','to_id','distance','time','weights']]).to_file('df7_1_0505.GPKG',driver='GPKG')\n",
    "# gpd.GeoDataFrame(df7_2[['osm_id', 'geometry','id','from_id','to_id','distance','time','weights']]).to_file('df7_2_0505.GPKG',driver='GPKG')"
   ]
  },
  {
   "cell_type": "markdown",
   "id": "83f60f3d-5e57-4724-afa2-47818d596237",
   "metadata": {},
   "source": [
    "## Obtain dataframes of edges,nodes and stations for baseline network of Tram"
   ]
  },
  {
   "cell_type": "markdown",
   "id": "049097ad-65cf-4033-b22a-06d8629324a0",
   "metadata": {},
   "source": [
    "### Add columns to edges--city_tram_extended_edges"
   ]
  },
  {
   "cell_type": "code",
   "execution_count": null,
   "id": "f066f10b-3591-4d6d-be1d-770f8a1e54cb",
   "metadata": {},
   "outputs": [],
   "source": [
    "city_tram_shortest_path_edges = add_ref_to_orderroutes_or_shortestpath_dict(city_tram_shortest_path_edges_dict, city_tram_routes)"
   ]
  },
  {
   "cell_type": "code",
   "execution_count": null,
   "id": "9c04b7c5-53b3-4f4f-b901-ac09a59b1000",
   "metadata": {},
   "outputs": [],
   "source": [
    "city_tram_extended_edges = add_columns_to_edges(city_tram_shortest_path_edges_dict,city_tram_ordered_edges)"
   ]
  },
  {
   "cell_type": "code",
   "execution_count": null,
   "id": "5a1d431a-c04e-49d8-b592-a20c3e84f1f6",
   "metadata": {},
   "outputs": [],
   "source": [
    "# column_to_drop = 'count_weight'\n",
    "# city_tram_extended_edges = city_tram_extended_edges.drop(columns=column_to_drop)"
   ]
  },
  {
   "cell_type": "code",
   "execution_count": null,
   "id": "2bf744c9-545c-4939-89b2-a8389efe8178",
   "metadata": {
    "scrolled": true
   },
   "outputs": [],
   "source": [
    "# city_tram_extended_edges"
   ]
  },
  {
   "cell_type": "markdown",
   "id": "deebd9ea-94a9-4b7b-a654-2651366ba771",
   "metadata": {},
   "source": [
    "### Organize edges dataframe for baseline network--city_tram_new_edges"
   ]
  },
  {
   "cell_type": "code",
   "execution_count": null,
   "id": "96d52427-8fbc-4666-9c0e-8745ceff58f8",
   "metadata": {},
   "outputs": [],
   "source": [
    "city_tram_shortest_path_edges_df = pd.concat(city_tram_shortest_path_edges_dict.values()).reset_index(drop=True)\n",
    "city_tram_shortest_path_edges_df.drop_duplicates(subset='geometry',inplace=True,ignore_index=True)"
   ]
  },
  {
   "cell_type": "code",
   "execution_count": null,
   "id": "20419dc9-59f3-4d46-86f5-8f3e7698b075",
   "metadata": {},
   "outputs": [],
   "source": [
    "# city_tram_shortest_path_edges_df"
   ]
  },
  {
   "cell_type": "code",
   "execution_count": null,
   "id": "bcdf1950-9d9c-45c1-8f45-48d5b0bebcca",
   "metadata": {},
   "outputs": [],
   "source": [
    "city_tram_new_edges = pd.merge(city_tram_extended_edges,city_tram_shortest_path_edges_df.geometry,on='geometry',how='inner')"
   ]
  },
  {
   "cell_type": "code",
   "execution_count": null,
   "id": "282c3a67-fda3-44b1-9a4d-5e8addabfc8f",
   "metadata": {},
   "outputs": [],
   "source": [
    "# city_tram_new_edges"
   ]
  },
  {
   "cell_type": "code",
   "execution_count": null,
   "id": "c02c4c3b-432f-4e8b-98a5-cac4de4987c0",
   "metadata": {},
   "outputs": [],
   "source": [
    "# gpd.GeoDataFrame(city_tram_new_edges[['osm_id', 'geometry','id','from_id','to_id','distance','time','weights']]).to_file('city_tram_new_edges0506.gpkg',driver = 'GPKG')"
   ]
  },
  {
   "cell_type": "markdown",
   "id": "9d19d2d6-3db6-46d3-a0c4-ebf2f2bd0f7a",
   "metadata": {},
   "source": [
    "### Organize nodes dataframe for baseline network--city_tram_new_nodes"
   ]
  },
  {
   "cell_type": "code",
   "execution_count": null,
   "id": "ac406bd7-7806-492a-9ac3-ad33acc8f69b",
   "metadata": {
    "scrolled": true
   },
   "outputs": [],
   "source": [
    "city_tram_shortest_path_nodes_id = pd.DataFrame(list(city_tram_new_edges['from_id'])+list(city_tram_new_edges['to_id'])).drop_duplicates(ignore_index = True)"
   ]
  },
  {
   "cell_type": "code",
   "execution_count": null,
   "id": "dd554071-1c3c-4073-90a5-cc182f603db8",
   "metadata": {
    "scrolled": true
   },
   "outputs": [],
   "source": [
    "city_tram_shortest_path_nodes_id = city_tram_shortest_path_nodes_id.rename(columns={0:'id'})"
   ]
  },
  {
   "cell_type": "code",
   "execution_count": null,
   "id": "d4f387ff-3b99-4088-a354-ff84a17ac674",
   "metadata": {
    "scrolled": true
   },
   "outputs": [],
   "source": [
    "# city_tram_shortest_path_nodes_id"
   ]
  },
  {
   "cell_type": "code",
   "execution_count": null,
   "id": "83f67662-d15c-4201-a238-8de07196a7b5",
   "metadata": {},
   "outputs": [],
   "source": [
    "city_tram_new_nodes = pd.merge(city_tram_shortest_path_nodes_id,city_tram_nodes,on='id',how='left').reset_index(drop=True)"
   ]
  },
  {
   "cell_type": "code",
   "execution_count": null,
   "id": "146dcdf6-b750-47ec-8fcf-725a19aa773b",
   "metadata": {},
   "outputs": [],
   "source": [
    "# city_tram_new_nodes"
   ]
  },
  {
   "cell_type": "markdown",
   "id": "532c952f-139f-4b65-9dfd-b770c307603c",
   "metadata": {},
   "source": [
    "### Add columns to stations--city_tram_new_staions"
   ]
  },
  {
   "cell_type": "code",
   "execution_count": null,
   "id": "68eb9fe8-aee7-45c7-aa43-37eecc0abad5",
   "metadata": {},
   "outputs": [],
   "source": [
    "city_tram_order_route_dict = add_ref_to_orderroutes_or_shortestpath_dict(city_tram_order_route_dict, city_tram_routes)"
   ]
  },
  {
   "cell_type": "code",
   "execution_count": null,
   "id": "2723d607-9ead-4868-b817-bf34d79eaaf6",
   "metadata": {},
   "outputs": [],
   "source": [
    "city_tram_new_stations = add_columns_to_nodes(city_tram_order_route_dict, city_tram_new_nodes)"
   ]
  },
  {
   "cell_type": "code",
   "execution_count": null,
   "id": "c851f04d-bb0c-456e-930f-282787872a70",
   "metadata": {
    "scrolled": true
   },
   "outputs": [],
   "source": [
    "# city_tram_new_stations"
   ]
  },
  {
   "cell_type": "markdown",
   "id": "5e7cd3ee-7f62-4f50-a04b-2b4c68cca2de",
   "metadata": {},
   "source": [
    "# Build network with straight lines in oneway"
   ]
  },
  {
   "cell_type": "code",
   "execution_count": null,
   "id": "6d8b6334-ce95-4ddd-886c-1affaf5a61f4",
   "metadata": {},
   "outputs": [],
   "source": [
    "city_sub_new_stations"
   ]
  },
  {
   "cell_type": "code",
   "execution_count": null,
   "id": "905d8c03-3c8f-4e67-9d72-0231c7904938",
   "metadata": {
    "scrolled": true
   },
   "outputs": [],
   "source": [
    "city_sub_order_route_dict"
   ]
  },
  {
   "cell_type": "code",
   "execution_count": null,
   "id": "e3204cc1-5385-494d-b5e3-8d1c7d808cc5",
   "metadata": {},
   "outputs": [],
   "source": [
    "city_sub_new_nodes.sort_values(by='id')"
   ]
  },
  {
   "cell_type": "code",
   "execution_count": null,
   "id": "304f90dd-7d97-4e52-a721-e9b1658b078a",
   "metadata": {},
   "outputs": [],
   "source": [
    "city_tram_new_nodes.sort_values(by='id')"
   ]
  },
  {
   "cell_type": "code",
   "execution_count": null,
   "id": "35c3891e-49a3-4a3b-b0ff-39202269b845",
   "metadata": {},
   "outputs": [],
   "source": [
    "city_sub_edges.sort_values(by='id')"
   ]
  },
  {
   "cell_type": "code",
   "execution_count": null,
   "id": "6ce83568-914d-4db1-8a13-6a619b156bc1",
   "metadata": {},
   "outputs": [],
   "source": [
    "city_tram_edges.sort_values(by='id')"
   ]
  },
  {
   "cell_type": "code",
   "execution_count": null,
   "id": "2713423e-de85-46b4-bb5a-386ba5180d73",
   "metadata": {},
   "outputs": [],
   "source": [
    "def new_half_order_route_dict(city_sub_order_route_dict, city_sub_new_stations):\n",
    "    city_sub_new_half_order_route_dict = {}\n",
    "    for i, (key, df) in enumerate(city_sub_order_route_dict.items()):\n",
    "        if i % 2 == 0:  \n",
    "            new_df = df[['geometry']]\n",
    "            new_df = pd.merge(new_df, city_sub_new_stations, on='geometry', how='left')\n",
    "            city_sub_new_half_order_route_dict[key] = new_df\n",
    "\n",
    "    return city_sub_new_half_order_route_dict"
   ]
  },
  {
   "cell_type": "code",
   "execution_count": null,
   "id": "6ec8673c-db01-4bc0-bb2e-c73c3b3cd2e4",
   "metadata": {},
   "outputs": [],
   "source": [
    "def new_half_stations_straight_line_df(city_sub_new_half_order_route_dict):\n",
    "    city_sub_new_half_stations_straight_line_df = pd.DataFrame()\n",
    "    for key,df in city_sub_new_half_order_route_dict.items():\n",
    "        city_sub_new_half_stations_straight_line_df = pd.concat([city_sub_new_half_stations_straight_line_df,df])\n",
    "    city_sub_new_half_stations_straight_line_df.drop_duplicates(subset='geometry',inplace=True,ignore_index=True)\n",
    "    city_sub_new_half_stations_straight_line_df.reset_index(inplace=True,drop=True)\n",
    "    return city_sub_new_half_stations_straight_line_df"
   ]
  },
  {
   "cell_type": "code",
   "execution_count": null,
   "id": "b02b2428-e177-41eb-bc0b-9e7447d81355",
   "metadata": {},
   "outputs": [],
   "source": [
    "def new_edges_straight_line_df(city_sub_new_order_route_dict, average_speed):\n",
    "    city_sub_new_edges_straight_line_df = pd.DataFrame()\n",
    "    for route_name,stations_df in city_sub_new_order_route_dict.items():\n",
    "        city_sub_new_edges_dict = {}\n",
    "\n",
    "        for i in range(len(stations_df) - 1):\n",
    "            from_station = stations_df.iloc[i]\n",
    "            to_station = stations_df.iloc[i + 1]\n",
    "    \n",
    "            from_id = int(from_station['id'])\n",
    "            to_id = int(to_station['id'])\n",
    "            geometry = LineString([from_station['geometry'], to_station['geometry']])\n",
    "            route_name_list = from_station['route_name_list']\n",
    "\n",
    "            from_station_df = pd.DataFrame(stations_df.iloc[i]).T\n",
    "            to_station_df = pd.DataFrame(stations_df.iloc[i + 1]).T\n",
    "            from_station_gdf = gpd.GeoDataFrame(from_station_df, geometry='geometry', crs='EPSG:4326')\n",
    "            to_station_gdf = gpd.GeoDataFrame(to_station_df, geometry='geometry', crs='EPSG:4326')\n",
    "            # Define the coordinate reference systems (CRS)\n",
    "            crs_deg = 'EPSG:4326'  # WGS 84, the standard coordinate system for GPS\n",
    "            crs_meter = 'EPSG:3857'  # World Mercator, commonly used for distance calculations\n",
    "            # Create a transformer to convert from degrees to meters\n",
    "            transformer = Transformer.from_crs(crs_deg, crs_meter, always_xy=True)\n",
    "            from_station_gdf['geometry_3857'] = from_station_gdf['geometry'].apply(lambda point: Point(transformer.transform(point.x, point.y)))\n",
    "            to_station_gdf['geometry_3857'] = to_station_gdf['geometry'].apply(lambda point: Point(transformer.transform(point.x, point.y)))\n",
    "            # Extracting Point objects\n",
    "            from_point_3857 = from_station_gdf['geometry_3857'].values[0]\n",
    "            to_point_3857 = to_station_gdf['geometry_3857'].values[0]\n",
    "            \n",
    "            distance = LineString([from_point_3857, to_point_3857]).length\n",
    "            weights = round(distance)\n",
    "            travel_time = round(distance/average_speed*60)\n",
    "    \n",
    "            edge_key = f\"{i}\"\n",
    "            city_sub_new_edges_dict[edge_key] = {\n",
    "                'geometry': geometry,\n",
    "                'from_id': from_id,\n",
    "                'to_id': to_id,\n",
    "                'route_name_list': route_name_list,\n",
    "                'distance': distance,\n",
    "                'time': travel_time,\n",
    "                'weights': weights\n",
    "                 }\n",
    "            city_sub_new_edges_each_line_df = pd.DataFrame(city_sub_new_edges_dict).T\n",
    "            \n",
    "        city_sub_new_edges_straight_line_df = pd.concat([city_sub_new_edges_straight_line_df,city_sub_new_edges_each_line_df])\n",
    "    return city_sub_new_edges_straight_line_df"
   ]
  },
  {
   "cell_type": "markdown",
   "id": "f0dc03cf-3eb5-43cd-b62f-19ccc1534707",
   "metadata": {},
   "source": [
    "## Metro network"
   ]
  },
  {
   "cell_type": "code",
   "execution_count": null,
   "id": "531cdcdc-e520-48bd-b0c9-561e996fcf95",
   "metadata": {},
   "outputs": [],
   "source": [
    "city_sub_new_half_order_route_dict = new_half_order_route_dict(city_sub_order_route_dict, city_sub_new_stations)\n",
    "city_sub_new_half_stations_straight_line_df = new_half_stations_straight_line_df(city_sub_new_half_order_route_dict)\n",
    "city_sub_new_half_edges_straight_line_df = new_edges_straight_line_df(city_sub_new_half_order_route_dict,25000)"
   ]
  },
  {
   "cell_type": "code",
   "execution_count": null,
   "id": "fd8f7a94-2353-4506-8d82-7c12e94da404",
   "metadata": {
    "scrolled": true
   },
   "outputs": [],
   "source": [
    "city_sub_new_half_order_route_dict"
   ]
  },
  {
   "cell_type": "code",
   "execution_count": null,
   "id": "d2dad0e8-3bf4-4b6f-803b-d0cd6d569f70",
   "metadata": {
    "scrolled": true
   },
   "outputs": [],
   "source": [
    "city_sub_new_half_stations_straight_line_df"
   ]
  },
  {
   "cell_type": "code",
   "execution_count": null,
   "id": "ba6d14e9-d70c-4f67-9b16-9f3ac207a662",
   "metadata": {},
   "outputs": [],
   "source": [
    "city_sub_new_half_edges_straight_line_df"
   ]
  },
  {
   "cell_type": "code",
   "execution_count": null,
   "id": "6c6233dc-d4aa-4c29-b2ce-aa09eab6401b",
   "metadata": {},
   "outputs": [],
   "source": [
    "import contextily as ctx\n",
    "city_sub_new_half_stations_straight_line_df = gpd.GeoDataFrame(city_sub_new_half_stations_straight_line_df.copy(), geometry='geometry')\n",
    "city_sub_new_half_edges_straight_line_df = gpd.GeoDataFrame(city_sub_new_half_edges_straight_line_df.copy(), geometry='geometry')\n",
    "\n",
    "\n",
    "fig, ax = plt.subplots(1, 1, figsize=(10, 6))\n",
    "\n",
    "city_sub_new_half_stations_straight_line_df.plot(color='red', alpha=0.4, ax=ax, legend=True)\n",
    "city_sub_new_half_edges_straight_line_df.plot(color='red', ax=ax, legend=True)\n",
    "metro_lines = gpd.read_file(\"./Metro lines.GPKG\")\n",
    "ctx.add_basemap(ax=ax, crs=metro_lines.crs.to_string(), source=ctx.providers.Esri.WorldImagery, alpha=0.4)\n",
    "\n",
    "ax.set_title('Amsterdam metro straight-line oneway network')\n",
    "ax.set_xlabel('Longitude')\n",
    "ax.set_ylabel('Latitude')\n",
    "\n",
    "\n",
    "plt.show()"
   ]
  },
  {
   "cell_type": "markdown",
   "id": "ca0ba8ee-263a-46ee-aa2f-692e999a11fb",
   "metadata": {},
   "source": [
    "## Tram network"
   ]
  },
  {
   "cell_type": "code",
   "execution_count": null,
   "id": "a105e5d4-da24-4997-a6e6-1ae544f9b1d2",
   "metadata": {},
   "outputs": [],
   "source": [
    "city_tram_new_half_order_route_dict = new_half_order_route_dict(city_tram_order_route_dict, city_tram_new_stations)\n",
    "city_tram_new_half_stations_straight_line_df = new_half_stations_straight_line_df(city_tram_new_half_order_route_dict)\n",
    "city_tram_new_half_edges_straight_line_df = new_edges_straight_line_df(city_tram_new_half_order_route_dict,14000)"
   ]
  },
  {
   "cell_type": "code",
   "execution_count": null,
   "id": "c517db4c-5ec3-4dc8-8f81-3e6399f5b21e",
   "metadata": {},
   "outputs": [],
   "source": [
    "city_tram_new_half_stations_straight_line_df"
   ]
  },
  {
   "cell_type": "code",
   "execution_count": null,
   "id": "3dd29721-da01-4b67-aa82-7322dd969d36",
   "metadata": {},
   "outputs": [],
   "source": [
    "city_tram_new_half_edges_straight_line_df"
   ]
  },
  {
   "cell_type": "code",
   "execution_count": null,
   "id": "6f9fa452-3c37-4f59-a9e3-fdf1f9be4d84",
   "metadata": {},
   "outputs": [],
   "source": [
    "import contextily as ctx\n",
    "city_tram_new_half_stations_straight_line_gdf = gpd.GeoDataFrame(city_tram_new_half_stations_straight_line_df.copy(), geometry='geometry')\n",
    "city_tram_new_half_edges_straight_line_gdf = gpd.GeoDataFrame(city_tram_new_half_edges_straight_line_df.copy(), geometry='geometry')\n",
    "\n",
    "\n",
    "fig, ax = plt.subplots(1, 1, figsize=(10, 6))\n",
    "\n",
    "city_tram_new_half_stations_straight_line_gdf.plot(color='blue', alpha=0.4, ax=ax, legend=True)\n",
    "city_tram_new_half_edges_straight_line_gdf.plot(color='blue', ax=ax, legend=True)\n",
    "metro_lines = gpd.read_file(\"./Metro lines.GPKG\")\n",
    "ctx.add_basemap(ax=ax, crs=metro_lines.crs.to_string(), source=ctx.providers.Esri.WorldImagery, alpha=0.4)\n",
    "\n",
    "ax.set_title('Amsterdam tram straight-line network')\n",
    "ax.set_xlabel('Longitude')\n",
    "ax.set_ylabel('Latitude')\n",
    "\n",
    "\n",
    "plt.show()"
   ]
  },
  {
   "cell_type": "code",
   "execution_count": null,
   "id": "35dbf496-44d4-4e05-b305-a88956c31f74",
   "metadata": {},
   "outputs": [],
   "source": [
    "import contextily as ctx\n",
    "city_sub_new_half_stations_straight_line_gdf = gpd.GeoDataFrame(city_sub_new_half_stations_straight_line_df.copy(), geometry='geometry')\n",
    "city_sub_new_half_edges_straight_line_gdf = gpd.GeoDataFrame(city_sub_new_half_edges_straight_line_df.copy(), geometry='geometry')\n",
    "city_tram_new_half_stations_straight_line_gdf = gpd.GeoDataFrame(city_tram_new_half_stations_straight_line_df.copy(), geometry='geometry')\n",
    "city_tram_new_half_edges_straight_line_gdf = gpd.GeoDataFrame(city_tram_new_half_edges_straight_line_df.copy(), geometry='geometry')\n",
    "\n",
    "fig, ax = plt.subplots(1, 1, figsize=(10, 6))\n",
    "\n",
    "city_sub_new_half_stations_straight_line_gdf.plot(color='red', alpha=0.4, ax=ax, legend=True)\n",
    "city_sub_new_half_edges_straight_line_gdf.plot(color='red', ax=ax, legend=True)\n",
    "city_tram_new_half_stations_straight_line_gdf.plot(color='blue', alpha=0.4, ax=ax, legend=True)\n",
    "city_tram_new_half_edges_straight_line_gdf.plot(color='blue', ax=ax, legend=True)\n",
    "metro_lines = gpd.read_file(\"./Metro lines.GPKG\")\n",
    "ctx.add_basemap(ax=ax, crs=metro_lines.crs.to_string(), source=ctx.providers.Esri.WorldImagery, alpha=0.4)\n",
    "\n",
    "ax.set_title('Amsterdam metro and tram straight-line network')\n",
    "ax.set_xlabel('Longitude')\n",
    "ax.set_ylabel('Latitude')\n",
    "\n",
    "\n",
    "plt.show()"
   ]
  },
  {
   "cell_type": "markdown",
   "id": "a49eb3f4-8c1d-46cb-b2a5-4f6e4890ed94",
   "metadata": {},
   "source": [
    "## Connecting edges"
   ]
  },
  {
   "cell_type": "code",
   "execution_count": null,
   "id": "5ff685e1-38f6-4197-a343-041b33abb5ee",
   "metadata": {},
   "outputs": [],
   "source": [
    "def new_half_transfer_stations_name_list(city_sub_new_half_stations_straight_line_df):\n",
    "    duplicate_names = city_sub_new_half_stations_straight_line_df['name'][city_sub_new_half_stations_straight_line_df['name'].duplicated()].drop_duplicates(ignore_index=True)\n",
    "    duplicate_names_list = duplicate_names.tolist()\n",
    "    return duplicate_names_list"
   ]
  },
  {
   "cell_type": "code",
   "execution_count": null,
   "id": "365946a7-ae2c-463b-8faa-faf8a27a1a2a",
   "metadata": {},
   "outputs": [],
   "source": [
    "connecting_sub_stations_name_list = new_half_transfer_stations_name_list(city_sub_new_half_stations_straight_line_df)\n",
    "connecting_sub_stations_name_list"
   ]
  },
  {
   "cell_type": "code",
   "execution_count": null,
   "id": "6be294f6-cbb7-43ee-9bd2-33dec199b9a9",
   "metadata": {},
   "outputs": [],
   "source": [
    "id_new_edges_length = city_tram_edges['id'].iloc[-1] + 1\n",
    "id_new_edges_length"
   ]
  },
  {
   "cell_type": "code",
   "execution_count": null,
   "id": "3d499b44-036d-42a9-884a-eaccf3cb8f44",
   "metadata": {},
   "outputs": [],
   "source": [
    "city_sub_new_connected_edges_straight_line, city_sub_new_connect_edges_dfs_straight_line = connected_all_edges_dataframe(connecting_sub_stations_name_list,city_sub_new_half_stations_straight_line_df,id_new_edges_length,city_sub_new_half_edges_straight_line_df)"
   ]
  },
  {
   "cell_type": "code",
   "execution_count": null,
   "id": "8d24fcc4-2888-4b41-9a66-13bea64db4b5",
   "metadata": {
    "scrolled": true
   },
   "outputs": [],
   "source": [
    "city_sub_new_connected_edges_straight_line"
   ]
  },
  {
   "cell_type": "code",
   "execution_count": null,
   "id": "45bafba0-6913-4006-b46f-6d3368128361",
   "metadata": {
    "scrolled": true
   },
   "outputs": [],
   "source": [
    "connecting_tram_stations_name_list = new_half_transfer_stations_name_list(city_tram_new_half_stations_straight_line_df)\n",
    "connecting_tram_stations_name_list"
   ]
  },
  {
   "cell_type": "code",
   "execution_count": null,
   "id": "d43b436a-2941-414a-992a-65ee32ffc70a",
   "metadata": {},
   "outputs": [],
   "source": [
    "id_new_edges_length = int(city_sub_new_connected_edges_straight_line['id'].iloc[-1] + 1)\n",
    "id_new_edges_length"
   ]
  },
  {
   "cell_type": "code",
   "execution_count": null,
   "id": "59084ddb-a21a-41f1-a192-73df43304de0",
   "metadata": {},
   "outputs": [],
   "source": [
    "city_tram_new_connected_edges_straight_line, city_tram_new_connect_edges_dfs_straight_line = connected_all_edges_dataframe(connecting_tram_stations_name_list,city_tram_new_half_stations_straight_line_df,id_new_edges_length,city_tram_new_half_edges_straight_line_df)"
   ]
  },
  {
   "cell_type": "code",
   "execution_count": null,
   "id": "04e922c1-91e1-4dc6-8ace-d58116b80fc4",
   "metadata": {
    "scrolled": true
   },
   "outputs": [],
   "source": [
    "city_tram_new_connected_edges_straight_line"
   ]
  },
  {
   "cell_type": "markdown",
   "id": "bea48e67-dd11-4355-b8f4-2be001866eb2",
   "metadata": {},
   "source": [
    "## Output results in QGIS and Excel"
   ]
  },
  {
   "cell_type": "code",
   "execution_count": null,
   "id": "8104c1da-f9a2-40d0-96e2-1644760873fb",
   "metadata": {},
   "outputs": [],
   "source": [
    "gpd.GeoDataFrame(city_sub_new_half_stations_straight_line_df[['id', 'geometry','name','geo_x','geo_y','route_name_list','ref','transfer','route']]).to_file('city_sub_new_half_stations_straight_line_df0617.GPKG',driver='GPKG')\n",
    "gpd.GeoDataFrame(city_sub_new_connected_edges_straight_line[['geometry', 'from_id', 'to_id', 'route_name_list', 'distance', 'time', 'weights']]).to_file('city_sub_new_connected_edges_straight_line0617.GPKG',driver='GPKG')"
   ]
  },
  {
   "cell_type": "code",
   "execution_count": null,
   "id": "75acaa3a-4889-4020-b148-0f284ff3c42e",
   "metadata": {},
   "outputs": [],
   "source": [
    "gpd.GeoDataFrame(city_tram_new_half_stations_straight_line_df[['id', 'geometry','name','geo_x','geo_y','route_name_list','ref','transfer','route']]).to_file('city_tram_new_half_stations_straight_line_df0617.GPKG',driver='GPKG')\n",
    "gpd.GeoDataFrame(city_tram_new_connected_edges_straight_line[['geometry', 'from_id', 'to_id', 'route_name_list', 'distance', 'time', 'weights']]).to_file('city_tram_new_connected_edges_straight_line0617.GPKG',driver='GPKG')"
   ]
  },
  {
   "cell_type": "code",
   "execution_count": null,
   "id": "95d3cf8e-4804-4e1d-b8c1-b08f2c3fc75e",
   "metadata": {},
   "outputs": [],
   "source": [
    "city_sub_new_half_stations_straight_line_df[['id','geo_x','geo_y','route_name_list','ref']].to_excel('city_sub_new_half_stations_straight_line_df0617.xlsx',header = True,index = False)"
   ]
  },
  {
   "cell_type": "code",
   "execution_count": null,
   "id": "76f2e351-943e-43a4-8f53-062edbed9091",
   "metadata": {},
   "outputs": [],
   "source": [
    "city_tram_new_half_stations_straight_line_df[['id','geo_x','geo_y','route_name_list','ref']].to_excel('city_tram_new_half_stations_straight_line_df0617.xlsx',header = True,index = False)"
   ]
  },
  {
   "cell_type": "code",
   "execution_count": null,
   "id": "f7c7e586-1504-43b4-86e8-0d4cb21fb890",
   "metadata": {},
   "outputs": [],
   "source": [
    "city_sub_new_connected_edges_straight_line[['from_id', 'to_id', 'route_name_list','distance', 'time']].to_excel('city_sub_new_connected_edges_straight_line0617.xlsx',header = True,index = False)"
   ]
  },
  {
   "cell_type": "code",
   "execution_count": null,
   "id": "ade819c8-88e8-48ab-9a82-fbacf96e83b3",
   "metadata": {},
   "outputs": [],
   "source": [
    "city_tram_new_connected_edges_straight_line[['from_id', 'to_id', 'route_name_list','distance', 'time']].to_excel('city_tram_new_connected_edges_straight_line0617.xlsx',header = True,index = False)"
   ]
  },
  {
   "cell_type": "markdown",
   "id": "03cd8714-9522-41a1-8cc8-d56aeed71c96",
   "metadata": {},
   "source": [
    "## Create Connect Edges in 300m for Metro and Tram"
   ]
  },
  {
   "cell_type": "code",
   "execution_count": null,
   "id": "307f66fb-3080-4ff2-b95a-27afe376b6f3",
   "metadata": {},
   "outputs": [],
   "source": [
    "buffer_radius = 300"
   ]
  },
  {
   "cell_type": "code",
   "execution_count": null,
   "id": "c4835837-5420-4ad3-bdf4-1412cc2458d0",
   "metadata": {
    "scrolled": true
   },
   "outputs": [],
   "source": [
    "sub_new_stations_buffer_geometry = new_nodes_buffer(city_sub_new_half_stations_straight_line_df,buffer_radius)\n",
    "sub_new_stations_buffer_geometry"
   ]
  },
  {
   "cell_type": "code",
   "execution_count": null,
   "id": "7a90b62b-ca78-4cde-98ac-21a14fbd6364",
   "metadata": {},
   "outputs": [],
   "source": [
    "city_tram_new_stations_ftn = add_footnote_to_new_nodes(city_tram_new_half_stations_straight_line_df)\n",
    "city_tram_new_stations_ftn"
   ]
  },
  {
   "cell_type": "code",
   "execution_count": null,
   "id": "15581aec-bef7-4231-bc93-9823259bf89d",
   "metadata": {},
   "outputs": [],
   "source": [
    "def transfer_A_to_B_oneway_network(A_new_nodes_buffer_geometry,B_new_nodes_ftn):\n",
    "    transfer_stations_A_to_B = pd.DataFrame()\n",
    "    \n",
    "    for index, row in A_new_nodes_buffer_geometry.iterrows():\n",
    "        each_transfer_stations_df = B_new_nodes_ftn[row['buffer_geometry'].intersects(B_new_nodes_ftn.iloc[:, 0])]\n",
    "        \n",
    "        if not each_transfer_stations_df.empty:\n",
    "            replicated_row = pd.concat([row] * len(each_transfer_stations_df), axis=1).transpose()\n",
    "            replicated_row.reset_index(drop=True, inplace=True)  # Reset the index\n",
    "            each_transfer_stations_df.reset_index(drop=True, inplace=True)  # Reset the index\n",
    "            co_df = pd.concat([replicated_row,each_transfer_stations_df], axis=1)\n",
    "            transfer_stations_A_to_B = pd.concat([transfer_stations_A_to_B,co_df])\n",
    "\n",
    "    transfer_stations_A_to_B = transfer_stations_A_to_B.sort_values(by='name')\n",
    "    transfer_stations_A_to_B.reset_index(drop=True,inplace=True)\n",
    "       \n",
    "\n",
    "    return transfer_stations_A_to_B"
   ]
  },
  {
   "cell_type": "code",
   "execution_count": null,
   "id": "cceda9bd-b569-476c-b84d-df4dec4e1094",
   "metadata": {
    "scrolled": true
   },
   "outputs": [],
   "source": [
    "transfer_stations_sub_to_tram_oneway = transfer_A_to_B_oneway_network(sub_new_stations_buffer_geometry,city_tram_new_stations_ftn)\n",
    "transfer_stations_sub_to_tram_oneway"
   ]
  },
  {
   "cell_type": "code",
   "execution_count": null,
   "id": "8ed25306-1473-4111-9a53-05cb99ab9739",
   "metadata": {},
   "outputs": [],
   "source": [
    "# transfer_stations_sub_to_tram_oneway.loc[:,['name','name_tram']]"
   ]
  },
  {
   "cell_type": "code",
   "execution_count": null,
   "id": "b9dc6374-eeb7-436a-9250-085bae2aace8",
   "metadata": {},
   "outputs": [],
   "source": [
    "def create_connect_edges_oneway_network(transfer_stations_sub_to_tram):\n",
    "    \n",
    "    lines1 = []\n",
    "    from_id_list1 = []\n",
    "    to_id_list1 = []\n",
    "\n",
    "\n",
    "    for index, row in transfer_stations_sub_to_tram.iterrows():\n",
    "        line = LineString([list(row.iloc[6]), list(row.iloc[18])])\n",
    "        from_id = row.iloc[1]\n",
    "        to_id = row.iloc[13]\n",
    "    \n",
    "        \n",
    "        lines1.append(line)\n",
    "        from_id_list1.append(from_id)\n",
    "        to_id_list1.append(to_id)\n",
    "\n",
    "    result_df1 = pd.DataFrame({'geometry': lines1,\n",
    "                              'from_id':from_id_list1,\n",
    "                              'to_id':to_id_list1})\n",
    "\n",
    "\n",
    "    lines2 = []\n",
    "    from_id_list2 = []\n",
    "    to_id_list2 = []\n",
    "\n",
    "\n",
    "    for index, row in transfer_stations_sub_to_tram.iterrows():\n",
    "        line = LineString([list(row.iloc[18]), list(row.iloc[6])])\n",
    "        from_id = row.iloc[13]\n",
    "        to_id = row.iloc[1]\n",
    "    \n",
    "        \n",
    "        lines2.append(line)\n",
    "        from_id_list2.append(from_id)\n",
    "        to_id_list2.append(to_id)\n",
    "\n",
    "    result_df2 = pd.DataFrame({'geometry': lines2,\n",
    "                              'from_id':from_id_list2,\n",
    "                              'to_id':to_id_list2}) \n",
    "\n",
    "    result_df = pd.concat([result_df1,result_df2])\n",
    "    result_df['from_to'] = list(zip(result_df.from_id,result_df.to_id))\n",
    "    result_df['to_from'] = list(zip(result_df.to_id,result_df.from_id))\n",
    "    return result_df"
   ]
  },
  {
   "cell_type": "code",
   "execution_count": null,
   "id": "ce5d17ab-7944-47bd-aff6-e9659247f641",
   "metadata": {},
   "outputs": [],
   "source": [
    "connect_edges_sub_to_tram_oneway = create_connect_edges_oneway_network(transfer_stations_sub_to_tram_oneway)\n",
    "connect_edges_sub_to_tram_oneway"
   ]
  },
  {
   "cell_type": "code",
   "execution_count": null,
   "id": "8cb9e3ef-b92e-4e65-8577-65b7c4593d0c",
   "metadata": {},
   "outputs": [],
   "source": [
    "start_id_for_connect_edges_sub_to_tram = int(city_tram_new_connected_edges_straight_line['id'].iloc[-1] + 1)\n",
    "start_id_for_connect_edges_sub_to_tram"
   ]
  },
  {
   "cell_type": "code",
   "execution_count": null,
   "id": "26203418-95ab-440d-9782-b01e7d992823",
   "metadata": {
    "scrolled": true
   },
   "outputs": [],
   "source": [
    "connect_edges_sub_to_tram_id_list = [start_id_for_connect_edges_sub_to_tram] + [i for i in range(start_id_for_connect_edges_sub_to_tram + 1, start_id_for_connect_edges_sub_to_tram + len(connect_edges_sub_to_tram_oneway))]\n",
    "# connect_edges_sub_to_tram_id_list"
   ]
  },
  {
   "cell_type": "code",
   "execution_count": null,
   "id": "8a9a6172-87cd-4307-9a1f-bd7df816f823",
   "metadata": {},
   "outputs": [],
   "source": [
    "connect_edges_sub_to_tram_oneway['id'] = connect_edges_sub_to_tram_id_list\n",
    "\n",
    "# Set weights attribute of connecting edges to a value higher than the maximum value in city_sub_new_edges\n",
    "connect_edges_sub_to_tram_oneway['distance'] = city_sub_new_edges.sort_values(by='weights').weights.iloc[-1] + city_tram_new_edges.sort_values(by='weights').weights.iloc[-1] + 10000000000\n",
    "connect_edges_sub_to_tram_oneway['weights'] = city_sub_new_edges.sort_values(by='weights').weights.iloc[-1] + city_tram_new_edges.sort_values(by='weights').weights.iloc[-1] + 10000000000\n",
    "# Set time attribute of connecting edges to a value higher than the maximum value in city_sub_new_edges\n",
    "connect_edges_sub_to_tram_oneway['time'] = city_sub_new_edges.sort_values(by='time').time.iloc[-1] + city_tram_new_edges.sort_values(by='time').time.iloc[-1] + 1"
   ]
  },
  {
   "cell_type": "code",
   "execution_count": null,
   "id": "ae7bd874-388e-44d9-9bb1-c40e9fc16088",
   "metadata": {
    "scrolled": true
   },
   "outputs": [],
   "source": [
    "connect_edges_sub_to_tram_oneway"
   ]
  },
  {
   "cell_type": "code",
   "execution_count": null,
   "id": "542f8e3d-ecf6-4d71-af88-ae7ee3309dbc",
   "metadata": {},
   "outputs": [],
   "source": [
    "gpd.GeoDataFrame(connect_edges_sub_to_tram_oneway[['geometry', 'from_id', 'to_id', 'distance', 'time', 'weights']]).to_file('connect_edges_sub_to_tram_oneway0617.GPKG',driver='GPKG')"
   ]
  },
  {
   "cell_type": "code",
   "execution_count": null,
   "id": "7f99114d-a855-4f35-8eba-aa577a4adf7e",
   "metadata": {},
   "outputs": [],
   "source": [
    "connect_edges_sub_to_tram_oneway[['from_id', 'to_id','distance', 'time']].to_excel('connect_edges_sub_to_tram_oneway0617.xlsx',header = True,index = False)"
   ]
  }
 ],
 "metadata": {
  "kernelspec": {
   "display_name": "Python 3 (ipykernel)",
   "language": "python",
   "name": "python3"
  },
  "language_info": {
   "codemirror_mode": {
    "name": "ipython",
    "version": 3
   },
   "file_extension": ".py",
   "mimetype": "text/x-python",
   "name": "python",
   "nbconvert_exporter": "python",
   "pygments_lexer": "ipython3",
   "version": "3.10.14"
  }
 },
 "nbformat": 4,
 "nbformat_minor": 5
}
