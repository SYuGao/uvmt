version https://git-lfs.github.com/spec/v1
oid sha256:ec994e2601115cd0adce0aaee95d7ce40e2dd9f34937708387d49b88576e0eaa
size 621951
