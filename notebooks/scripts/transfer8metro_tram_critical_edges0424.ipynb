version https://git-lfs.github.com/spec/v1
oid sha256:06bde5cc46e96066e5cb501e394fe0c4098c2643794a3b350cc6c0600402df9d
size 3418007
