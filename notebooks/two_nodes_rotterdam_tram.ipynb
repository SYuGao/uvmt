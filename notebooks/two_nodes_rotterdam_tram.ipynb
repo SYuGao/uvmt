{
 "cells": [
  {
   "cell_type": "code",
   "execution_count": null,
   "id": "ad209e6c-1aaf-4d80-8a2c-6e59aa9207b2",
   "metadata": {},
   "outputs": [],
   "source": [
    "import sys\n",
    "sys.path.append('C:\\\\projects\\\\UTNCE\\\\src\\\\utnce')"
   ]
  },
  {
   "cell_type": "code",
   "execution_count": null,
   "id": "eff5833b-e3bc-4381-83ca-0f948c73fb53",
   "metadata": {},
   "outputs": [],
   "source": [
    "from simplify import *\n",
    "from prepare import *\n",
    "from routing import *\n",
    "from percolation_plot import *"
   ]
  },
  {
   "cell_type": "code",
   "execution_count": null,
   "id": "3679ae28-18a3-4bd4-b37b-6cf16af60ae5",
   "metadata": {},
   "outputs": [],
   "source": [
    "from generate import *"
   ]
  },
  {
   "cell_type": "code",
   "execution_count": null,
   "id": "5a500cfb-95e5-44ab-ba14-208e5139392a",
   "metadata": {},
   "outputs": [],
   "source": [
    "osm_path = \"C:\\\\projects\\\\UTNCE\\\\data\\\\rotterdam.metro.pbf\"\n",
    "osm_path = \"C:\\\\projects\\\\UTNCE\\\\data\\\\rotterdam.bus.largest.pbf\""
   ]
  },
  {
   "cell_type": "code",
   "execution_count": null,
   "id": "e1a8dfe7-407b-4820-a5f8-c1706807a5e1",
   "metadata": {},
   "outputs": [],
   "source": [
    "city_tram_stations, edges, nodes, city_tram_routes = prepare_tram(osm_path)"
   ]
  },
  {
   "cell_type": "code",
   "execution_count": null,
   "id": "14aaac99-fd1f-466b-bc1e-cbd08ba24e1e",
   "metadata": {
    "scrolled": true
   },
   "outputs": [],
   "source": [
    "city_tram_routes"
   ]
  },
  {
   "cell_type": "code",
   "execution_count": null,
   "id": "f8c403ed-4003-46b6-a726-a25e5d6da295",
   "metadata": {},
   "outputs": [],
   "source": [
    "city_tram_routes = city_tram_routes.loc[city_tram_routes.network == 'Rail Rotterdam']"
   ]
  },
  {
   "cell_type": "code",
   "execution_count": null,
   "id": "da19642f-4fd0-4721-b486-c0c43d7c6679",
   "metadata": {
    "scrolled": true
   },
   "outputs": [],
   "source": [
    "city_tram_routes"
   ]
  },
  {
   "cell_type": "code",
   "execution_count": null,
   "id": "922e00d6-bc9f-4c4c-a477-a694694afed5",
   "metadata": {},
   "outputs": [],
   "source": [
    "city_tram_routes, check_name = check_tram_routes(city_tram_stations, city_tram_routes)"
   ]
  },
  {
   "cell_type": "code",
   "execution_count": null,
   "id": "ee8ff30d-6ead-4b1d-b66b-5f6d77614499",
   "metadata": {},
   "outputs": [],
   "source": [
    "replacement_dict = {\n",
    "    'Scheveningen, ': '',\n",
    "    'Delft, ': '',\n",
    "    'Den Haag, ': '',\n",
    "    'Rotterdam, ': '',\n",
    "    'Schiedam, ': '',\n",
    "    'Nootdorp,': '',\n",
    "    'Wateringen,': '',\n",
    "    'Leidschendam,': '',\n",
    "    'Vlaardingen, ': '',\n",
    "    'Zoetermeer, ': '',\n",
    "    'Barendrecht, ': '',\n",
    "    'Beverwaard': 'P+R Beverwaard',\n",
    "    'Molenlaan': 'Burg. Van Kempensingel',\n",
    "    'Spangen': 'Spartastraat',\n",
    "    'Lombardijen': 'Kreekhuizenlaan',\n",
    "    'Woudestein': 'Burgemeester Oudlaan'  \n",
    "    \n",
    "}\n",
    "\n",
    "city_tram_stations, city_tram_routes, check_name = recheck_tram_routes(replacement_dict, city_tram_stations, city_tram_routes)"
   ]
  },
  {
   "cell_type": "code",
   "execution_count": null,
   "id": "392957ab-54df-49da-ba1a-d2f33e7b6b6c",
   "metadata": {
    "scrolled": true
   },
   "outputs": [],
   "source": [
    "city_tram_shortest_path_pairs, city_tram_shortest_path_edges, city_tram_edges = tram(city_tram_stations, edges, nodes, city_tram_routes, city='Rotterdam')"
   ]
  }
 ],
 "metadata": {
  "kernelspec": {
   "display_name": "Python 3 (ipykernel)",
   "language": "python",
   "name": "python3"
  },
  "language_info": {
   "codemirror_mode": {
    "name": "ipython",
    "version": 3
   },
   "file_extension": ".py",
   "mimetype": "text/x-python",
   "name": "python",
   "nbconvert_exporter": "python",
   "pygments_lexer": "ipython3",
   "version": "3.10.11"
  }
 },
 "nbformat": 4,
 "nbformat_minor": 5
}
