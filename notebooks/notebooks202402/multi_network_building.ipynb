{
 "cells": [
  {
   "cell_type": "code",
   "execution_count": 2,
   "id": "b40100e8-2852-4622-b86c-98017fabd1db",
   "metadata": {},
   "outputs": [],
   "source": [
    "import sys\n",
    "sys.path.append('C:\\\\projects\\\\UTNCE\\\\src\\\\utnce\\\\utnce202402')"
   ]
  },
  {
   "cell_type": "code",
   "execution_count": 3,
   "id": "cfb3f9ca-965d-4e64-8bf8-b31de3dc11cc",
   "metadata": {},
   "outputs": [],
   "source": [
    "from simplify import *\n",
    "from prepare import *\n",
    "from routing import *\n",
    "from percolation_plot import *\n",
    "from generate import *\n",
    "from transfer import *\n",
    "from copy import deepcopy\n",
    "from shapely.geometry import Point\n",
    "from pyproj import Proj, Transformer"
   ]
  },
  {
   "cell_type": "code",
   "execution_count": 4,
   "id": "b5923f27-7dda-41cd-a2d7-faf8035ac740",
   "metadata": {},
   "outputs": [],
   "source": [
    "osm_path = \"C:\\\\projects\\\\UTNCE\\\\data\\\\Amsterdam.large.pbf\""
   ]
  },
  {
   "cell_type": "markdown",
   "id": "3d9410cf-ba17-4005-af7c-d2aa358a1f94",
   "metadata": {},
   "source": [
    "# Subway-Amsterdam"
   ]
  },
  {
   "cell_type": "markdown",
   "id": "8661fba7-ac19-4e32-adb7-61a7e272b4bc",
   "metadata": {},
   "source": [
    "## Generate subway networks"
   ]
  },
  {
   "cell_type": "code",
   "execution_count": 5,
   "id": "29609cb2-546b-45a4-b027-0dcf06daae0a",
   "metadata": {},
   "outputs": [
    {
     "ename": "AttributeError",
     "evalue": "'NoneType' object has no attribute 'ExecuteSQL'",
     "output_type": "error",
     "traceback": [
      "\u001b[1;31m---------------------------------------------------------------------------\u001b[0m",
      "\u001b[1;31mAttributeError\u001b[0m                            Traceback (most recent call last)",
      "Cell \u001b[1;32mIn[5], line 1\u001b[0m\n\u001b[1;32m----> 1\u001b[0m sub_stations, edges, nodes, sub_routes, check_name \u001b[38;5;241m=\u001b[39m \u001b[43mprepare_metro\u001b[49m\u001b[43m(\u001b[49m\u001b[43mosm_path\u001b[49m\u001b[43m)\u001b[49m\n",
      "File \u001b[1;32mC:\\projects\\UTNCE\\src\\utnce\\utnce202402\\generate.py:30\u001b[0m, in \u001b[0;36mprepare_metro\u001b[1;34m(osm_path)\u001b[0m\n\u001b[0;32m     14\u001b[0m \u001b[38;5;250m\u001b[39m\u001b[38;5;124;03m\"\"\"\u001b[39;00m\n\u001b[0;32m     15\u001b[0m \u001b[38;5;124;03mPrepares the metro network data based on the given OSM path.\u001b[39;00m\n\u001b[0;32m     16\u001b[0m \n\u001b[1;32m   (...)\u001b[0m\n\u001b[0;32m     26\u001b[0m \u001b[38;5;124;03m        - check_name: Result of the check operation\u001b[39;00m\n\u001b[0;32m     27\u001b[0m \u001b[38;5;124;03m\"\"\"\u001b[39;00m\n\u001b[0;32m     29\u001b[0m \u001b[38;5;66;03m# Obtain sub-stations in the city\u001b[39;00m\n\u001b[1;32m---> 30\u001b[0m city_sub_stations \u001b[38;5;241m=\u001b[39m \u001b[43msub_stations\u001b[49m\u001b[43m(\u001b[49m\u001b[43mosm_path\u001b[49m\u001b[43m)\u001b[49m\n\u001b[0;32m     32\u001b[0m \u001b[38;5;66;03m# Obtain subway network data\u001b[39;00m\n\u001b[0;32m     33\u001b[0m city_sub_network \u001b[38;5;241m=\u001b[39m subway_network(osm_path)\n",
      "File \u001b[1;32mC:\\projects\\UTNCE\\src\\utnce\\utnce202402\\prepare.py:238\u001b[0m, in \u001b[0;36msub_stations\u001b[1;34m(osm_path)\u001b[0m\n\u001b[0;32m    227\u001b[0m \u001b[38;5;250m\u001b[39m\u001b[38;5;124;03m\"\"\"\u001b[39;00m\n\u001b[0;32m    228\u001b[0m \u001b[38;5;124;03mRetrieves subway stations from an OpenStreetMap file.\u001b[39;00m\n\u001b[0;32m    229\u001b[0m \n\u001b[1;32m   (...)\u001b[0m\n\u001b[0;32m    234\u001b[0m \u001b[38;5;124;03m    pandas.DataFrame: A DataFrame containing subway stations from the OSM file.\u001b[39;00m\n\u001b[0;32m    235\u001b[0m \u001b[38;5;124;03m\"\"\"\u001b[39;00m\n\u001b[0;32m    237\u001b[0m \u001b[38;5;66;03m# retrieve all public transportation stations from the OSM file and assigns the result to df_railway_stations\u001b[39;00m\n\u001b[1;32m--> 238\u001b[0m df_railway_stations \u001b[38;5;241m=\u001b[39m \u001b[43mpublic_stations\u001b[49m\u001b[43m(\u001b[49m\u001b[43mosm_path\u001b[49m\u001b[43m)\u001b[49m\n\u001b[0;32m    240\u001b[0m \u001b[38;5;66;03m# create sub_stations1 by filtering df_railway_stations to include only rows where the 'subway' column is 'yes'\u001b[39;00m\n\u001b[0;32m    241\u001b[0m sub_stations1 \u001b[38;5;241m=\u001b[39m df_railway_stations\u001b[38;5;241m.\u001b[39mloc[df_railway_stations\u001b[38;5;241m.\u001b[39msubway \u001b[38;5;241m==\u001b[39m \u001b[38;5;124m'\u001b[39m\u001b[38;5;124myes\u001b[39m\u001b[38;5;124m'\u001b[39m]\n",
      "File \u001b[1;32mC:\\projects\\UTNCE\\src\\utnce\\utnce202402\\prepare.py:224\u001b[0m, in \u001b[0;36mpublic_stations\u001b[1;34m(osm_path)\u001b[0m\n\u001b[0;32m    214\u001b[0m \u001b[38;5;28;01mdef\u001b[39;00m \u001b[38;5;21mpublic_stations\u001b[39m(osm_path):\n\u001b[0;32m    215\u001b[0m \u001b[38;5;250m    \u001b[39m\u001b[38;5;124;03m\"\"\"\u001b[39;00m\n\u001b[0;32m    216\u001b[0m \u001b[38;5;124;03m    Retrieves public transportation stations from an OpenStreetMap file.\u001b[39;00m\n\u001b[0;32m    217\u001b[0m \n\u001b[1;32m   (...)\u001b[0m\n\u001b[0;32m    222\u001b[0m \u001b[38;5;124;03m        list: A list of public transportation stations from the OSM file.\u001b[39;00m\n\u001b[0;32m    223\u001b[0m \u001b[38;5;124;03m    \"\"\"\u001b[39;00m\n\u001b[1;32m--> 224\u001b[0m     \u001b[38;5;28;01mreturn\u001b[39;00m \u001b[43mretrieve\u001b[49m\u001b[43m(\u001b[49m\u001b[43mosm_path\u001b[49m\u001b[43m,\u001b[49m\u001b[43m \u001b[49m\u001b[38;5;124;43m'\u001b[39;49m\u001b[38;5;124;43mpoints\u001b[39;49m\u001b[38;5;124;43m'\u001b[39;49m\u001b[43m,\u001b[49m\u001b[43m \u001b[49m\u001b[43m[\u001b[49m\u001b[38;5;124;43m'\u001b[39;49m\u001b[38;5;124;43mpublic_transport\u001b[39;49m\u001b[38;5;124;43m'\u001b[39;49m\u001b[43m,\u001b[49m\u001b[43m \u001b[49m\u001b[38;5;124;43m'\u001b[39;49m\u001b[38;5;124;43mrailway\u001b[39;49m\u001b[38;5;124;43m'\u001b[39;49m\u001b[43m,\u001b[49m\u001b[43m \u001b[49m\u001b[38;5;124;43m'\u001b[39;49m\u001b[38;5;124;43mtram\u001b[39;49m\u001b[38;5;124;43m'\u001b[39;49m\u001b[43m,\u001b[49m\u001b[43m \u001b[49m\u001b[38;5;124;43m'\u001b[39;49m\u001b[38;5;124;43msubway\u001b[39;49m\u001b[38;5;124;43m'\u001b[39;49m\u001b[43m,\u001b[49m\u001b[43m \u001b[49m\u001b[38;5;124;43m'\u001b[39;49m\u001b[38;5;124;43mhighway\u001b[39;49m\u001b[38;5;124;43m'\u001b[39;49m\u001b[43m,\u001b[49m\u001b[43m \u001b[49m\u001b[38;5;124;43m'\u001b[39;49m\u001b[38;5;124;43mbus\u001b[39;49m\u001b[38;5;124;43m'\u001b[39;49m\u001b[43m,\u001b[49m\u001b[43m \u001b[49m\u001b[38;5;124;43m'\u001b[39;49m\u001b[38;5;124;43mname\u001b[39;49m\u001b[38;5;124;43m'\u001b[39;49m\u001b[43m]\u001b[49m\u001b[43m)\u001b[49m\n",
      "File \u001b[1;32mC:\\projects\\UTNCE\\src\\utnce\\utnce202402\\prepare.py:88\u001b[0m, in \u001b[0;36mretrieve\u001b[1;34m(osm_path, geoType, keyCol, **valConstraint)\u001b[0m\n\u001b[0;32m     86\u001b[0m data \u001b[38;5;241m=\u001b[39m driver\u001b[38;5;241m.\u001b[39mOpen(osm_path)\n\u001b[0;32m     87\u001b[0m query \u001b[38;5;241m=\u001b[39m query_b(geoType,keyCol,\u001b[38;5;241m*\u001b[39m\u001b[38;5;241m*\u001b[39mvalConstraint)\n\u001b[1;32m---> 88\u001b[0m sql_lyr \u001b[38;5;241m=\u001b[39m \u001b[43mdata\u001b[49m\u001b[38;5;241;43m.\u001b[39;49m\u001b[43mExecuteSQL\u001b[49m(query)\n\u001b[0;32m     89\u001b[0m features \u001b[38;5;241m=\u001b[39m[]\n\u001b[0;32m     90\u001b[0m \u001b[38;5;66;03m# cl = columns \u001b[39;00m\n",
      "\u001b[1;31mAttributeError\u001b[0m: 'NoneType' object has no attribute 'ExecuteSQL'"
     ]
    }
   ],
   "source": [
    "sub_stations, edges, nodes, sub_routes, check_name = prepare_metro(osm_path)"
   ]
  },
  {
   "cell_type": "code",
   "execution_count": null,
   "id": "09435e0c-3e88-4df4-a152-950577d7fda3",
   "metadata": {
    "scrolled": true
   },
   "outputs": [],
   "source": [
    "edges"
   ]
  },
  {
   "cell_type": "code",
   "execution_count": null,
   "id": "fec49a78-490e-4108-a298-55c8c5f610c4",
   "metadata": {
    "scrolled": true
   },
   "outputs": [],
   "source": [
    "nodes"
   ]
  },
  {
   "cell_type": "code",
   "execution_count": null,
   "id": "318730ff-54b9-4546-9d38-183a5b5ca494",
   "metadata": {},
   "outputs": [],
   "source": [
    "replacement_dict = {\n",
    "     'Amsterdam Centraal': 'Centraal Station',\n",
    "}\n",
    "\n",
    "\n",
    "sub_routes, check_name = recheck_metro_routes(replacement_dict, sub_stations, sub_routes)"
   ]
  },
  {
   "cell_type": "code",
   "execution_count": null,
   "id": "b00f5d9b-bbed-4993-af5b-666a7129b4d3",
   "metadata": {
    "scrolled": true
   },
   "outputs": [],
   "source": [
    "sub_routes"
   ]
  },
  {
   "cell_type": "code",
   "execution_count": null,
   "id": "07e0b7b9-f3b1-4313-a072-5677b4d643af",
   "metadata": {
    "scrolled": true
   },
   "outputs": [],
   "source": [
    "sub_order_route_dict, sub_shortest_path_pairs, sub_shortest_path_edges, sub_edges = metro(sub_stations, edges, nodes, sub_routes, city='Amsterdam')"
   ]
  },
  {
   "cell_type": "code",
   "execution_count": null,
   "id": "b5b90ab0-e2f5-4e4b-a96e-c3fdf72ab54b",
   "metadata": {
    "scrolled": true
   },
   "outputs": [],
   "source": [
    "sub_order_route_dict"
   ]
  },
  {
   "cell_type": "code",
   "execution_count": null,
   "id": "8eec6cea-f65e-4fba-9457-7ded5dbeeaae",
   "metadata": {
    "scrolled": true
   },
   "outputs": [],
   "source": [
    "sub_edges"
   ]
  },
  {
   "cell_type": "code",
   "execution_count": null,
   "id": "7284fecc-d7b5-4b6b-ba64-15d02535df64",
   "metadata": {
    "scrolled": true
   },
   "outputs": [],
   "source": [
    "sub_shortest_path_edges"
   ]
  },
  {
   "cell_type": "markdown",
   "id": "d780a4e7-115b-43a5-b5eb-9f0449c6c2ca",
   "metadata": {
    "jp-MarkdownHeadingCollapsed": true
   },
   "source": [
    "## Add columns to nodes"
   ]
  },
  {
   "cell_type": "code",
   "execution_count": null,
   "id": "bd1d16d1-7d58-422c-9045-179ba8e218d2",
   "metadata": {},
   "outputs": [],
   "source": [
    "sub_order_route_dict = add_ref_to_orderroutes_or_shortestpath_dict(sub_order_route_dict, sub_routes)"
   ]
  },
  {
   "cell_type": "code",
   "execution_count": null,
   "id": "a90195b0-1fdc-474e-b326-ddbc4dd44ccd",
   "metadata": {
    "scrolled": true
   },
   "outputs": [],
   "source": [
    "sub_order_route_dict"
   ]
  },
  {
   "cell_type": "code",
   "execution_count": null,
   "id": "d6193811-d382-4e61-a0a5-5f2fa960cae6",
   "metadata": {},
   "outputs": [],
   "source": [
    "sub_new_nodes = add_columns_to_nodes(sub_order_route_dict, nodes)"
   ]
  },
  {
   "cell_type": "code",
   "execution_count": null,
   "id": "4cec93f0-963b-4d55-a40a-6351527a8f74",
   "metadata": {
    "scrolled": true
   },
   "outputs": [],
   "source": [
    "sub_new_nodes"
   ]
  },
  {
   "cell_type": "code",
   "execution_count": null,
   "id": "73479807-42d0-4ac3-902a-eef5f6582f9e",
   "metadata": {},
   "outputs": [],
   "source": [
    "# sub_new_nodes.to_excel('.\\city_sub_new_nodes11.xlsx',header = True, index = False)"
   ]
  },
  {
   "cell_type": "markdown",
   "id": "cf9d483e-2b61-4748-b3a9-38f2f78502e6",
   "metadata": {
    "jp-MarkdownHeadingCollapsed": true
   },
   "source": [
    "### retrive all transfer stations on each route"
   ]
  },
  {
   "cell_type": "code",
   "execution_count": null,
   "id": "67cc7b30-380c-4368-892a-3c2dbc26d2c0",
   "metadata": {},
   "outputs": [],
   "source": [
    "sub_transfer_stations_df = all_transfer_stations_df(sub_new_nodes)"
   ]
  },
  {
   "cell_type": "code",
   "execution_count": null,
   "id": "fc345f6e-8db7-4ab9-b8f8-463d877fe721",
   "metadata": {},
   "outputs": [],
   "source": [
    "sub_transfer_stations_df"
   ]
  },
  {
   "cell_type": "code",
   "execution_count": null,
   "id": "1bf1e6f0-d705-4890-91bd-acaf41c67a8d",
   "metadata": {},
   "outputs": [],
   "source": [
    "len(sub_transfer_stations_df)"
   ]
  },
  {
   "cell_type": "markdown",
   "id": "1722c05a-e238-4dfe-a8af-d9447be43e02",
   "metadata": {
    "jp-MarkdownHeadingCollapsed": true
   },
   "source": [
    "## Add columns to edges"
   ]
  },
  {
   "cell_type": "code",
   "execution_count": null,
   "id": "f2fbd7ff-f917-4c0e-ae1b-ad0eb31fc387",
   "metadata": {},
   "outputs": [],
   "source": [
    "sub_shortest_path_edges = add_ref_to_orderroutes_or_shortestpath_dict(sub_shortest_path_edges, sub_routes)"
   ]
  },
  {
   "cell_type": "code",
   "execution_count": null,
   "id": "20446d94-394b-4810-a49d-9397655fe78f",
   "metadata": {
    "scrolled": true
   },
   "outputs": [],
   "source": [
    "sub_shortest_path_edges"
   ]
  },
  {
   "cell_type": "code",
   "execution_count": null,
   "id": "0c1d836f-416a-48d2-b940-d26094cc2652",
   "metadata": {},
   "outputs": [],
   "source": [
    "sub_new_edges = add_columns_to_edges(sub_shortest_path_edges,edges)"
   ]
  },
  {
   "cell_type": "code",
   "execution_count": null,
   "id": "7db217d6-eb55-4e5f-96f8-f19fb9ddc943",
   "metadata": {
    "scrolled": true
   },
   "outputs": [],
   "source": [
    "sub_new_edges"
   ]
  },
  {
   "cell_type": "markdown",
   "id": "a39a5d27-a3d0-4370-beff-9a99e2051019",
   "metadata": {
    "jp-MarkdownHeadingCollapsed": true
   },
   "source": [
    "# Tram-Amsterdam"
   ]
  },
  {
   "cell_type": "markdown",
   "id": "d5c45918-1c1e-4783-9266-ac81a015e612",
   "metadata": {},
   "source": [
    "## Generate tram networks"
   ]
  },
  {
   "cell_type": "code",
   "execution_count": null,
   "id": "c190b701-ef7a-4cd9-8666-49288d09e03c",
   "metadata": {},
   "outputs": [],
   "source": [
    "city_tram_stations, edges, nodes, city_tram_routes = prepare_tram(osm_path)"
   ]
  },
  {
   "cell_type": "code",
   "execution_count": null,
   "id": "ed6b3a86-4e27-442c-8b3d-05eaab23365e",
   "metadata": {},
   "outputs": [],
   "source": [
    "edges"
   ]
  },
  {
   "cell_type": "code",
   "execution_count": null,
   "id": "3dbc2844-427e-426c-8dd8-82fb759df9ec",
   "metadata": {},
   "outputs": [],
   "source": [
    "nodes"
   ]
  },
  {
   "cell_type": "code",
   "execution_count": null,
   "id": "86746287-f682-46ce-ba70-37b0871e7f45",
   "metadata": {
    "scrolled": true
   },
   "outputs": [],
   "source": [
    "city_tram_routes"
   ]
  },
  {
   "cell_type": "code",
   "execution_count": null,
   "id": "36eff9b3-d2f4-4868-bd14-160d31e5007b",
   "metadata": {},
   "outputs": [],
   "source": [
    "len(city_tram_routes)"
   ]
  },
  {
   "cell_type": "code",
   "execution_count": null,
   "id": "8b3d7ad9-b00c-4ae7-a67b-e4b0d5bab3a8",
   "metadata": {},
   "outputs": [],
   "source": [
    "city_tram_routes = city_tram_routes.loc[city_tram_routes.ref != 'EMA']"
   ]
  },
  {
   "cell_type": "code",
   "execution_count": null,
   "id": "695b3777-2aa9-49b6-9b4a-9e2eb54be82e",
   "metadata": {},
   "outputs": [],
   "source": [
    "city_tram_routes, check_name = check_tram_routes(city_tram_stations, city_tram_routes)"
   ]
  },
  {
   "cell_type": "code",
   "execution_count": null,
   "id": "4d077665-e645-44fc-aa7d-2c951ce09bef",
   "metadata": {},
   "outputs": [],
   "source": [
    "replacement_dict = {\n",
    "    ',': '',\n",
    "    'Diemen': '',\n",
    "    'Amsterdam': '',\n",
    "    'Sloterdijk': 'Station Sloterdijk',\n",
    "    'Osdorp Dijkgraafsplein': 'Dijkgraafplein',\n",
    "    'Osdorp De Aker': 'Matterhorn'\n",
    "}\n",
    "\n",
    "city_tram_stations, city_tram_routes, check_name = recheck_tram_routes(replacement_dict, city_tram_stations, city_tram_routes)"
   ]
  },
  {
   "cell_type": "code",
   "execution_count": null,
   "id": "81d2a688-7ee1-47ad-a624-c6600462ef71",
   "metadata": {},
   "outputs": [],
   "source": [
    "replacement_dict = {\n",
    "    'Amstelveen Westwijk': 'Westwijk'\n",
    "}\n",
    "\n",
    "city_tram_stations, city_tram_routes, check_name = recheck_tram_routes(replacement_dict, city_tram_stations, city_tram_routes)"
   ]
  },
  {
   "cell_type": "code",
   "execution_count": null,
   "id": "538b0bc2-1134-4ce2-9476-39de1b43ba48",
   "metadata": {
    "scrolled": true
   },
   "outputs": [],
   "source": [
    "city_tram_order_route_dict, city_tram_shortest_path_pairs, city_tram_shortest_path_edges, tram_edges = tram(city_tram_stations, edges, nodes, city_tram_routes, city='Amsterdam')"
   ]
  },
  {
   "cell_type": "code",
   "execution_count": null,
   "id": "a5dc040c-0646-4966-855d-fbff9bde4b1e",
   "metadata": {},
   "outputs": [],
   "source": [
    "tram_edges"
   ]
  },
  {
   "cell_type": "markdown",
   "id": "b4e8ad57-4bbe-4abd-9f6f-56a47173eb9e",
   "metadata": {
    "jp-MarkdownHeadingCollapsed": true
   },
   "source": [
    "## Add columns to nodes"
   ]
  },
  {
   "cell_type": "code",
   "execution_count": null,
   "id": "7fc26112-297d-42f5-9b92-4305c0ec37a2",
   "metadata": {},
   "outputs": [],
   "source": [
    "city_tram_order_route_dict = add_ref_to_orderroutes_or_shortestpath_dict(city_tram_order_route_dict, city_tram_routes)"
   ]
  },
  {
   "cell_type": "code",
   "execution_count": null,
   "id": "cd5cf06d-239d-420c-b493-0b660c667c63",
   "metadata": {
    "scrolled": true
   },
   "outputs": [],
   "source": [
    "city_tram_order_route_dict"
   ]
  },
  {
   "cell_type": "code",
   "execution_count": null,
   "id": "21214d1d-39f1-40ac-bd9b-fec4ca4ba403",
   "metadata": {},
   "outputs": [],
   "source": [
    "city_tram_new_nodes = add_columns_to_nodes(city_tram_order_route_dict, nodes)"
   ]
  },
  {
   "cell_type": "code",
   "execution_count": null,
   "id": "a6708ee8-329a-44d3-b0ce-1b826a6b8b0e",
   "metadata": {
    "scrolled": true
   },
   "outputs": [],
   "source": [
    "city_tram_new_nodes"
   ]
  },
  {
   "cell_type": "code",
   "execution_count": null,
   "id": "e9c1028f-ad41-4f69-8710-baf0668601aa",
   "metadata": {},
   "outputs": [],
   "source": [
    "# city_tram_new_nodes.to_excel('./city_tram_new_nodes11.xlsx',header = True, index = False)"
   ]
  },
  {
   "cell_type": "markdown",
   "id": "75289cad-cf15-466d-9b3f-90faa334869c",
   "metadata": {
    "jp-MarkdownHeadingCollapsed": true
   },
   "source": [
    "### retrive all transfer stations on each route"
   ]
  },
  {
   "cell_type": "code",
   "execution_count": null,
   "id": "c05661ad-5bd7-42cf-83a7-376aa91f1c8e",
   "metadata": {},
   "outputs": [],
   "source": [
    "city_tram_transfer_stations_df = all_transfer_stations_df(city_tram_new_nodes)"
   ]
  },
  {
   "cell_type": "code",
   "execution_count": null,
   "id": "db54a96e-1c98-4635-873a-238375cf3f49",
   "metadata": {},
   "outputs": [],
   "source": [
    "city_tram_transfer_stations_df"
   ]
  },
  {
   "cell_type": "code",
   "execution_count": null,
   "id": "9af83dfe-2de4-4779-b18c-f8b2b60247b5",
   "metadata": {},
   "outputs": [],
   "source": [
    "len(city_tram_transfer_stations_df)"
   ]
  },
  {
   "cell_type": "markdown",
   "id": "4c355e50-b44b-4ec6-838c-a0d24eb56603",
   "metadata": {
    "jp-MarkdownHeadingCollapsed": true
   },
   "source": [
    "## Add columns to edges"
   ]
  },
  {
   "cell_type": "code",
   "execution_count": null,
   "id": "20b378bd-6faa-4090-99ce-aac6af5879a5",
   "metadata": {},
   "outputs": [],
   "source": [
    "city_tram_shortest_path_edges = add_ref_to_orderroutes_or_shortestpath_dict(city_tram_shortest_path_edges, city_tram_routes)"
   ]
  },
  {
   "cell_type": "code",
   "execution_count": null,
   "id": "309f2ae1-30fc-4af2-80b1-c9ac7f4b3418",
   "metadata": {
    "scrolled": true
   },
   "outputs": [],
   "source": [
    "city_tram_shortest_path_edges"
   ]
  },
  {
   "cell_type": "code",
   "execution_count": null,
   "id": "68cb8006-4609-4ef6-81f0-07051311a74e",
   "metadata": {},
   "outputs": [],
   "source": [
    "city_tram_new_edges = add_columns_to_edges(city_tram_shortest_path_edges,edges)"
   ]
  },
  {
   "cell_type": "code",
   "execution_count": null,
   "id": "c999663a-cd70-4cbc-96cd-2877de42576d",
   "metadata": {
    "scrolled": true
   },
   "outputs": [],
   "source": [
    "city_tram_new_edges"
   ]
  },
  {
   "cell_type": "markdown",
   "id": "e36bc443-e706-44e0-8fed-e0fa507d78b0",
   "metadata": {
    "jp-MarkdownHeadingCollapsed": true
   },
   "source": [
    "# Bus-Amsterdam"
   ]
  },
  {
   "cell_type": "markdown",
   "id": "dee4e6ca-52f8-41e2-ab2c-3896873209df",
   "metadata": {},
   "source": [
    "## Generate bus networks"
   ]
  },
  {
   "cell_type": "code",
   "execution_count": null,
   "id": "1d654f27-8a8b-45b1-afe3-3a16e495c9bf",
   "metadata": {},
   "outputs": [],
   "source": [
    "city_bus_stations, edges, nodes, city_bus_routes = prepare_bus(osm_path)"
   ]
  },
  {
   "cell_type": "code",
   "execution_count": null,
   "id": "af1326ac-72c4-4da8-9805-11e0eaff0515",
   "metadata": {},
   "outputs": [],
   "source": [
    "edges"
   ]
  },
  {
   "cell_type": "code",
   "execution_count": null,
   "id": "281b5e1e-92a8-4266-a5a8-6ac7ea857186",
   "metadata": {},
   "outputs": [],
   "source": [
    "nodes"
   ]
  },
  {
   "cell_type": "code",
   "execution_count": null,
   "id": "ac3f011f-9b4f-489e-964b-4a90a253979b",
   "metadata": {
    "scrolled": true
   },
   "outputs": [],
   "source": [
    "city_bus_routes"
   ]
  },
  {
   "cell_type": "code",
   "execution_count": null,
   "id": "71983de5-987f-4cbe-9d32-0501acd46ff6",
   "metadata": {},
   "outputs": [],
   "source": [
    "len(city_bus_routes)"
   ]
  },
  {
   "cell_type": "code",
   "execution_count": null,
   "id": "1db61589-6059-41e5-812c-d11f767968ea",
   "metadata": {},
   "outputs": [],
   "source": [
    "city_bus_routes = city_bus_routes.loc[city_bus_routes.network == 'Stadsvervoer Amsterdam']\n",
    "city_bus_routes = city_bus_routes.loc[city_bus_routes.service != 'night']"
   ]
  },
  {
   "cell_type": "code",
   "execution_count": null,
   "id": "2bf5538d-c5b8-4c09-a846-96b74b923b85",
   "metadata": {},
   "outputs": [],
   "source": [
    "city_bus_routes, check_name = check_bus_routes(city_bus_stations, city_bus_routes)"
   ]
  },
  {
   "cell_type": "code",
   "execution_count": null,
   "id": "d338494e-c8e8-4fb0-bde8-59da11af9c0b",
   "metadata": {},
   "outputs": [],
   "source": [
    "replacement_dict = {\n",
    "    'Amsterdam, ': '',\n",
    "    'Amsterdam': '',\n",
    "    'Weesp Station': 'Station',\n",
    "    'Osdorp De Aker': 'Matterhorn',\n",
    "    'Schiphol, Airport/Plaza': 'Schiphol, Airport',\n",
    "    'De Boelelaan': 'De Boelelaan/De Klencke'\n",
    "}\n",
    "replacement_dict1 = {\n",
    "    'Amsterdam, ': '',\n",
    "    'Amsterdam': '',\n",
    "}\n",
    "\n",
    "city_bus_stations['name'] = city_bus_stations['name'].replace(replacement_dict1, regex=True).str.strip()\n",
    "\n",
    "city_bus_stations, city_bus_routes, check_name = recheck_bus_routes(replacement_dict, city_bus_stations, city_bus_routes)"
   ]
  },
  {
   "cell_type": "code",
   "execution_count": null,
   "id": "ac8dea17-ea10-4147-8ff6-8e115f64faef",
   "metadata": {
    "scrolled": true
   },
   "outputs": [],
   "source": [
    "city_bus_order_route_dict, city_bus_shortest_path_pairs, city_bus_shortest_path_edges, bus_edges = bus(city_bus_stations, edges, nodes, city_bus_routes, city='Amsterdam')"
   ]
  },
  {
   "cell_type": "code",
   "execution_count": null,
   "id": "9f992367-7fa9-49d4-8733-fbee4de3f341",
   "metadata": {
    "scrolled": true
   },
   "outputs": [],
   "source": [
    "city_bus_order_route_dict"
   ]
  },
  {
   "cell_type": "code",
   "execution_count": null,
   "id": "d88cb650-02f5-418c-a169-943cfdd892e1",
   "metadata": {
    "scrolled": true
   },
   "outputs": [],
   "source": [
    "fig, ax = plt.subplots(1, 1, figsize=(40, 40))\n",
    "gpd.GeoDataFrame(bus_edges.copy()).plot(ax=ax, color='gray', alpha=0.2)\n",
    "gpd.GeoDataFrame(city_bus_shortest_path_edges['Bus 66: Amsterdam IJburg => Amsterdam Bijlmer ArenA'].copy()).plot(ax=ax, zorder=1,\n",
    "                                                                     linewidth=(city_bus_shortest_path_edges['Bus 66: Amsterdam IJburg => Amsterdam Bijlmer ArenA'].count_weight) * 2,\n",
    "                                                                     color='yellow')"
   ]
  },
  {
   "cell_type": "code",
   "execution_count": null,
   "id": "d99d0091-0566-445f-9952-2f7e2b8ac413",
   "metadata": {},
   "outputs": [],
   "source": [
    "len(city_bus_order_route_dict)"
   ]
  },
  {
   "cell_type": "code",
   "execution_count": null,
   "id": "27b780a4-9a3f-4f90-903c-ecafc650ae3c",
   "metadata": {
    "scrolled": true
   },
   "outputs": [],
   "source": [
    "bus_edges"
   ]
  },
  {
   "cell_type": "markdown",
   "id": "82af72ba-b129-42bd-b955-2073af275ed6",
   "metadata": {},
   "source": [
    "## Add columns to nodes"
   ]
  },
  {
   "cell_type": "code",
   "execution_count": null,
   "id": "d045c70c-7c46-4f85-8ce5-5baf58e49db5",
   "metadata": {},
   "outputs": [],
   "source": [
    "city_bus_order_route_dict = add_ref_to_orderroutes_or_shortestpath_dict(city_bus_order_route_dict, city_bus_routes)"
   ]
  },
  {
   "cell_type": "code",
   "execution_count": null,
   "id": "2642403c-17ea-4ddc-b3c1-b5c19b3ba85a",
   "metadata": {
    "scrolled": true
   },
   "outputs": [],
   "source": [
    "city_bus_order_route_dict"
   ]
  },
  {
   "cell_type": "code",
   "execution_count": null,
   "id": "861cc902-f6a9-4eda-9fb6-198a0f56ccef",
   "metadata": {},
   "outputs": [],
   "source": [
    "city_bus_new_nodes = add_columns_to_nodes(city_bus_order_route_dict, nodes)"
   ]
  },
  {
   "cell_type": "code",
   "execution_count": null,
   "id": "13e9506e-f344-429b-924d-9772531b3a5c",
   "metadata": {
    "scrolled": true
   },
   "outputs": [],
   "source": [
    "city_bus_new_nodes"
   ]
  },
  {
   "cell_type": "markdown",
   "id": "1e144549-2a56-410d-b3f8-02f63b1ae6e4",
   "metadata": {},
   "source": [
    "### retrive all transfer stations on each route"
   ]
  },
  {
   "cell_type": "code",
   "execution_count": null,
   "id": "6dcc1030-d0bb-4d60-985f-d250ae7a3bc9",
   "metadata": {},
   "outputs": [],
   "source": [
    "city_bus_transfer_stations_df = all_transfer_stations_df(city_bus_new_nodes)"
   ]
  },
  {
   "cell_type": "code",
   "execution_count": null,
   "id": "6288e333-e2bc-45d5-a89f-da6ae0e5c2bd",
   "metadata": {},
   "outputs": [],
   "source": [
    "city_bus_transfer_stations_df"
   ]
  },
  {
   "cell_type": "code",
   "execution_count": null,
   "id": "6bdea5b8-4cc5-4d0d-98d5-268d0b3e85a9",
   "metadata": {},
   "outputs": [],
   "source": [
    "len(city_bus_transfer_stations_df)"
   ]
  },
  {
   "cell_type": "markdown",
   "id": "e773e1f0-e0cb-4a36-9cc6-58a76bbbb9ab",
   "metadata": {},
   "source": [
    "## Add columns to edges"
   ]
  },
  {
   "cell_type": "code",
   "execution_count": null,
   "id": "7450d90a-c063-4dbf-a9c2-a231980a94fb",
   "metadata": {},
   "outputs": [],
   "source": [
    "city_bus_shortest_path_edges = add_ref_to_orderroutes_or_shortestpath_dict(city_bus_shortest_path_edges, city_bus_routes)"
   ]
  },
  {
   "cell_type": "code",
   "execution_count": null,
   "id": "7abb3f99-a68a-4b1e-b070-9784ee614960",
   "metadata": {
    "scrolled": true
   },
   "outputs": [],
   "source": [
    "city_bus_shortest_path_edges"
   ]
  },
  {
   "cell_type": "code",
   "execution_count": null,
   "id": "e59d8d64-ed40-4e03-ae86-f9275816f518",
   "metadata": {},
   "outputs": [],
   "source": [
    "city_bus_new_edges = add_columns_to_edges(city_bus_shortest_path_edges,edges)"
   ]
  },
  {
   "cell_type": "code",
   "execution_count": null,
   "id": "50ef654c-aa02-466d-94d5-e398b242ff68",
   "metadata": {
    "scrolled": true
   },
   "outputs": [],
   "source": [
    "city_bus_new_edges"
   ]
  },
  {
   "cell_type": "markdown",
   "id": "beea3adf-1afd-45b2-8018-46680d3fcc60",
   "metadata": {
    "jp-MarkdownHeadingCollapsed": true
   },
   "source": [
    "# Multi networks"
   ]
  },
  {
   "cell_type": "markdown",
   "id": "70435aa8-9236-42e5-babc-4adea1a10a3c",
   "metadata": {},
   "source": [
    "### Merge three networks"
   ]
  },
  {
   "cell_type": "code",
   "execution_count": null,
   "id": "9c4e534f-dfd6-46b0-8cb3-981263fac8d2",
   "metadata": {},
   "outputs": [],
   "source": [
    "three_networks_edges = pd.concat([sub_new_edges,city_tram_new_edges,city_bus_new_edges])\n",
    "# three_networks_nodes = pd.concat([sub_new_nodes_transfer_all,city_tram_new_nodes_transfer_all,city_bus_new_nodes_transfer_all]) \n",
    "three_networks_nodes = pd.concat([sub_new_nodes,city_tram_new_nodes,city_bus_new_nodes]) \n",
    "three_networks_routes = pd.concat([sub_routes,city_tram_routes,city_bus_routes])"
   ]
  },
  {
   "cell_type": "code",
   "execution_count": null,
   "id": "1d7b25e8-4484-476a-b276-23ae740eb6e6",
   "metadata": {
    "scrolled": true
   },
   "outputs": [],
   "source": [
    "three_networks_edges"
   ]
  },
  {
   "cell_type": "code",
   "execution_count": null,
   "id": "c231ccda-74f5-476a-8476-ac93e34e6d00",
   "metadata": {
    "scrolled": true
   },
   "outputs": [],
   "source": [
    "three_networks_nodes"
   ]
  },
  {
   "cell_type": "code",
   "execution_count": null,
   "id": "56ccad86-d9b9-4fec-b2a5-9d13030ee803",
   "metadata": {},
   "outputs": [],
   "source": [
    "type(three_networks_nodes.geometry[0])"
   ]
  },
  {
   "cell_type": "code",
   "execution_count": null,
   "id": "c7818836-b96c-46f3-aac7-060642c79cfc",
   "metadata": {
    "scrolled": true
   },
   "outputs": [],
   "source": [
    "three_networks_routes"
   ]
  },
  {
   "cell_type": "code",
   "execution_count": null,
   "id": "56b6eb63-0e5e-4333-865d-e2be4c30bcfd",
   "metadata": {},
   "outputs": [],
   "source": [
    "merged_order_route_dict = {key: value for d in [sub_order_route_dict, city_tram_order_route_dict, city_bus_order_route_dict] for key, value in d.items()}"
   ]
  },
  {
   "cell_type": "code",
   "execution_count": null,
   "id": "13638889-8f7a-46dc-b5aa-2951247ce8d3",
   "metadata": {
    "scrolled": true
   },
   "outputs": [],
   "source": [
    "merged_order_route_dict"
   ]
  },
  {
   "cell_type": "markdown",
   "id": "87037dd2-a7e4-4217-89ff-b6187c7e9249",
   "metadata": {
    "jp-MarkdownHeadingCollapsed": true
   },
   "source": [
    "# Adding ref_transfer_all column and get three_network_nodes_transfer_all"
   ]
  },
  {
   "cell_type": "code",
   "execution_count": null,
   "id": "3e8ff62f-d5bd-4ffb-ac40-c54f52d89cb2",
   "metadata": {},
   "outputs": [],
   "source": [
    "# convert coordinates in station_df from degree to meter\n",
    "def convert_deg_to_meter(new_nodes_df):\n",
    "    # Convert the 'geometry' column to a Point object\n",
    "    new_nodes_df['geometry'] = new_nodes_df.apply(lambda row: Point(row['geo_x'], row['geo_y']), axis=1)\n",
    "    \n",
    "    # Define the coordinate reference systems (CRS)\n",
    "    crs_deg = 'EPSG:4326'  # WGS 84, the standard coordinate system for GPS\n",
    "    crs_meter = 'EPSG:3857'  # World Mercator, commonly used for distance calculations\n",
    "\n",
    "    # Create a transformer to convert from degrees to meters\n",
    "    transformer = Transformer.from_crs(crs_deg, crs_meter, always_xy=True)\n",
    "\n",
    "    # Apply the transformer to each Point in the 'geometry' column\n",
    "    new_nodes_df['geometry'] = new_nodes_df['geometry'].apply(lambda point: Point(transformer.transform(point.x, point.y)))\n",
    "    \n",
    "    return new_nodes_df"
   ]
  },
  {
   "cell_type": "code",
   "execution_count": null,
   "id": "abdd3e67-143b-472f-abe3-2a82ff5297ec",
   "metadata": {},
   "outputs": [],
   "source": [
    "def new_nodes_buffer(new_nodes_df,buffer_radius):\n",
    "    new_nodes_df = convert_deg_to_meter(new_nodes_df)\n",
    "    node_buffers = []\n",
    "\n",
    "    for index, row in new_nodes_df.iterrows():\n",
    "        point = row['geometry']\n",
    "        buffer = point.buffer(buffer_radius)\n",
    "        node_buffers.append(buffer)\n",
    "\n",
    "    buffered_gdf = gpd.GeoDataFrame(geometry=node_buffers)\n",
    "    buffered_df = pd.DataFrame(buffered_gdf).rename(columns={'geometry': 'buffer_geometry'})\n",
    "    new_nodes_buffer_geometry = pd.concat([new_nodes_df,buffered_df],axis=1)\n",
    "    return new_nodes_buffer_geometry"
   ]
  },
  {
   "cell_type": "code",
   "execution_count": null,
   "id": "dc7c1d30-a16a-46d4-8076-d8e80c269adc",
   "metadata": {},
   "outputs": [],
   "source": [
    "def add_footnote_to_new_nodes(new_nodes_df):\n",
    "    new_nodes_df = convert_deg_to_meter(new_nodes_df)\n",
    "    # create a exactly same dataframe with new_nodes_df but name columns by different transportation routes\n",
    "    rename_cols = {\n",
    "    \"geometry\": \"geometry\"+\"_\"+new_nodes_df.loc[0,'route'],\n",
    "    \"degree\": \"degree\"+\"_\"+new_nodes_df.loc[0,'route'],\n",
    "    \"id\": \"id\"+\"_\"+new_nodes_df.loc[0,'route'],\n",
    "    \"name\": \"name\"+\"_\"+new_nodes_df.loc[0,'route'],\n",
    "    \"geo_x\": \"geo_x\"+\"_\"+new_nodes_df.loc[0,'route'],\n",
    "    \"geo_y\": \"geo_y\"+\"_\"+new_nodes_df.loc[0,'route'],\n",
    "    \"coordinate_value\": \"coordinate_value\"+\"_\"+new_nodes_df.loc[0,'route'],\n",
    "    \"route_name_list\": \"route_name_list\"+\"_\"+new_nodes_df.loc[0,'route'],\n",
    "    \"route\": \"route\"+\"_\"+new_nodes_df.loc[0,'route'],\n",
    "    \"ref\": \"ref\"+\"_\"+new_nodes_df.loc[0,'route'],\n",
    "    \"transfer\": \"transfer\"+\"_\"+new_nodes_df.loc[0,'route']\n",
    "    }\n",
    "    new_nodes_ftn = new_nodes_df.rename(columns=rename_cols)\n",
    "    return new_nodes_ftn"
   ]
  },
  {
   "cell_type": "code",
   "execution_count": null,
   "id": "a194a3c2-a2a3-4ac9-9e6a-c2fd3fc14af0",
   "metadata": {},
   "outputs": [],
   "source": [
    "def transfer_A_to_B(A_new_nodes_buffer_geometry,B_new_nodes_ftn):\n",
    "    transfer_stations_A_to_B = pd.DataFrame()\n",
    "    \n",
    "    for index, row in A_new_nodes_buffer_geometry.iterrows():\n",
    "        each_transfer_stations_df = B_new_nodes_ftn[row['buffer_geometry'].intersects(B_new_nodes_ftn.iloc[:, 0])]\n",
    "        \n",
    "        if not each_transfer_stations_df.empty:\n",
    "            replicated_row = pd.concat([row] * len(each_transfer_stations_df), axis=1).transpose()\n",
    "            replicated_row.reset_index(drop=True, inplace=True)  # Reset the index\n",
    "            each_transfer_stations_df.reset_index(drop=True, inplace=True)  # Reset the index\n",
    "            co_df = pd.concat([replicated_row,each_transfer_stations_df], axis=1)\n",
    "            transfer_stations_A_to_B = pd.concat([transfer_stations_A_to_B,co_df])\n",
    "            \n",
    "       \n",
    "\n",
    "    return transfer_stations_A_to_B"
   ]
  },
  {
   "cell_type": "code",
   "execution_count": null,
   "id": "af11b97d-03df-47f3-8922-5c3b95d31496",
   "metadata": {},
   "outputs": [],
   "source": [
    "def process_ref_transfer_all(cell_value):\n",
    "    if pd.notna(cell_value):  # 检查是否是 NaN 值\n",
    "        return set(filter(lambda x: x != 'nan', map(str.strip, cell_value.split(','))))\n",
    "    else:\n",
    "        return set()"
   ]
  },
  {
   "cell_type": "code",
   "execution_count": null,
   "id": "13f1f74e-fca5-4285-adfe-fa48e378419d",
   "metadata": {},
   "outputs": [],
   "source": [
    "def add_ref_transfer_all_to_new_nodes(transfer_stations_A_to_B, transfer_stations_A_to_C, A_new_nodes):\n",
    "\n",
    "    selected_columns_to_B = transfer_stations_A_to_B.iloc[:, [0, 3, 9,21]]\n",
    "\n",
    "    unique_rows_to_B = selected_columns_to_B.drop_duplicates(subset='geometry')\n",
    "\n",
    "    unique_rows_to_B['ref_1'] = unique_rows_to_B.apply(lambda row: f\"{row.iloc[2]}, {row.iloc[3]}\", axis=1)\n",
    "\n",
    "\n",
    "    transfer_ref_to_B = unique_rows_to_B[['name', 'ref_1']].drop_duplicates(subset='name')\n",
    "\n",
    "    A_new_nodes_to_B = pd.merge(A_new_nodes,transfer_ref_to_B,on = 'name', how = 'left')\n",
    "\n",
    "    \n",
    "    selected_columns_to_C = transfer_stations_A_to_C.iloc[:, [0, 3, 9,21]]\n",
    "\n",
    "    unique_rows_to_C = selected_columns_to_C.drop_duplicates(subset='geometry')\n",
    "\n",
    "    unique_rows_to_C['ref_2'] = unique_rows_to_C.apply(lambda row: f\"{row.iloc[2]}, {row.iloc[3]}\", axis=1)\n",
    "\n",
    "\n",
    "    transfer_ref_to_C = unique_rows_to_C[['name', 'ref_2']].drop_duplicates(subset='name')\n",
    "\n",
    "    A_new_nodes_to_B_C = pd.merge(A_new_nodes_to_B,transfer_ref_to_C,on = 'name', how = 'left')\n",
    "    \n",
    "\n",
    "    A_new_nodes_to_B_C['ref_transfer_all'] = A_new_nodes_to_B_C.apply(lambda row: f\"{row['ref']}, {row['ref_1']}, {row['ref_2']}\", axis=1)\n",
    "    \n",
    "    A_new_nodes_to_B_C['ref_transfer_all'] = A_new_nodes_to_B_C['ref_transfer_all'].apply(process_ref_transfer_all)\n",
    "\n",
    "    A_new_nodes_transfer_all = A_new_nodes_to_B_C\n",
    "    \n",
    "\n",
    "    return A_new_nodes_transfer_all"
   ]
  },
  {
   "cell_type": "code",
   "execution_count": null,
   "id": "a52f3273-47d3-4401-8feb-58e89ba967d8",
   "metadata": {},
   "outputs": [],
   "source": [
    "buffer_radius = 200"
   ]
  },
  {
   "cell_type": "code",
   "execution_count": null,
   "id": "94b6401c-10c7-4d6a-bae3-97c57a5fcf71",
   "metadata": {
    "scrolled": true
   },
   "outputs": [],
   "source": [
    "sub_new_nodes_buffer_geometry = new_nodes_buffer(sub_new_nodes,buffer_radius)\n",
    "\n",
    "city_tram_new_nodes_ftn = add_footnote_to_new_nodes(city_tram_new_nodes)\n",
    "transfer_stations_sub_to_tram = transfer_A_to_B(sub_new_nodes_buffer_geometry,city_tram_new_nodes_ftn)\n",
    "\n",
    "city_bus_new_nodes_ftn = add_footnote_to_new_nodes(city_bus_new_nodes)\n",
    "transfer_stations_sub_to_bus = transfer_A_to_B(sub_new_nodes_buffer_geometry,city_bus_new_nodes_ftn)\n",
    "\n",
    "sub_new_nodes_transfer_all = add_ref_transfer_all_to_new_nodes(transfer_stations_sub_to_tram, transfer_stations_sub_to_bus, sub_new_nodes)\n",
    "sub_new_nodes_transfer_all"
   ]
  },
  {
   "cell_type": "code",
   "execution_count": null,
   "id": "5a630253-e1d0-4ca6-87c8-732a3c3bb89e",
   "metadata": {
    "scrolled": true
   },
   "outputs": [],
   "source": [
    "city_tram_new_nodes_buffer_geometry = new_nodes_buffer(city_tram_new_nodes,buffer_radius)\n",
    "\n",
    "sub_new_nodes_ftn = add_footnote_to_new_nodes(sub_new_nodes)\n",
    "transfer_stations_tram_to_sub = transfer_A_to_B(city_tram_new_nodes_buffer_geometry,sub_new_nodes_ftn)\n",
    "\n",
    "city_bus_new_nodes_ftn = add_footnote_to_new_nodes(city_bus_new_nodes)\n",
    "transfer_stations_tram_to_bus = transfer_A_to_B(city_tram_new_nodes_buffer_geometry,city_bus_new_nodes_ftn)\n",
    "\n",
    "city_tram_new_nodes_transfer_all = add_ref_transfer_all_to_new_nodes(transfer_stations_tram_to_sub, transfer_stations_tram_to_bus, city_tram_new_nodes)\n",
    "city_tram_new_nodes_transfer_all"
   ]
  },
  {
   "cell_type": "code",
   "execution_count": null,
   "id": "e24303a5-5e48-4408-9661-e5847242f19e",
   "metadata": {
    "scrolled": true
   },
   "outputs": [],
   "source": [
    "city_bus_new_nodes_buffer_geometry = new_nodes_buffer(city_bus_new_nodes,buffer_radius)\n",
    "\n",
    "sub_new_nodes_ftn = add_footnote_to_new_nodes(sub_new_nodes)\n",
    "transfer_stations_bus_to_sub = transfer_A_to_B(city_bus_new_nodes_buffer_geometry,sub_new_nodes_ftn)\n",
    "\n",
    "city_tram_new_nodes_ftn = add_footnote_to_new_nodes(city_tram_new_nodes)\n",
    "transfer_stations_bus_to_tram = transfer_A_to_B(city_bus_new_nodes_buffer_geometry,city_tram_new_nodes_ftn)\n",
    "\n",
    "city_bus_new_nodes_transfer_all = add_ref_transfer_all_to_new_nodes(transfer_stations_bus_to_sub, transfer_stations_bus_to_tram, city_bus_new_nodes)\n",
    "city_bus_new_nodes_transfer_all"
   ]
  },
  {
   "cell_type": "code",
   "execution_count": null,
   "id": "f2383bd2-8b52-4e7a-9a63-bbfed33ba3b7",
   "metadata": {},
   "outputs": [],
   "source": [
    "three_networks_nodes_transfer_all = pd.concat([sub_new_nodes_transfer_all,city_tram_new_nodes_transfer_all,city_bus_new_nodes_transfer_all]).reset_index(drop=True)"
   ]
  },
  {
   "cell_type": "code",
   "execution_count": null,
   "id": "21bfc781-8271-46cb-ae39-5cd57d99148f",
   "metadata": {
    "scrolled": true
   },
   "outputs": [],
   "source": [
    "three_networks_nodes_transfer_all"
   ]
  },
  {
   "cell_type": "markdown",
   "id": "2b2f5e8d-ab57-4f6f-9adf-aaf1d623826a",
   "metadata": {
    "jp-MarkdownHeadingCollapsed": true
   },
   "source": [
    "# Create original points dataframe and OD pair list"
   ]
  },
  {
   "cell_type": "code",
   "execution_count": null,
   "id": "e6e92953-0716-4b52-b711-228cc54fb8f4",
   "metadata": {
    "scrolled": true
   },
   "outputs": [],
   "source": [
    "sub_order_route_dict"
   ]
  },
  {
   "cell_type": "code",
   "execution_count": null,
   "id": "a6d0e18a-53e9-4532-a368-db4b3ef08586",
   "metadata": {},
   "outputs": [],
   "source": [
    "origin_df = pd.DataFrame()\n",
    "each_o_point = pd.DataFrame()\n",
    "for route_name, station_df in sub_order_route_dict.items():\n",
    "    each_o_point = station_df.loc[[0]]\n",
    "    origin_df = pd.concat([origin_df,each_o_point])\n",
    "origin_df.drop_duplicates(subset='geometry', inplace=True)\n",
    "selected_columns = ['geometry','geo_x','geo_y','name']\n",
    "origin_df = origin_df[selected_columns].reset_index(drop=True)\n",
    "origin_df = convert_deg_to_meter(origin_df)\n",
    "origin_df['o_geo_x'] = origin_df['geometry'].apply(lambda point: point.x)\n",
    "origin_df['o_geo_y'] = origin_df['geometry'].apply(lambda point: point.y)\n",
    "origin_df"
   ]
  },
  {
   "cell_type": "code",
   "execution_count": null,
   "id": "8fafcaa1-aff1-4172-ab5c-598956de0df7",
   "metadata": {},
   "outputs": [],
   "source": [
    "# rename_cols = {\n",
    "#     \"geometry\": \"o_geometry\",\n",
    "#     \"geo_x\": \"o_geo_x\",\n",
    "#     \"geo_y\": \"o_geo_y\"\n",
    "#     }\n",
    "# origin_df = origin_df.rename(columns=rename_cols)\n",
    "# origin_df"
   ]
  },
  {
   "cell_type": "code",
   "execution_count": null,
   "id": "70d486ae-67db-44d9-b4ab-bb42f12bf098",
   "metadata": {
    "scrolled": true
   },
   "outputs": [],
   "source": [
    "destination_df1 = pd.DataFrame()\n",
    "each_d_point = pd.DataFrame()\n",
    "for route_name, station_df in city_tram_order_route_dict.items():\n",
    "    each_d_point = station_df.loc[[0]]\n",
    "    destination_df1 = pd.concat([destination_df1,each_d_point])\n",
    "destination_df1.drop_duplicates(subset='geometry', inplace=True)\n",
    "selected_columns = ['geometry', 'geo_x', 'geo_y']\n",
    "destination_df1 = destination_df1[selected_columns].reset_index(drop=True)\n",
    "destination_df1"
   ]
  },
  {
   "cell_type": "code",
   "execution_count": null,
   "id": "021474fa-6c08-491b-b6b1-dc7f03920f0f",
   "metadata": {
    "scrolled": true
   },
   "outputs": [],
   "source": [
    "destination_df2 = pd.DataFrame()\n",
    "each_d_point = pd.DataFrame()\n",
    "for route_name, station_df in city_bus_order_route_dict.items():\n",
    "    each_d_point = station_df.loc[[0]]\n",
    "    destination_df2 = pd.concat([destination_df2,each_d_point])\n",
    "destination_df2.drop_duplicates(subset='geometry', inplace=True)\n",
    "selected_columns = ['geometry', 'geo_x', 'geo_y']\n",
    "destination_df2 = destination_df2[selected_columns].reset_index(drop=True)\n",
    "destination_df2"
   ]
  },
  {
   "cell_type": "code",
   "execution_count": null,
   "id": "b49cf02b-0f53-4d1f-9fd9-cc641491ed8f",
   "metadata": {
    "scrolled": true
   },
   "outputs": [],
   "source": [
    "destination_df = pd.concat([destination_df1,destination_df2])\n",
    "destination_df.drop_duplicates(subset='geometry', inplace=True)\n",
    "destination_df = destination_df.reset_index(drop=True)\n",
    "destination_df = convert_deg_to_meter(destination_df)\n",
    "destination_df['d_geo_x'] = destination_df['geometry'].apply(lambda point: point.x)\n",
    "destination_df['d_geo_y'] = destination_df['geometry'].apply(lambda point: point.y)\n",
    "destination_df"
   ]
  },
  {
   "cell_type": "code",
   "execution_count": null,
   "id": "ad878c8d-5493-4fc2-a102-6445efacb44c",
   "metadata": {},
   "outputs": [],
   "source": [
    "# rename_cols = {\n",
    "#     \"geometry\": \"d_geometry\",\n",
    "#     \"geo_x\": \"d_geo_x\",\n",
    "#     \"geo_y\": \"d_geo_y\"\n",
    "#     }\n",
    "# destination_df = destination_df.rename(columns=rename_cols)\n",
    "\n",
    "# destination_df"
   ]
  },
  {
   "cell_type": "code",
   "execution_count": null,
   "id": "3059a1c0-c160-4e2a-ba5c-f9389cf1a27c",
   "metadata": {},
   "outputs": [],
   "source": [
    "OD_list = []\n",
    "for index, row_origin in origin_df.iterrows():\n",
    "    o_geo_x = row_origin['o_geo_x']\n",
    "    o_geo_y = row_origin['o_geo_y']\n",
    "       \n",
    "    for index, row_destination in destination_df.iterrows():\n",
    "        d_geo_x = row_destination['d_geo_x']\n",
    "        d_geo_y = row_destination['d_geo_y']\n",
    "        \n",
    "        OD_dict = {'s_coordinates_x': o_geo_x, 's_coordinates_y': o_geo_y, 'e_coordinates_x': d_geo_x, 'e_coordinates_y': d_geo_y}\n",
    "        OD_list.append(OD_dict)        "
   ]
  },
  {
   "cell_type": "code",
   "execution_count": null,
   "id": "99753d60-984d-451d-8af2-a307794df948",
   "metadata": {
    "scrolled": true
   },
   "outputs": [],
   "source": [
    "OD_list"
   ]
  },
  {
   "cell_type": "code",
   "execution_count": null,
   "id": "717e4cc0-fa69-49d1-929e-5065eb83fdf0",
   "metadata": {},
   "outputs": [],
   "source": [
    "len(OD_list)"
   ]
  },
  {
   "cell_type": "code",
   "execution_count": null,
   "id": "f13209a0-2529-49c0-8484-33bf210cb0b1",
   "metadata": {},
   "outputs": [],
   "source": [
    "OD_list[50]"
   ]
  },
  {
   "cell_type": "markdown",
   "id": "3ec1cdaa-9030-4587-962a-49324130ae64",
   "metadata": {
    "jp-MarkdownHeadingCollapsed": true
   },
   "source": [
    "# Situation1-1: Test and revise transfer functions with OD_list and three_network_nodes_transfer_all----- on one same route"
   ]
  },
  {
   "cell_type": "code",
   "execution_count": null,
   "id": "356cee9f-9055-429d-aed9-5a5dd37c92fe",
   "metadata": {},
   "outputs": [],
   "source": [
    "start_node, end_node = s_e_node_df(OD_list[50], three_networks_nodes_transfer_all)"
   ]
  },
  {
   "cell_type": "code",
   "execution_count": null,
   "id": "f866a6a5-f6a6-431a-a9bc-718adc2aac54",
   "metadata": {},
   "outputs": [],
   "source": [
    "start_node"
   ]
  },
  {
   "cell_type": "code",
   "execution_count": null,
   "id": "d64de87d-c281-4f80-b36f-f5ed763e11b3",
   "metadata": {},
   "outputs": [],
   "source": [
    "end_node"
   ]
  },
  {
   "cell_type": "markdown",
   "id": "5d48d335-84b2-4b8f-a06f-54ae8bb14e46",
   "metadata": {},
   "source": [
    "### Find the route which the s_e nodes are on----compare with new_edges instead of routes dataframe, should compare with routes dataframe"
   ]
  },
  {
   "cell_type": "code",
   "execution_count": null,
   "id": "b08e4940-0876-41ba-9cba-f53190a426b2",
   "metadata": {},
   "outputs": [],
   "source": [
    "def s_e_on_route_ref_transfer_all(start_node, end_node):\n",
    "    \n",
    "    start_node_ref_transfer_all = start_node.ref_transfer_all.to_list()\n",
    "    s_on_route_ref_transfer_all = pd.DataFrame(list(start_node_ref_transfer_all[0]), columns=['ref'])\n",
    "\n",
    "    end_node_ref_transfer_all = end_node.ref_transfer_all.to_list()\n",
    "    e_on_route_ref_transfer_all = pd.DataFrame(list(end_node_ref_transfer_all[0]), columns=['ref'])\n",
    "\n",
    "    return s_on_route_ref_transfer_all, e_on_route_ref_transfer_all"
   ]
  },
  {
   "cell_type": "code",
   "execution_count": null,
   "id": "9dfb1558-9d84-45e1-915f-8157039a745d",
   "metadata": {},
   "outputs": [],
   "source": [
    "s_on_route_ref,e_on_route_ref = s_e_on_route_ref_transfer_all(start_node, end_node)"
   ]
  },
  {
   "cell_type": "code",
   "execution_count": null,
   "id": "357423da-15de-4b34-b21d-babbe6dd05a5",
   "metadata": {},
   "outputs": [],
   "source": [
    "s_on_route_ref"
   ]
  },
  {
   "cell_type": "code",
   "execution_count": null,
   "id": "fcae3fbf-c019-4448-8876-f2e69cd46065",
   "metadata": {},
   "outputs": [],
   "source": [
    "e_on_route_ref"
   ]
  },
  {
   "cell_type": "markdown",
   "id": "429a63f3-daf3-4d21-8e80-2a4418dc7942",
   "metadata": {},
   "source": [
    "### Make judgement of s_e_on_route_ref"
   ]
  },
  {
   "cell_type": "code",
   "execution_count": null,
   "id": "a059c692-02f5-4180-850f-c49c8886bdec",
   "metadata": {},
   "outputs": [],
   "source": [
    "s_on_route_ref, e_on_route_ref = judge_on_route(s_on_route_ref, e_on_route_ref)"
   ]
  },
  {
   "cell_type": "markdown",
   "id": "c56e9917-2eb9-448c-95c4-b0d2a51002e5",
   "metadata": {},
   "source": [
    "### Find those same routes"
   ]
  },
  {
   "cell_type": "code",
   "execution_count": null,
   "id": "9141ca82-b7f2-4417-8d7f-277db549e0d6",
   "metadata": {},
   "outputs": [],
   "source": [
    "s_e_same_routes_df = s_e_same_routes(s_on_route_ref,e_on_route_ref)\n",
    "s_e_same_routes_df"
   ]
  },
  {
   "cell_type": "markdown",
   "id": "83aaf065-c120-46ee-82e8-d63cedfb47ee",
   "metadata": {},
   "source": [
    "### Get the same route information--- A route gdf"
   ]
  },
  {
   "cell_type": "code",
   "execution_count": null,
   "id": "0ebf9978-5fb8-46b6-a6a1-19f469c39dc0",
   "metadata": {},
   "outputs": [],
   "source": [
    "s_e_on_possible_route_df = pd.merge(s_e_same_routes_df, three_networks_routes, on='ref', how='left')\n",
    "s_e_on_possible_route_df"
   ]
  },
  {
   "cell_type": "code",
   "execution_count": null,
   "id": "a5931f47-d8f0-4f88-9cb9-ad785196006c",
   "metadata": {},
   "outputs": [],
   "source": [
    "s_e_on_route_possible_gdf = gpd.GeoDataFrame(s_e_on_possible_route_df.copy()).reset_index(drop=True)\n",
    "\n",
    "start_node_gdf = gpd.GeoDataFrame(start_node.copy())\n",
    "start_node_gdf.crs = \"EPSG:3857\"\n",
    "start_node_gdf = start_node_gdf.to_crs(\"EPSG:4326\")\n",
    "end_node_gdf = gpd.GeoDataFrame(end_node.copy())\n",
    "end_node_gdf.crs = \"EPSG:3857\"\n",
    "end_node_gdf = end_node_gdf.to_crs(\"EPSG:4326\")"
   ]
  },
  {
   "cell_type": "code",
   "execution_count": null,
   "id": "b03b409a-2f4d-45b9-8c99-258581875236",
   "metadata": {},
   "outputs": [],
   "source": [
    "s_e_on_route_possible_gdf"
   ]
  },
  {
   "cell_type": "code",
   "execution_count": null,
   "id": "ac513d52-7785-4fca-83ae-5a05a9ec1835",
   "metadata": {},
   "outputs": [],
   "source": []
  },
  {
   "cell_type": "code",
   "execution_count": null,
   "id": "9c29462d-f1dd-4b3d-839e-5a85518e367a",
   "metadata": {},
   "outputs": [],
   "source": []
  },
  {
   "cell_type": "code",
   "execution_count": null,
   "id": "ab10b4af-b012-4623-a3ae-4278bb56f71b",
   "metadata": {},
   "outputs": [],
   "source": []
  },
  {
   "cell_type": "code",
   "execution_count": null,
   "id": "ebf0a7ba-de1f-4b28-8041-7e89ae244edd",
   "metadata": {},
   "outputs": [],
   "source": []
  },
  {
   "cell_type": "code",
   "execution_count": null,
   "id": "9edd3703-2d50-4c08-a8aa-1e2790427a82",
   "metadata": {},
   "outputs": [],
   "source": [
    "start_node_gdf.iloc[0]['geometry']"
   ]
  },
  {
   "cell_type": "code",
   "execution_count": null,
   "id": "f9f81898-c696-4c31-9754-01dc233c2fce",
   "metadata": {},
   "outputs": [],
   "source": [
    "s_e_on_route_possible_gdf.geometry.buffer(0.000001).intersects(start_node_gdf.iloc[0]['geometry'])"
   ]
  },
  {
   "cell_type": "code",
   "execution_count": null,
   "id": "547976a1-28b0-43de-b815-f053b1cc39fd",
   "metadata": {},
   "outputs": [],
   "source": [
    "s_e_on_same_route_gdf = s_e_on_route_possible_gdf[s_e_on_route_possible_gdf.geometry.buffer(0.000001).intersects(start_node_gdf.iloc[0]['geometry'])]\n",
    "s_e_on_same_route_gdf"
   ]
  },
  {
   "cell_type": "code",
   "execution_count": null,
   "id": "3a148742-dde1-4495-ac68-edffb5ffa482",
   "metadata": {},
   "outputs": [],
   "source": [
    "s_e_on_route_possible_gdf.geometry.buffer(0.000001).intersects(end_node_gdf.iloc[0]['geometry'])"
   ]
  },
  {
   "cell_type": "code",
   "execution_count": null,
   "id": "507dadd8-a394-433a-b807-49f346568e70",
   "metadata": {},
   "outputs": [],
   "source": []
  },
  {
   "cell_type": "code",
   "execution_count": null,
   "id": "e69b6780-20b4-483f-b43a-8b3eb02b527a",
   "metadata": {},
   "outputs": [],
   "source": []
  },
  {
   "cell_type": "code",
   "execution_count": null,
   "id": "f12cd8c7-9fcc-443a-b6b0-3c94298213dd",
   "metadata": {},
   "outputs": [],
   "source": []
  },
  {
   "cell_type": "code",
   "execution_count": null,
   "id": "4235863b-a5be-4d5c-b053-83f0e135ada3",
   "metadata": {},
   "outputs": [],
   "source": []
  },
  {
   "cell_type": "code",
   "execution_count": null,
   "id": "a33ecdfb-95a9-403f-aa0f-89c1ad146010",
   "metadata": {},
   "outputs": [],
   "source": []
  },
  {
   "cell_type": "code",
   "execution_count": null,
   "id": "abeb0045-7542-495a-9eae-4f83d1e40f6f",
   "metadata": {},
   "outputs": [],
   "source": []
  },
  {
   "cell_type": "code",
   "execution_count": null,
   "id": "8df22c94-950b-4fc1-b351-36fa5ccf169e",
   "metadata": {},
   "outputs": [],
   "source": []
  },
  {
   "cell_type": "code",
   "execution_count": null,
   "id": "81fb5188-6833-49e4-b804-0b95c885c2ef",
   "metadata": {},
   "outputs": [],
   "source": [
    "def s_e_same_routes_transfer_all(s_e_same_routes_df,three_networks_routes,start_node):\n",
    "    s_e_on_possible_route_df = pd.merge(s_e_same_routes_df, three_networks_routes, on='ref', how='left')\n",
    "    s_e_on_route_possible_gdf = gpd.GeoDataFrame(s_e_on_possible_route_df.copy())\n",
    "\n",
    "    start_node_gdf = gpd.GeoDataFrame(start_node.copy())\n",
    "    start_node_gdf.crs = \"EPSG:3857\"\n",
    "    start_node_gdf = start_node_gdf.to_crs(\"EPSG:4326\")\n",
    "\n",
    "    s_e_on_same_route_gdf = s_e_on_route_possible_gdf[s_e_on_route_possible_gdf.geometry.buffer(0.000001).intersects(start_node_gdf.iloc[0]['geometry'])]\n",
    "    return start_node_gdf,s_e_on_same_route_gdf"
   ]
  },
  {
   "cell_type": "code",
   "execution_count": null,
   "id": "4f6a7eee-3cf8-473e-9779-9d0ddcc25d58",
   "metadata": {},
   "outputs": [],
   "source": [
    "start_node_gdf,s_e_on_same_route_gdf = s_e_same_routes_transfer_all(s_e_same_routes_df,three_networks_routes,start_node)"
   ]
  },
  {
   "cell_type": "code",
   "execution_count": null,
   "id": "0240c3b7-640b-4632-97ca-7b7fbdd16a1e",
   "metadata": {},
   "outputs": [],
   "source": [
    "s_e_on_same_route_gdf"
   ]
  },
  {
   "cell_type": "code",
   "execution_count": null,
   "id": "063b675f-252b-4666-9bb0-b8780e768e13",
   "metadata": {},
   "outputs": [],
   "source": []
  },
  {
   "cell_type": "code",
   "execution_count": null,
   "id": "a48f8078-e09b-4f53-bfab-06e2eef4589d",
   "metadata": {},
   "outputs": [],
   "source": []
  },
  {
   "cell_type": "code",
   "execution_count": null,
   "id": "de6c2778-3858-4b3d-bced-c1a5a8eaf90e",
   "metadata": {},
   "outputs": [],
   "source": []
  },
  {
   "cell_type": "code",
   "execution_count": null,
   "id": "1c70c183-e65a-4595-8b7a-b9dde0d75d0f",
   "metadata": {},
   "outputs": [],
   "source": []
  },
  {
   "cell_type": "code",
   "execution_count": null,
   "id": "9798b367-7214-42cd-924f-13d08b78a42e",
   "metadata": {},
   "outputs": [],
   "source": [
    "def s_e_same_routes_transfer_all(s_e_same_routes_df,three_networks_routes,start_node):\n",
    "    s_e_on_same_route_gdf = pd.DataFrame(three_networks_routes[three_networks_routes.name == start_node_gdf.iloc[0]['route_name_list']]).reset_index(drop=True)\n",
    "    return s_e_on_same_route_gdf"
   ]
  },
  {
   "cell_type": "code",
   "execution_count": null,
   "id": "58209737-884d-49ca-b98e-56de29a4cfbc",
   "metadata": {},
   "outputs": [],
   "source": [
    "s_e_on_same_route_gdf = s_e_same_routes_transfer_all(s_e_same_routes_df,three_networks_routes,start_node)"
   ]
  },
  {
   "cell_type": "code",
   "execution_count": null,
   "id": "59dbcf93-1f9b-44bc-aa29-7df5a2beb9f2",
   "metadata": {},
   "outputs": [],
   "source": [
    "s_e_on_same_route_gdf"
   ]
  },
  {
   "cell_type": "code",
   "execution_count": null,
   "id": "68987f8d-23da-4fdc-8cfc-ed0960718212",
   "metadata": {},
   "outputs": [],
   "source": []
  },
  {
   "cell_type": "markdown",
   "id": "3cdc8c0a-a1ef-4c70-a650-f1cc32f9feb5",
   "metadata": {},
   "source": [
    "### Get all stations between s_e nodes"
   ]
  },
  {
   "cell_type": "code",
   "execution_count": null,
   "id": "9cc02a0e-0d12-4dd8-b2b5-1ccaf7cd430c",
   "metadata": {},
   "outputs": [],
   "source": [
    "def all_btw_stations_on_same_route_gdf(merged_order_route_dict, s_e_on_same_route_gdf, start_node_gdf):\n",
    "    all_stations_on_same_route = merged_order_route_dict[s_e_on_same_route_gdf.name[0]]\n",
    "   \n",
    "    all_stations_on_same_route_gdf = gpd.GeoDataFrame(all_stations_on_same_route.copy())\n",
    "    all_stations_on_same_route_gdf.crs = \"EPSG:3857\"\n",
    "    end_node_gdf = gpd.GeoDataFrame(end_node.copy())\n",
    "    end_node_gdf.crs = \"EPSG:3857\"\n",
    "    end_node_gdf = end_node_gdf.to_crs(\"EPSG:4326\")\n",
    "\n",
    "    start_station_index = shapely.distance(start_node_gdf.geometry.values,all_stations_on_same_route_gdf.geometry.values).argmin()\n",
    "    end_station_index = shapely.distance(end_node_gdf.geometry.values,all_stations_on_same_route_gdf.geometry.values).argmin()\n",
    "    all_btw_stations_on_same_route_gdf = all_stations_on_same_route_gdf.iloc[start_station_index:end_station_index+1]\n",
    "\n",
    "    return all_btw_stations_on_same_route_gdf"
   ]
  },
  {
   "cell_type": "code",
   "execution_count": null,
   "id": "e176b7a9-19f0-4f6f-b8d8-bce9e550faae",
   "metadata": {},
   "outputs": [],
   "source": [
    "all_btw_stations_on_same_route_gdf = all_btw_stations_on_same_route_gdf(merged_order_route_dict, s_e_on_same_route_gdf, start_node_gdf)\n",
    "all_btw_stations_on_same_route_gdf"
   ]
  },
  {
   "cell_type": "code",
   "execution_count": null,
   "id": "4e8373da-5328-4065-ad71-a33d0278b62c",
   "metadata": {},
   "outputs": [],
   "source": []
  },
  {
   "cell_type": "code",
   "execution_count": null,
   "id": "3b75d2e4-6adb-44ac-85c7-af9b4c5a9618",
   "metadata": {},
   "outputs": [],
   "source": []
  },
  {
   "cell_type": "code",
   "execution_count": null,
   "id": "04db0d4e-405e-444f-aee8-958633ff626d",
   "metadata": {
    "scrolled": true
   },
   "outputs": [],
   "source": [
    "# all_stations_on_same_route_gdf.iloc[shapely.distance(end_node_gdf.geometry.values,all_stations_on_same_route_gdf.geometry.values).argmin()]"
   ]
  },
  {
   "cell_type": "markdown",
   "id": "ed9b73fc-3503-4079-9f5a-c3116d9fa715",
   "metadata": {},
   "source": [
    "### Get all nodes and id_pairs of nodes between s_e nodes"
   ]
  },
  {
   "cell_type": "code",
   "execution_count": null,
   "id": "e1bd7537-c67b-4178-b7a1-28e594448b28",
   "metadata": {},
   "outputs": [],
   "source": [
    "def btw_all_ids_pairs_transfer_all(all_btw_stations_on_same_route_gdf, three_networks_nodes_transfer_all):\n",
    "    s_e_between_nodes = three_networks_nodes_transfer_all.merge(all_btw_stations_on_same_route_gdf, on = 'coordinate_value', suffixes=('', '_drop'))\n",
    "\n",
    "    btw_all_id_pairs_list = []\n",
    "    s_e_btw_nodes_transfer_all = three_networks_nodes_transfer_all.merge(all_btw_stations_on_same_route_gdf, on = 'coordinate_value', suffixes=('', '_drop'))\n",
    "\n",
    "   \n",
    "\n",
    "    id_pairs_way1 = pd.DataFrame(columns=['s_id', 'e_id'])\n",
    "\n",
    "  \n",
    "    for i in range(len(s_e_btw_nodes_transfer_all)-1):\n",
    "           \n",
    "        id_pairs_way1.loc[i, 's_id'] = s_e_btw_nodes_transfer_all.loc[i, 'id']\n",
    "        id_pairs_way1.loc[i, 'e_id'] = s_e_btw_nodes_transfer_all.loc[i+1, 'id']\n",
    "        \n",
    "\n",
    "    btw_all_id_pairs_list.append(id_pairs_way1)\n",
    "\n",
    "    return btw_all_id_pairs_list"
   ]
  },
  {
   "cell_type": "code",
   "execution_count": null,
   "id": "eb2bc218-a9a3-4b42-82bf-f8257f329d4e",
   "metadata": {
    "scrolled": true
   },
   "outputs": [],
   "source": [
    "btw_all_id_pairs_list = btw_all_ids_pairs_transfer_all(all_btw_stations_on_same_route_gdf,three_networks_nodes_transfer_all)\n",
    "btw_all_id_pairs_list"
   ]
  },
  {
   "cell_type": "markdown",
   "id": "5a80e7ee-e875-4796-ac75-9ed51e77db6e",
   "metadata": {},
   "source": [
    "### Calculate shortest path and plot"
   ]
  },
  {
   "cell_type": "code",
   "execution_count": null,
   "id": "e552eb59-f803-42fe-9b07-5bf34fbf377a",
   "metadata": {},
   "outputs": [],
   "source": [
    "btw_all_id_pairs_list_unique = drop_df_in_list(btw_all_id_pairs_list)"
   ]
  },
  {
   "cell_type": "code",
   "execution_count": null,
   "id": "4c8c9fe1-e07b-469a-b268-b3b21f1928e3",
   "metadata": {
    "scrolled": true
   },
   "outputs": [],
   "source": [
    "btw_all_id_pairs_list_unique"
   ]
  },
  {
   "cell_type": "code",
   "execution_count": null,
   "id": "d92bd74e-8f9d-44a4-9407-81e4892e6579",
   "metadata": {},
   "outputs": [],
   "source": [
    "def judge_merged_df_for_G(s_e_on_same_route_gdf,sub_edges,tram_edges,bus_edges):\n",
    "    \n",
    "    if s_e_on_same_route_gdf.route[0] == 'subway':\n",
    "        merged_df = sub_edges['geometry']\n",
    "        return merged_df\n",
    "    elif s_e_on_same_route_gdf.route[0] == 'tram':\n",
    "        merged_df = tram_edges['geometry']        \n",
    "        return merged_df\n",
    "    elif s_e_on_same_route_gdf.route[0] == 'bus':\n",
    "        merged_df = bus_edges['geometry']\n",
    "        return merged_df\n",
    "    else:\n",
    "        print('There maybe someting wrong in s_e_on_same_route_gdf')\n",
    "\n",
    "\n",
    "def edges_df_G_shortest(s_e_on_same_route_gdf,sub_edges,tram_edges,bus_edges,three_networks_edges):\n",
    "    merged_df = judge_merged_df_for_G(s_e_on_same_route_gdf,sub_edges,tram_edges,bus_edges)\n",
    "    \n",
    "    edges_df_G_shortest = pd.merge(merged_df,three_networks_edges, on = 'geometry', how = 'inner')\n",
    "    \n",
    "    columns_to_delete = ['count_weight', 'route_name_list',\t'route', 'ref']\n",
    "    edges_df_G_shortest = edges_df_G_shortest.drop(columns_to_delete, axis=1)\n",
    "    \n",
    "    return edges_df_G_shortest"
   ]
  },
  {
   "cell_type": "code",
   "execution_count": null,
   "id": "92a20b98-5de8-48dc-ba4d-481d8889a8b1",
   "metadata": {},
   "outputs": [],
   "source": [
    "edges_df_G_shortest = edges_df_G_shortest(s_e_on_same_route_gdf,sub_edges,tram_edges,bus_edges,three_networks_edges)"
   ]
  },
  {
   "cell_type": "code",
   "execution_count": null,
   "id": "d122be45-7338-44f6-96be-2efd634b1807",
   "metadata": {},
   "outputs": [],
   "source": [
    "G = create_ground_graph(edges_df_G_shortest, three_networks_nodes)"
   ]
  },
  {
   "cell_type": "code",
   "execution_count": null,
   "id": "1fffcd47-cd94-4120-872c-34ca71f1f077",
   "metadata": {},
   "outputs": [],
   "source": [
    "shortest_path_pairs_way = all_shortest_paths(G, btw_all_id_pairs_list_unique[0], edges_df_G_shortest)"
   ]
  },
  {
   "cell_type": "code",
   "execution_count": null,
   "id": "b3cca6cd-2a05-4513-a781-4b9d68c45a8a",
   "metadata": {
    "scrolled": true
   },
   "outputs": [],
   "source": [
    "shortest_path_pairs_way"
   ]
  },
  {
   "cell_type": "code",
   "execution_count": null,
   "id": "51eba21b-8d46-4dd2-aab7-a7321db57eeb",
   "metadata": {},
   "outputs": [],
   "source": [
    "duplicate_row_count_way, shortest_path_edges_way, edges_way = edges_with_count_weight(shortest_path_pairs_way, edges_df_G_shortest)"
   ]
  },
  {
   "cell_type": "code",
   "execution_count": null,
   "id": "8b98f768-0a22-48e4-a1bd-be1ede68cae1",
   "metadata": {
    "scrolled": true
   },
   "outputs": [],
   "source": [
    "shortest_path_edges_way"
   ]
  },
  {
   "cell_type": "code",
   "execution_count": null,
   "id": "742b4b0f-35ab-4efa-8399-6fe4597c27a5",
   "metadata": {
    "scrolled": true
   },
   "outputs": [],
   "source": [
    "shortest_path_edges_way.time.sum()"
   ]
  },
  {
   "cell_type": "code",
   "execution_count": null,
   "id": "d2bb941f-85c4-49a1-a95f-8ef8b484a63e",
   "metadata": {
    "scrolled": true
   },
   "outputs": [],
   "source": [
    "fig, ax = plt.subplots(1, 1, figsize=(30, 20))\n",
    "\n",
    "gpd.GeoDataFrame(three_networks_edges.copy()).plot(ax=ax, color='gray', alpha=0.2)\n",
    "\n",
    "gpd.GeoDataFrame(shortest_path_edges_way.copy()).plot(ax=ax, zorder=1, linewidth=(shortest_path_edges_way.count_weight), color='orange')"
   ]
  },
  {
   "cell_type": "code",
   "execution_count": null,
   "id": "7293bb97-d27f-422d-9a76-df6ab7824716",
   "metadata": {},
   "outputs": [],
   "source": []
  },
  {
   "cell_type": "code",
   "execution_count": null,
   "id": "7c93aa82-0f9e-4676-abb4-be2cc35ebb6c",
   "metadata": {},
   "outputs": [],
   "source": []
  },
  {
   "cell_type": "code",
   "execution_count": null,
   "id": "6877db23-2b1f-4bd5-8ff5-0d8a5786c75e",
   "metadata": {},
   "outputs": [],
   "source": []
  },
  {
   "cell_type": "code",
   "execution_count": null,
   "id": "5af12ac9-4d96-4480-8ca9-a0d594b94163",
   "metadata": {},
   "outputs": [],
   "source": []
  },
  {
   "cell_type": "code",
   "execution_count": null,
   "id": "67ff7792-3826-4420-9773-ee993d3d604b",
   "metadata": {},
   "outputs": [],
   "source": []
  },
  {
   "cell_type": "code",
   "execution_count": null,
   "id": "4137c568-1320-45ff-8af0-e0f0907e249c",
   "metadata": {},
   "outputs": [],
   "source": []
  },
  {
   "cell_type": "code",
   "execution_count": null,
   "id": "3ca5ef03-4152-4e20-a45e-16aca1004288",
   "metadata": {},
   "outputs": [],
   "source": []
  },
  {
   "cell_type": "code",
   "execution_count": null,
   "id": "33bbf1ee-6081-43ad-8423-44763101ddcf",
   "metadata": {},
   "outputs": [],
   "source": []
  },
  {
   "cell_type": "code",
   "execution_count": null,
   "id": "c17c1422-10d4-4f76-a6b6-c9c884275626",
   "metadata": {},
   "outputs": [],
   "source": [
    "sub_edges"
   ]
  },
  {
   "cell_type": "code",
   "execution_count": null,
   "id": "321e3a1f-44e8-4e2c-9a5b-3afca3b7a3da",
   "metadata": {},
   "outputs": [],
   "source": [
    "G = create_ground_graph(sub_edges, three_networks_nodes)"
   ]
  },
  {
   "cell_type": "code",
   "execution_count": null,
   "id": "81722006-eac9-4830-b91d-72843b5be38a",
   "metadata": {},
   "outputs": [],
   "source": [
    "shortest_path_pairs_way = all_shortest_paths(G, btw_all_id_pairs_list_unique[0], sub_edges)"
   ]
  },
  {
   "cell_type": "code",
   "execution_count": null,
   "id": "62dba435-a54b-4b93-80e2-70f3349ca66b",
   "metadata": {
    "scrolled": true
   },
   "outputs": [],
   "source": [
    "shortest_path_pairs_way"
   ]
  },
  {
   "cell_type": "code",
   "execution_count": null,
   "id": "4a3898fb-c515-458e-842c-59ef9b396f97",
   "metadata": {},
   "outputs": [],
   "source": [
    "duplicate_row_count_way, shortest_path_edges_way, edges_way = edges_with_count_weight(shortest_path_pairs_way, sub_edges)"
   ]
  },
  {
   "cell_type": "code",
   "execution_count": null,
   "id": "1d68b328-e2a3-4e6f-bff7-a2f5cb4eb09a",
   "metadata": {
    "scrolled": true
   },
   "outputs": [],
   "source": [
    "shortest_path_edges_way"
   ]
  },
  {
   "cell_type": "code",
   "execution_count": null,
   "id": "7ac7eed4-048a-42ef-82da-e44d890cdad4",
   "metadata": {
    "scrolled": true
   },
   "outputs": [],
   "source": [
    "shortest_path_edges_way.time.sum()"
   ]
  },
  {
   "cell_type": "code",
   "execution_count": null,
   "id": "b7063ed7-411a-4673-9489-0f601aa849c9",
   "metadata": {
    "scrolled": true
   },
   "outputs": [],
   "source": [
    "fig, ax = plt.subplots(1, 1, figsize=(30, 20))\n",
    "\n",
    "gpd.GeoDataFrame(city_bus_new_edges.copy()).plot(ax=ax, color='gray', alpha=0.2)\n",
    "\n",
    "gpd.GeoDataFrame(shortest_path_edges_way.copy()).plot(ax=ax, zorder=1, linewidth=(shortest_path_edges_way.count_weight), color='orange')"
   ]
  },
  {
   "cell_type": "code",
   "execution_count": null,
   "id": "27197217-47ad-4bde-8138-490f4dac0b8a",
   "metadata": {},
   "outputs": [],
   "source": []
  },
  {
   "cell_type": "code",
   "execution_count": null,
   "id": "ed8f2573-cbb1-4865-a20c-1bbda214f8a6",
   "metadata": {},
   "outputs": [],
   "source": []
  },
  {
   "cell_type": "code",
   "execution_count": null,
   "id": "50bc0e67-dca3-49b3-bf3a-253f04b63bb7",
   "metadata": {},
   "outputs": [],
   "source": []
  },
  {
   "cell_type": "code",
   "execution_count": null,
   "id": "7df776cf-33ae-4748-8694-0dc15697456b",
   "metadata": {},
   "outputs": [],
   "source": []
  },
  {
   "cell_type": "code",
   "execution_count": null,
   "id": "747add95-a766-499f-a0e6-e375ea2657e1",
   "metadata": {},
   "outputs": [],
   "source": []
  },
  {
   "cell_type": "code",
   "execution_count": null,
   "id": "f6dd646e-526f-4008-86e8-2288076a0f85",
   "metadata": {},
   "outputs": [],
   "source": []
  },
  {
   "cell_type": "code",
   "execution_count": null,
   "id": "865035a9-39b9-4048-97a6-d3fada3ea3df",
   "metadata": {},
   "outputs": [],
   "source": []
  },
  {
   "cell_type": "code",
   "execution_count": null,
   "id": "c0875b15-1b0c-454e-ac1e-250062ba6e75",
   "metadata": {},
   "outputs": [],
   "source": []
  },
  {
   "cell_type": "code",
   "execution_count": null,
   "id": "81a97a3f-c884-4e10-a148-858c641538bc",
   "metadata": {},
   "outputs": [],
   "source": [
    "sub_edges_geometry = sub_edges['geometry']\n",
    "sub_edges_geometry"
   ]
  },
  {
   "cell_type": "code",
   "execution_count": null,
   "id": "1ee5dd33-0e14-4fb3-b42f-bb9276743e74",
   "metadata": {},
   "outputs": [],
   "source": [
    "all_btw_stations_on_edges = pd.merge(sub_edges_geometry,three_networks_edges, on = 'geometry', how = 'inner')\n",
    "all_btw_stations_on_edges"
   ]
  },
  {
   "cell_type": "code",
   "execution_count": null,
   "id": "6207c0a3-95e5-40b2-8a30-928ddbbe7ad6",
   "metadata": {},
   "outputs": [],
   "source": [
    "columns_to_delete = ['count_weight', 'route_name_list',\t'route']\n",
    "all_btw_stations_on_edges_for_shortest = all_btw_stations_on_edges.drop(columns_to_delete, axis=1)\n",
    "all_btw_stations_on_edges_for_shortest"
   ]
  },
  {
   "cell_type": "code",
   "execution_count": null,
   "id": "5ba230a7-f0b1-45d9-8cc6-c22ced686fae",
   "metadata": {},
   "outputs": [],
   "source": [
    "G = create_ground_graph(all_btw_stations_on_edges_for_shortest, three_networks_nodes)"
   ]
  },
  {
   "cell_type": "code",
   "execution_count": null,
   "id": "6100dbb9-e7c4-4f6b-ad82-0dc7a67aea54",
   "metadata": {},
   "outputs": [],
   "source": [
    "shortest_path_pairs_way = all_shortest_paths(G, btw_all_id_pairs_list_unique[0], all_btw_stations_on_edges_for_shortest)"
   ]
  },
  {
   "cell_type": "code",
   "execution_count": null,
   "id": "e8cf3f52-d8f3-4b36-ac0f-fbd09d8e8e1c",
   "metadata": {
    "scrolled": true
   },
   "outputs": [],
   "source": [
    "shortest_path_pairs_way"
   ]
  },
  {
   "cell_type": "code",
   "execution_count": null,
   "id": "04057e62-69d3-4707-ab3c-568b3e107803",
   "metadata": {},
   "outputs": [],
   "source": [
    "duplicate_row_count_way, shortest_path_edges_way, edges_way = edges_with_count_weight(shortest_path_pairs_way, all_btw_stations_on_edges_for_shortest)"
   ]
  },
  {
   "cell_type": "code",
   "execution_count": null,
   "id": "342f8482-3259-4057-8fef-47009fb6ed97",
   "metadata": {
    "scrolled": true
   },
   "outputs": [],
   "source": [
    "shortest_path_edges_way"
   ]
  },
  {
   "cell_type": "code",
   "execution_count": null,
   "id": "195e8b82-7088-4996-9a9c-438a64ef2040",
   "metadata": {
    "scrolled": true
   },
   "outputs": [],
   "source": [
    "shortest_path_edges_way.time.sum()"
   ]
  },
  {
   "cell_type": "code",
   "execution_count": null,
   "id": "614f257c-9bc5-49cc-a1a1-04a77384009b",
   "metadata": {
    "scrolled": true
   },
   "outputs": [],
   "source": [
    "fig, ax = plt.subplots(1, 1, figsize=(30, 20))\n",
    "\n",
    "gpd.GeoDataFrame(city_bus_new_edges.copy()).plot(ax=ax, color='gray', alpha=0.2)\n",
    "\n",
    "gpd.GeoDataFrame(shortest_path_edges_way.copy()).plot(ax=ax, zorder=1, linewidth=(shortest_path_edges_way.count_weight), color='orange')"
   ]
  },
  {
   "cell_type": "markdown",
   "id": "4c2af3c7-3dd3-4027-96a1-317a66f30e51",
   "metadata": {
    "jp-MarkdownHeadingCollapsed": true
   },
   "source": [
    "# Situation1-2: Test and revise transfer functions with OD_list and three_network_nodes_transfer_all----- on more than one same routes"
   ]
  },
  {
   "cell_type": "code",
   "execution_count": null,
   "id": "e22cb06f-e95f-415d-abf1-3851bf563aa8",
   "metadata": {},
   "outputs": [],
   "source": [
    "start_node, end_node = s_e_node_df(OD_list[55], three_networks_nodes_transfer_all)"
   ]
  },
  {
   "cell_type": "code",
   "execution_count": null,
   "id": "e859adba-d53e-4fdf-b406-38e14b02308b",
   "metadata": {},
   "outputs": [],
   "source": [
    "start_node"
   ]
  },
  {
   "cell_type": "code",
   "execution_count": null,
   "id": "b7ba0f19-c492-4713-a343-cd955301d2c7",
   "metadata": {},
   "outputs": [],
   "source": [
    "end_node"
   ]
  },
  {
   "cell_type": "markdown",
   "id": "4ad30e8d-257c-467a-9911-146d691da9ac",
   "metadata": {},
   "source": [
    "### Find the route which the s_e nodes are on----compare with new_edges instead of routes dataframe, should compare with routes dataframe"
   ]
  },
  {
   "cell_type": "code",
   "execution_count": null,
   "id": "ae3ae88f-59ba-4894-94f3-19b32e21bb3d",
   "metadata": {},
   "outputs": [],
   "source": [
    "def s_e_on_route_ref_transfer_all(start_node, end_node):\n",
    "    \n",
    "    start_node_ref_transfer_all = start_node.ref_transfer_all.to_list()\n",
    "    s_on_route_ref_transfer_all = pd.DataFrame(list(start_node_ref_transfer_all[0]), columns=['ref'])\n",
    "\n",
    "    end_node_ref_transfer_all = end_node.ref_transfer_all.to_list()\n",
    "    e_on_route_ref_transfer_all = pd.DataFrame(list(end_node_ref_transfer_all[0]), columns=['ref'])\n",
    "\n",
    "    return s_on_route_ref_transfer_all, e_on_route_ref_transfer_all"
   ]
  },
  {
   "cell_type": "code",
   "execution_count": null,
   "id": "7b315bc0-1b0f-4568-bd4b-c3528a7b0d47",
   "metadata": {},
   "outputs": [],
   "source": [
    "s_on_route_ref,e_on_route_ref = s_e_on_route_ref_transfer_all(start_node, end_node)"
   ]
  },
  {
   "cell_type": "code",
   "execution_count": null,
   "id": "e1aa7f1c-ce73-40da-a3e8-bd9dbd360104",
   "metadata": {},
   "outputs": [],
   "source": [
    "s_on_route_ref"
   ]
  },
  {
   "cell_type": "code",
   "execution_count": null,
   "id": "2cc754b8-eb57-4f6c-8a3f-9f7168dd4adf",
   "metadata": {},
   "outputs": [],
   "source": [
    "e_on_route_ref"
   ]
  },
  {
   "cell_type": "markdown",
   "id": "0a944d64-09d7-4869-870d-a73b0913ebaa",
   "metadata": {},
   "source": [
    "### Make judgement of s_e_on_route_ref"
   ]
  },
  {
   "cell_type": "code",
   "execution_count": null,
   "id": "386c5690-c51e-4989-ab95-60105149aaaa",
   "metadata": {},
   "outputs": [],
   "source": [
    "s_on_route_ref, e_on_route_ref = judge_on_route(s_on_route_ref, e_on_route_ref)"
   ]
  },
  {
   "cell_type": "markdown",
   "id": "fc65832f-ff75-4140-9cfe-c1e6eefb2450",
   "metadata": {},
   "source": [
    "### Find those same routes"
   ]
  },
  {
   "cell_type": "code",
   "execution_count": null,
   "id": "1cee2d53-596a-4068-a312-579aa33a18d4",
   "metadata": {},
   "outputs": [],
   "source": [
    "s_e_same_routes_df = s_e_same_routes(s_on_route_ref,e_on_route_ref)\n",
    "s_e_same_routes_df"
   ]
  },
  {
   "cell_type": "markdown",
   "id": "11a5c984-8111-4813-a1ac-80b6a4e81705",
   "metadata": {},
   "source": [
    "### Get all stations between s_e nodes and transfer nodes"
   ]
  },
  {
   "cell_type": "code",
   "execution_count": null,
   "id": "52dc5517-ae8b-4e1c-9a67-79052f1c557c",
   "metadata": {},
   "outputs": [],
   "source": [
    "def s_e_same_routes_transfer_all(s_e_same_routes_df,three_networks_routes,start_node):\n",
    "    s_e_on_possible_route_df = pd.merge(s_e_same_routes_df, three_networks_routes, on='ref', how='left')\n",
    "    s_e_on_route_possible_gdf = gpd.GeoDataFrame(s_e_on_possible_route_df.copy())\n",
    "\n",
    "    start_node_gdf = gpd.GeoDataFrame(start_node.copy())\n",
    "    start_node_gdf.crs = \"EPSG:3857\"\n",
    "    start_node_gdf = start_node_gdf.to_crs(\"EPSG:4326\")\n",
    "    \n",
    "    s_e_on_route_possible_gdf = s_e_on_route_possible_gdf.reset_index(drop=True)\n",
    "    start_node_gdf = start_node_gdf.reset_index(drop=True)\n",
    "    \n",
    "    s_e_on_same_route_gdf = s_e_on_route_possible_gdf[s_e_on_route_possible_gdf.geometry.buffer(0.000001).intersects(start_node_gdf.geometry)]\n",
    "    return s_e_on_same_route_gdf"
   ]
  },
  {
   "cell_type": "code",
   "execution_count": null,
   "id": "5237c738-9979-40bb-ae33-37bad6fb9f2c",
   "metadata": {},
   "outputs": [],
   "source": [
    "s_e_on_same_route_gdf = s_e_same_routes_transfer_all(s_e_same_routes_df,three_networks_routes,start_node)\n",
    "s_e_on_same_route_gdf"
   ]
  },
  {
   "cell_type": "code",
   "execution_count": null,
   "id": "dbdd1ad6-4763-4d7c-b72f-ddc5d20cb7b5",
   "metadata": {},
   "outputs": [],
   "source": [
    "len(s_e_same_routes_df)"
   ]
  },
  {
   "cell_type": "code",
   "execution_count": null,
   "id": "bde2a40d-6d3a-47d2-b877-e5c0bb3e19e5",
   "metadata": {},
   "outputs": [],
   "source": []
  },
  {
   "cell_type": "code",
   "execution_count": null,
   "id": "532a69f8-32c2-48a5-9c6c-87cff1e0e4ca",
   "metadata": {},
   "outputs": [],
   "source": [
    "s_e_on_possible_route_df = pd.merge(s_e_same_routes_df, three_networks_routes, on='ref', how='left')\n",
    "s_e_on_possible_route_df"
   ]
  },
  {
   "cell_type": "code",
   "execution_count": null,
   "id": "6475fb96-2b56-44b7-95b1-9d82136a4863",
   "metadata": {},
   "outputs": [],
   "source": [
    "s_e_on_route_possible_gdf = gpd.GeoDataFrame(s_e_on_possible_route_df.copy())\n",
    "\n",
    "start_node_gdf = gpd.GeoDataFrame(start_node.copy())\n",
    "start_node_gdf.crs = \"EPSG:3857\"\n",
    "start_node_gdf = start_node_gdf.to_crs(\"EPSG:4326\")"
   ]
  },
  {
   "cell_type": "code",
   "execution_count": null,
   "id": "62b11118-6c81-4de9-8830-1b146d2f88b0",
   "metadata": {},
   "outputs": [],
   "source": [
    "start_node_gdf"
   ]
  },
  {
   "cell_type": "code",
   "execution_count": null,
   "id": "fdb6278d-e699-4ccf-802f-df77e3ee2e90",
   "metadata": {},
   "outputs": [],
   "source": [
    "s_e_on_route_possible_gdf.geometry[1]"
   ]
  },
  {
   "cell_type": "code",
   "execution_count": null,
   "id": "d316d6db-30dc-42a1-b24a-9bf14accbb44",
   "metadata": {},
   "outputs": [],
   "source": [
    "s_e_on_route_possible_gdf.geometry[2].buffer(0.000001).intersects(start_node_gdf.geometry)"
   ]
  },
  {
   "cell_type": "code",
   "execution_count": null,
   "id": "245244a1-8adb-4ccc-a793-3b63856d8219",
   "metadata": {},
   "outputs": [],
   "source": [
    "s_e_on_same_route_gdf = s_e_on_route_possible_gdf[s_e_on_route_possible_gdf.geometry.buffer(0.000001).intersects(start_node_gdf.geometry)]"
   ]
  },
  {
   "cell_type": "code",
   "execution_count": null,
   "id": "d731ccaf-18d7-4cd7-81d6-a237d29bf481",
   "metadata": {},
   "outputs": [],
   "source": [
    "s_e_on_same_route_gdf"
   ]
  },
  {
   "cell_type": "code",
   "execution_count": null,
   "id": "85d43262-dbe5-4f7e-9413-db78489a714c",
   "metadata": {},
   "outputs": [],
   "source": [
    "# Resetting the index of GeoDataFrames\n",
    "s_e_on_route_possible_gdf = s_e_on_route_possible_gdf.reset_index(drop=True)\n",
    "start_node_gdf = start_node_gdf.reset_index(drop=True)\n",
    "\n",
    "# Performing the intersection operation\n",
    "s_e_on_same_route_gdf = s_e_on_route_possible_gdf[s_e_on_route_possible_gdf.geometry.buffer(0.000001).intersects(start_node_gdf.geometry)]"
   ]
  },
  {
   "cell_type": "code",
   "execution_count": null,
   "id": "721b473c-e12c-495a-ac43-82fe03845d50",
   "metadata": {},
   "outputs": [],
   "source": [
    "s_e_on_same_route_gdf"
   ]
  },
  {
   "cell_type": "code",
   "execution_count": null,
   "id": "fb72733b-c913-4271-9385-70f37a218a2c",
   "metadata": {},
   "outputs": [],
   "source": [
    "s_e_on_same_route_gdf = s_e_on_route_possible_gdf[s_e_on_route_possible_gdf.geometry[1].buffer(0.000001).intersects(start_node_gdf.geometry)]\n",
    "s_e_on_same_route_gdf"
   ]
  },
  {
   "cell_type": "code",
   "execution_count": null,
   "id": "3f681dac-e5e7-4edb-8f3f-c47c47431334",
   "metadata": {
    "scrolled": true
   },
   "outputs": [],
   "source": [
    "merged_order_route_dict[s_e_on_same_route_gdf.name[0]]"
   ]
  },
  {
   "cell_type": "markdown",
   "id": "cf413c93-4d3c-4712-a7a1-5e2387ec739b",
   "metadata": {
    "jp-MarkdownHeadingCollapsed": true
   },
   "source": [
    "# Situation2: Test and revise transfer functions with OD_list and three_network_nodes_transfer_all"
   ]
  },
  {
   "cell_type": "code",
   "execution_count": null,
   "id": "d44b6200-6f3d-46a8-80ba-c166edff0e9f",
   "metadata": {},
   "outputs": [],
   "source": [
    "start_node, end_node = s_e_node_df(OD_list[7], three_networks_nodes_transfer_all)"
   ]
  },
  {
   "cell_type": "code",
   "execution_count": null,
   "id": "e7b5bff5-9058-421a-8862-17febb8a5051",
   "metadata": {},
   "outputs": [],
   "source": [
    "start_node"
   ]
  },
  {
   "cell_type": "code",
   "execution_count": null,
   "id": "873221ba-6761-489c-886f-a82914a7df2d",
   "metadata": {},
   "outputs": [],
   "source": [
    "end_node"
   ]
  },
  {
   "cell_type": "markdown",
   "id": "139964e5-6825-4a63-9d07-236f94d10be9",
   "metadata": {},
   "source": [
    "### Find the route which the s_e nodes are on----compare with new_edges instead of routes dataframe, should compare with routes dataframe"
   ]
  },
  {
   "cell_type": "code",
   "execution_count": null,
   "id": "c550136a-404d-4eb1-951f-d5bcaa060d3e",
   "metadata": {},
   "outputs": [],
   "source": [
    "def s_e_on_route_ref_transfer_all(start_node, end_node):\n",
    "    \n",
    "    start_node_ref_transfer_all = start_node.ref_transfer_all.to_list()\n",
    "    s_on_route_ref_transfer_all = pd.DataFrame(list(start_node_ref_transfer_all[0]), columns=['ref'])\n",
    "\n",
    "    end_node_ref_transfer_all = end_node.ref_transfer_all.to_list()\n",
    "    e_on_route_ref_transfer_all = pd.DataFrame(list(end_node_ref_transfer_all[0]), columns=['ref'])\n",
    "\n",
    "    return s_on_route_ref_transfer_all, e_on_route_ref_transfer_all"
   ]
  },
  {
   "cell_type": "code",
   "execution_count": null,
   "id": "b12c9ab1-af1f-4f80-b1d8-6f292167a7ba",
   "metadata": {},
   "outputs": [],
   "source": [
    "s_on_route_ref,e_on_route_ref = s_e_on_route_ref_transfer_all(start_node, end_node)"
   ]
  },
  {
   "cell_type": "code",
   "execution_count": null,
   "id": "b082e03a-dcb0-4e0c-9e94-17adb94fed50",
   "metadata": {},
   "outputs": [],
   "source": [
    "s_on_route_ref"
   ]
  },
  {
   "cell_type": "code",
   "execution_count": null,
   "id": "75d865f8-c33a-4000-90de-3e28b8bb40a0",
   "metadata": {},
   "outputs": [],
   "source": [
    "e_on_route_ref"
   ]
  },
  {
   "cell_type": "markdown",
   "id": "2a4cf55d-b94f-463d-b625-d02c30ed247a",
   "metadata": {
    "jp-MarkdownHeadingCollapsed": true
   },
   "source": [
    "### Make judgement of s_e_on_route_ref"
   ]
  },
  {
   "cell_type": "code",
   "execution_count": null,
   "id": "b754a9f2-9707-449b-8d68-53f40b95a8c1",
   "metadata": {},
   "outputs": [],
   "source": [
    "s_on_route_ref, e_on_route_ref = judge_on_route(s_on_route_ref, e_on_route_ref)"
   ]
  },
  {
   "cell_type": "markdown",
   "id": "8b44eb4d-c0e8-4770-9296-4866c4509aba",
   "metadata": {
    "jp-MarkdownHeadingCollapsed": true
   },
   "source": [
    "### Find those same routes"
   ]
  },
  {
   "cell_type": "code",
   "execution_count": null,
   "id": "bdc93dce-dbc4-4a58-bbba-8f8ee8795f87",
   "metadata": {},
   "outputs": [],
   "source": [
    "s_e_same_routes_df = s_e_same_routes(s_on_route_ref,e_on_route_ref)\n",
    "s_e_same_routes_df"
   ]
  },
  {
   "cell_type": "markdown",
   "id": "0647f2b9-ec08-4f73-b5b5-1f5d9f460d83",
   "metadata": {
    "jp-MarkdownHeadingCollapsed": true
   },
   "source": [
    "### Find transfer stations----transfer_station_one_mode"
   ]
  },
  {
   "cell_type": "code",
   "execution_count": null,
   "id": "9187de7e-a199-41f5-bf4b-d7b71aa429b4",
   "metadata": {},
   "outputs": [],
   "source": [
    "t_station_node = transfer_station_one_mode(city_bus_routes, start_node, end_node, city_bus_new_nodes, city_bus_order_route_dict)"
   ]
  },
  {
   "cell_type": "code",
   "execution_count": null,
   "id": "4aa9d81a-7057-4c2b-9435-9431c26c1a25",
   "metadata": {},
   "outputs": [],
   "source": [
    "t_station_node"
   ]
  },
  {
   "cell_type": "markdown",
   "id": "d9f069e1-9325-4edb-972b-4565dc927951",
   "metadata": {
    "jp-MarkdownHeadingCollapsed": true
   },
   "source": [
    "### Get all stations between s_e nodes and transfer nodes"
   ]
  },
  {
   "cell_type": "code",
   "execution_count": null,
   "id": "b31c8899-6362-47b0-b2b9-4c7055b7d4cd",
   "metadata": {},
   "outputs": [],
   "source": [
    "s_on_route_ref,t_on_route_ref = s_e_on_route_ref(start_node, t_station_node)"
   ]
  },
  {
   "cell_type": "code",
   "execution_count": null,
   "id": "a042867a-e6b0-4b72-9888-b66c95201562",
   "metadata": {},
   "outputs": [],
   "source": [
    "s_t_same_routes_df = s_e_same_routes(s_on_route_ref,t_on_route_ref)\n",
    "s_t_same_routes_df"
   ]
  },
  {
   "cell_type": "code",
   "execution_count": null,
   "id": "eb103838-d32b-4574-98ed-338d02dbd99d",
   "metadata": {
    "scrolled": true
   },
   "outputs": [],
   "source": [
    "all_stations_on_matched_routes_dfs_s_t = all_stations_on_matched_routes(s_t_same_routes_df,city_bus_routes,start_node,t_station_node,city_bus_order_route_dict)\n",
    "all_stations_on_matched_routes_dfs_s_t"
   ]
  },
  {
   "cell_type": "code",
   "execution_count": null,
   "id": "f439b3e2-6b5c-4016-abf0-39b86dc8c9ec",
   "metadata": {
    "scrolled": true
   },
   "outputs": [],
   "source": [
    "btw_stations_each_way_list_s_t = btw_stations_each_way_list(start_node,t_station_node,all_stations_on_matched_routes_dfs_s_t)\n",
    "btw_stations_each_way_list_s_t"
   ]
  },
  {
   "cell_type": "code",
   "execution_count": null,
   "id": "c87b46a9-da93-4aea-bca4-3ba86279580f",
   "metadata": {},
   "outputs": [],
   "source": [
    "t_on_route_ref,e_on_route_ref = s_e_on_route_ref( t_station_node,end_node)"
   ]
  },
  {
   "cell_type": "code",
   "execution_count": null,
   "id": "9e51af35-2d9d-404c-a48a-69d187faed7e",
   "metadata": {},
   "outputs": [],
   "source": [
    "t_e_same_routes_df = s_e_same_routes(t_on_route_ref,e_on_route_ref)\n",
    "t_e_same_routes_df"
   ]
  },
  {
   "cell_type": "code",
   "execution_count": null,
   "id": "0730c232-0d6d-4521-a08a-de908baa783a",
   "metadata": {
    "scrolled": true
   },
   "outputs": [],
   "source": [
    "all_stations_on_matched_routes_dfs_t_e = all_stations_on_matched_routes(t_e_same_routes_df,city_bus_routes,t_station_node,end_node,city_bus_order_route_dict)\n",
    "all_stations_on_matched_routes_dfs_t_e"
   ]
  },
  {
   "cell_type": "code",
   "execution_count": null,
   "id": "92537a96-063b-4274-9e1a-8cb3b466211a",
   "metadata": {
    "scrolled": true
   },
   "outputs": [],
   "source": [
    "btw_stations_each_way_list_t_e = btw_stations_each_way_list(t_station_node,end_node,all_stations_on_matched_routes_dfs_t_e)\n",
    "btw_stations_each_way_list_t_e"
   ]
  },
  {
   "cell_type": "markdown",
   "id": "b16aa86c-594d-49d1-98a3-6617d6546712",
   "metadata": {
    "jp-MarkdownHeadingCollapsed": true
   },
   "source": [
    "### Get all nodes and id_pairs of nodes between s_e nodes"
   ]
  },
  {
   "cell_type": "code",
   "execution_count": null,
   "id": "3376d918-95e0-4605-933e-0c5b6fd0f534",
   "metadata": {},
   "outputs": [],
   "source": [
    "btw_all_id_pairs_list_s_t = btw_all_ids_pairs(btw_stations_each_way_list_s_t,city_bus_new_nodes)\n",
    "btw_all_id_pairs_list_s_t"
   ]
  },
  {
   "cell_type": "code",
   "execution_count": null,
   "id": "8a4eafb5-cef6-4fdf-9940-d3c991f87c0d",
   "metadata": {},
   "outputs": [],
   "source": [
    "btw_all_id_pairs_list_t_e = btw_all_ids_pairs(btw_stations_each_way_list_t_e,city_bus_new_nodes)\n",
    "btw_all_id_pairs_list_t_e"
   ]
  },
  {
   "cell_type": "markdown",
   "id": "b1d58a51-b6bf-415b-a369-8440255f234e",
   "metadata": {},
   "source": [
    "### Calculate shortest path and plot"
   ]
  },
  {
   "cell_type": "code",
   "execution_count": null,
   "id": "f1e1fa1a-5239-4d92-a8cf-1bf05adb24a4",
   "metadata": {},
   "outputs": [],
   "source": [
    "btw_all_id_pairs_list_unique_s_t = drop_df_in_list(btw_all_id_pairs_list_s_t)"
   ]
  },
  {
   "cell_type": "code",
   "execution_count": null,
   "id": "d16b1d56-14ee-4dad-91cc-1909d5efca71",
   "metadata": {},
   "outputs": [],
   "source": [
    "btw_all_id_pairs_list_unique_t_e = drop_df_in_list(btw_all_id_pairs_list_t_e)"
   ]
  },
  {
   "cell_type": "code",
   "execution_count": null,
   "id": "9b6eb0a4-d481-4453-a875-faa5d736c369",
   "metadata": {},
   "outputs": [],
   "source": [
    "G = create_ground_graph(edges, nodes)"
   ]
  },
  {
   "cell_type": "code",
   "execution_count": null,
   "id": "b39e7aa2-4ff9-4d62-be0d-d327aa93f568",
   "metadata": {},
   "outputs": [],
   "source": [
    "shortest_path_pairs_way_s_t = all_shortest_paths(G, btw_all_id_pairs_list_unique_s_t[0], edges)"
   ]
  },
  {
   "cell_type": "code",
   "execution_count": null,
   "id": "33d4813f-d80c-4a73-a3cb-e2545f4f89b3",
   "metadata": {
    "scrolled": true
   },
   "outputs": [],
   "source": [
    "shortest_path_pairs_way_s_t"
   ]
  },
  {
   "cell_type": "code",
   "execution_count": null,
   "id": "87f746c1-4db5-4ee3-aa9b-7823486a5672",
   "metadata": {},
   "outputs": [],
   "source": [
    "duplicate_row_count_way_s_t, shortest_path_edges_way_s_t, edges_way_s_t = edges_with_count_weight(shortest_path_pairs_way_s_t, edges)"
   ]
  },
  {
   "cell_type": "code",
   "execution_count": null,
   "id": "e5c55a8c-fee2-42a0-9baa-ac4940de6c29",
   "metadata": {
    "scrolled": true
   },
   "outputs": [],
   "source": [
    "shortest_path_edges_way_s_t"
   ]
  },
  {
   "cell_type": "code",
   "execution_count": null,
   "id": "7f97b7cd-126c-4df6-9cc9-51e50b257ba1",
   "metadata": {},
   "outputs": [],
   "source": [
    "shortest_path_pairs_way_t_e = all_shortest_paths(G, btw_all_id_pairs_list_unique_t_e[0], edges)"
   ]
  },
  {
   "cell_type": "code",
   "execution_count": null,
   "id": "4dca35bd-4490-4170-b7f3-fa8c088ae236",
   "metadata": {
    "scrolled": true
   },
   "outputs": [],
   "source": [
    "shortest_path_pairs_way_t_e"
   ]
  },
  {
   "cell_type": "code",
   "execution_count": null,
   "id": "cdc28774-4c5c-4d4b-b233-2b9f948b29ae",
   "metadata": {},
   "outputs": [],
   "source": [
    "duplicate_row_count_way_t_e, shortest_path_edges_way_t_e, edges_way_t_e = edges_with_count_weight(shortest_path_pairs_way_t_e, edges)"
   ]
  },
  {
   "cell_type": "code",
   "execution_count": null,
   "id": "1e733dfb-a3fb-4b3b-9b08-193fb0a24b10",
   "metadata": {
    "scrolled": true
   },
   "outputs": [],
   "source": [
    "shortest_path_edges_way_t_e"
   ]
  },
  {
   "cell_type": "code",
   "execution_count": null,
   "id": "aab80fa9-bbe8-4d16-83ba-716dc7052d52",
   "metadata": {},
   "outputs": [],
   "source": [
    "shortest_path_edges_way = pd.concat([shortest_path_edges_way_s_t,shortest_path_edges_way_t_e])\n",
    "shortest_path_edges_way"
   ]
  },
  {
   "cell_type": "code",
   "execution_count": null,
   "id": "292d7f63-5848-499f-b7e2-da0e76ce717c",
   "metadata": {
    "scrolled": true
   },
   "outputs": [],
   "source": [
    "fig, ax = plt.subplots(1, 1, figsize=(30, 20))\n",
    "\n",
    "gpd.GeoDataFrame(city_bus_new_edges.copy()).plot(ax=ax, color='gray', alpha=0.2)\n",
    "\n",
    "gpd.GeoDataFrame(shortest_path_edges_way.copy()).plot(ax=ax, zorder=1, linewidth=(shortest_path_edges_way.count_weight), color='orange')"
   ]
  },
  {
   "cell_type": "code",
   "execution_count": null,
   "id": "48e20a67-e22a-435b-bb11-45f70c5af720",
   "metadata": {},
   "outputs": [],
   "source": []
  },
  {
   "cell_type": "code",
   "execution_count": null,
   "id": "e7ba71ca-f34d-49d4-8520-0bd7cf3ef807",
   "metadata": {},
   "outputs": [],
   "source": []
  },
  {
   "cell_type": "code",
   "execution_count": null,
   "id": "5e1d0045-ffff-4d81-84ba-923a82652d5a",
   "metadata": {},
   "outputs": [],
   "source": []
  }
 ],
 "metadata": {
  "kernelspec": {
   "display_name": "Python 3 (ipykernel)",
   "language": "python",
   "name": "python3"
  },
  "language_info": {
   "codemirror_mode": {
    "name": "ipython",
    "version": 3
   },
   "file_extension": ".py",
   "mimetype": "text/x-python",
   "name": "python",
   "nbconvert_exporter": "python",
   "pygments_lexer": "ipython3",
   "version": "3.10.11"
  }
 },
 "nbformat": 4,
 "nbformat_minor": 5
}
