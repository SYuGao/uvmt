{
 "cells": [
  {
   "cell_type": "code",
   "execution_count": null,
   "id": "f87f9e25-9380-49b0-ad81-f733c8cb88e1",
   "metadata": {},
   "outputs": [],
   "source": [
    "import geopandas\n",
    "import geopandas as gpd\n",
    "import pandas as pd\n",
    "from osgeo import ogr,gdal\n",
    "import numpy \n",
    "from shapely.wkb import loads\n",
    "from shapely.geometry import Point\n",
    "from shapely.geometry import LineString\n",
    "import pygeos\n",
    "import matplotlib.pyplot as plt\n",
    "import openpyxl\n",
    "import itertools\n",
    "import networkx as nx\n",
    "from simplify import *\n",
    "\n",
    "import warnings\n",
    "warnings.filterwarnings(\"ignore\")"
   ]
  },
  {
   "cell_type": "code",
   "execution_count": null,
   "id": "c35e0cf2-6fe2-4867-ba36-132ca633db17",
   "metadata": {},
   "outputs": [],
   "source": [
    "gdal.SetConfigOption(\"OSM_CONFIG_FILE\", \"osmconf.ini\")\n",
    "\n",
    "# Define a helper function to generate pairs of consecutive elements in a list\n",
    "def pairwise(iterable):\n",
    "    \"s -> (s0, s1), (s1, s2), (s2, s3), ...\"\n",
    "    a, b = itertools.tee(iterable)\n",
    "    next(b, None)\n",
    "    return zip(a, b)\n",
    "\n",
    "\n",
    "# Define a helper function to generate permutations\n",
    "def permutations(iterable, r=None):\n",
    "   # permutations('ABCD', 2) --> AB AC AD BA BC BD CA CB CD DA DB DC\n",
    "    # permutations(range(3)) --> 012 021 102 120 201 210\n",
    "    pool = tuple(iterable)\n",
    "    n = len(pool)\n",
    "    r = n if r is None else r\n",
    "    if r > n:\n",
    "        return\n",
    "    indices = list(range(n))\n",
    "    cycles = list(range(n, n-r, -1))\n",
    "    yield tuple(pool[i] for i in indices[:r])\n",
    "    while n:\n",
    "        for i in reversed(range(r)):\n",
    "            cycles[i] -= 1\n",
    "            if cycles[i] == 0:\n",
    "                indices[i:] = indices[i+1:] + indices[i:i+1]\n",
    "                cycles[i] = n - i\n",
    "            else:\n",
    "                j = cycles[i]\n",
    "                indices[i], indices[-j] = indices[-j], indices[i]\n",
    "                yield tuple(pool[i] for i in indices[:r])\n",
    "                break\n",
    "        else:\n",
    "            return \n",
    "        \n",
    "        \n",
    "# Retrive data from OSM and get the geographic data of tram\n",
    "def query_b(geoType,keyCol,**valConstraint):\n",
    "    \"\"\"\n",
    "    This function builds an SQL query from the values passed to the retrieve() function.\n",
    "    Arguments:\n",
    "         *geoType* : Type of geometry (osm layer) to search for.\n",
    "         *keyCol* : A list of keys/columns that should be selected from the layer.\n",
    "         ***valConstraint* : A dictionary of constraints for the values. e.g. WHERE 'value'>20 or 'value'='constraint'\n",
    "    Returns:\n",
    "        *string: : a SQL query string.\n",
    "    \"\"\"\n",
    "    query = \"SELECT \" + \"osm_id\"\n",
    "    for a in keyCol: query+= \",\"+ a  \n",
    "    query += \" FROM \" + geoType + \" WHERE \"\n",
    "    # If there are values in the dictionary, add constraint clauses\n",
    "    if valConstraint: \n",
    "        for a in [*valConstraint]:\n",
    "            # For each value of the key, add the constraint\n",
    "            for b in valConstraint[a]: query += a + b\n",
    "        query+= \" AND \"\n",
    "    # Always ensures the first key/col provided is not Null.\n",
    "    query+= \"\"+str(keyCol[0]) +\" IS NOT NULL\" \n",
    "    return query \n",
    "\n",
    "def retrieve(osm_path,geoType,keyCol,**valConstraint):\n",
    "    \"\"\"\n",
    "    Function to extract specified geometry and keys/values from OpenStreetMap\n",
    "    Arguments:\n",
    "        *osm_path* : file path to the .osm.pbf file of the region \n",
    "        for which we want to do the analysis.     \n",
    "        *geoType* : Type of Geometry to retrieve. e.g. lines, multipolygons, etc.\n",
    "        *keyCol* : These keys will be returned as columns in the dataframe.\n",
    "        ***valConstraint: A dictionary specifiying the value constraints.  \n",
    "        A key can have multiple values (as a list) for more than one constraint for key/value.  \n",
    "    Returns:\n",
    "        *GeoDataFrame* : a geopandas GeoDataFrame with all columns, geometries, and constraints specified.    \n",
    "    \"\"\"\n",
    "    driver=ogr.GetDriverByName('OSM')\n",
    "    data = driver.Open(osm_path)\n",
    "    query = query_b(geoType,keyCol,**valConstraint)\n",
    "    sql_lyr = data.ExecuteSQL(query)\n",
    "    features =[]\n",
    "    # cl = columns \n",
    "    cl = ['osm_id']\n",
    "    \n",
    "    \n",
    "    for a in keyCol: cl.append(a)\n",
    "    if data is not None:\n",
    "        for feature in sql_lyr:\n",
    "            try:\n",
    "                if feature.GetField(keyCol[0]) is not None:\n",
    "                    pygeos_geo = pygeos.from_wkt(feature.geometry().ExportToWkt())\n",
    "                    if pygeos_geo is None:\n",
    "                        continue\n",
    "                    # field will become a row in the dataframe.\n",
    "                    field = []\n",
    "                    for i in cl: field.append(feature.GetField(i))\n",
    "                    field.append(pygeos_geo)   \n",
    "                    features.append(field)\n",
    "            except:\n",
    "                print(\"WARNING: skipped OSM feature\")\n",
    "      \n",
    "    cl.append('geometry')                   \n",
    "    if len(features) > 0:\n",
    "        return geopandas.GeoDataFrame(features,columns=cl) #,crs={'init': 'epsg:4326'}\n",
    "    else:\n",
    "        print(\"WARNING: No features or No Memory. returning empty GeoDataFrame\") \n",
    "        return geopandas.GeoDataFrame(columns=['osm_id','geometry']) #,crs={'init': 'epsg:4326'}    \n",
    "    \n",
    "def railway(osm_path):\n",
    "    \"\"\"\n",
    "    Function to extract railway linestrings from OpenStreetMap\n",
    "    Arguments:\n",
    "        *osm_path* : file path to the .osm.pbf file of the region for which we want to do the analysis.       \n",
    "    Returns:\n",
    "        *GeoDataFrame* : a geopandas GeoDataFrame with all railway linestrings.\n",
    "    \"\"\" \n",
    "    return retrieve(osm_path,'lines',['railway','service'])        \n",
    "\n",
    "def tram_network(osm_path):\n",
    "    \"\"\"\n",
    "    Extracts tram network data from an OpenStreetMap file at the specified file path and returns it as a Pandas DataFrame.\n",
    "\n",
    "    Parameters:\n",
    "    osm_path (str): The file path of the OpenStreetMap file.\n",
    "\n",
    "    Returns:\n",
    "    Pandas DataFrame: A DataFrame containing tram network data extracted from the OpenStreetMap file.\n",
    "    \"\"\"\n",
    "\n",
    "    # Extract railway data from the OpenStreetMap file\n",
    "    df_railway = railway(osm_path)\n",
    "    \n",
    "    # Filter the DataFrame to only contain tram network data\n",
    "    tram = df_railway.loc[df_railway.railway == 'tram']\n",
    "    \n",
    "    # Return the filtered DataFrame\n",
    "    return tram\n",
    "\n",
    "def tram_stations(osm_path):\n",
    "    \"\"\"\n",
    "    Function to extract tram station nodes from OpenStreetMap.  \n",
    "    Arguments:\n",
    "        *osm_path* : file path to the .osm.pbf file of the region for which we want to do the analysis.       \n",
    "    Returns:\n",
    "        *GeoDataFrame* : a geopandas GeoDataFrame with all tram station nodes.\n",
    "    \"\"\"   \n",
    "    \n",
    "    return (retrieve(osm_path,'points',['railway', 'name'],**{'railway':[\"='tram_stop'\"]}))\n",
    "\n",
    "def routes(osm_path):\n",
    "    \"\"\"\n",
    "    Extracts route data from an OpenStreetMap file at the specified file path and returns it as a Pandas DataFrame.\n",
    "\n",
    "    Parameters:\n",
    "    osm_path (str): The file path of the OpenStreetMap file.\n",
    "\n",
    "    Returns:\n",
    "    Pandas DataFrame: A DataFrame containing route data extracted from the OpenStreetMap file.\n",
    "    \"\"\"\n",
    "\n",
    "    # Call the 'retrieve' function to extract route data from the OpenStreetMap file\n",
    "    # The 'retrieve' function takes three arguments:\n",
    "    # - The file path of the OpenStreetMap file\n",
    "    # - A list of geometry types to extract (in this case, only multilinestrings)\n",
    "    # - A list of tag keys to extract (in this case, 'route', 'name', and 'ref')\n",
    "    route_data = retrieve(osm_path, 'multilinestrings', ['route', 'name', 'ref'])\n",
    "\n",
    "    # Return the extracted route data as a Pandas DataFrame\n",
    "    return route_data\n",
    "\n",
    "# Pre-processing the geographic data of the subway network to obtain 'edges' and 'nodes'\n",
    "def prepare_network(subway):\n",
    "    \"\"\"\n",
    "    Prepare a subway network represented as a GeoDataFrame of LineString objects for routing.\n",
    "\n",
    "    Args:\n",
    "    - subway: a GeoDataFrame representing the subway network, with 'geometry' column containing LineString objects\n",
    "    \n",
    "    Returns:\n",
    "    - a tuple of two DataFrames representing the edges and nodes of the prepared network\n",
    "\n",
    "    Example:\n",
    "    >>> import geopandas\n",
    "    >>> subway = geopandas.read_file('subway.shp')\n",
    "    >>> edges, nodes = prepare_network(subway)\n",
    "\n",
    "    Note: This function requires the PyGEOS, NetworkX, and Pandas libraries to be installed.\n",
    "    \"\"\"\n",
    "    # Convert the subway GeoDataFrame's 'geometry' column from Shapely objects to PyGEOS objects\n",
    "    df_subway = pd.DataFrame(subway.copy())\n",
    "    df_subway.geometry = pygeos.from_shapely(df_subway.geometry)\n",
    "    \n",
    "    # Build a Network object from the subway edges\n",
    "    net = Network(edges=df_subway)\n",
    "\n",
    "    # Add endpoints to the network where edges don't intersect\n",
    "    net = add_endpoints(net)\n",
    "\n",
    "    # Split edges at new endpoints\n",
    "    net = split_edges_at_nodes(net)\n",
    "\n",
    "    # Add new endpoints where edges were split\n",
    "    net = add_endpoints(net)\n",
    "\n",
    "    # Assign unique IDs to nodes and edges\n",
    "    net = add_ids(net)\n",
    "\n",
    "    # Add missing topology information to the network's edges\n",
    "    net = add_topology(net)    \n",
    "\n",
    "    # Calculate the degree of each node in the network\n",
    "    net.nodes['degree'] = calculate_degree(net)\n",
    "\n",
    "    # Merge edges with a degree of 2\n",
    "    net = merge_edges(net)\n",
    "\n",
    "    # Drop duplicate edges\n",
    "    net.edges = drop_duplicate_geometries(net.edges, keep='first') \n",
    "\n",
    "    # Reset node and edge IDs after fixing topology and merging edges\n",
    "    net = reset_ids(net) \n",
    "\n",
    "    # Add edge distances\n",
    "    net = add_distances(net)\n",
    "\n",
    "    # Merge any MultiLineString edges\n",
    "    net = merge_multilinestrings(net)\n",
    "\n",
    "    # Add travel time for each edge based on distance and average speed\n",
    "    net = add_travel_time(net)\n",
    "    \n",
    "    # Return the edges and nodes of the prepared network\n",
    "    return net.edges, net.nodes\n",
    "\n",
    "def expand_edges(edges):\n",
    "    \"\"\"\n",
    "    Expand a DataFrame of edges into a format that can be used with network analysis algorithms.\n",
    "\n",
    "    Args:\n",
    "    - edges: a DataFrame containing edges with columns 'from_id', 'to_id', and 'distance'\n",
    "\n",
    "    Returns:\n",
    "    - a DataFrame containing expanded edges with columns 'from_id', 'to_id', 'distance', 'weights', 'to_from', and 'from_to'\n",
    "\n",
    "    Example:\n",
    "    >>> edges = pd.DataFrame({'from_id': [0, 0, 1], 'to_id': [1, 2, 2], 'distance': [1.5, 3.2, 2.8]})\n",
    "    >>> expand_edges(edges)\n",
    "      from_id  to_id  distance  weights  to_from  from_to\n",
    "    0       0      1       1.5        1  (0, 1)  (1, 0)\n",
    "    1       0      2       3.2        3  (0, 2)  (2, 0)\n",
    "    2       1      2       2.8        2  (1, 2)  (2, 1)\n",
    "\n",
    "    Notes:\n",
    "    - The 'weights' column is created by rounding the 'distance' column to the nearest integer.\n",
    "    - The 'to_from' and 'from_to' columns are created to facilitate conversion between edge formats.\n",
    "    \"\"\"\n",
    "    # Round the distance to the nearest integer and store it in a new column 'weights'\n",
    "    edges['weights'] = edges['distance'].astype(int)\n",
    "\n",
    "    # Create 'to_from' and 'from_to' columns to facilitate conversion between edge formats\n",
    "    edges['to_from'] = list(zip(edges.from_id, edges.to_id))\n",
    "    edges['from_to'] = list(zip(edges.to_id, edges.from_id))\n",
    "\n",
    "    # Return the expanded edges DataFrame\n",
    "    return edges\n",
    "\n",
    "\n",
    "# Create s_e_tram_coordinates_pairs dataframe combining data of all stations and names of start-end stations    \n",
    "def s_e_tram_coordinates(stations, s_e_tram_station_name):\n",
    "    \"\"\"\n",
    "    Given a GeoDataFrame `stations` containing information about tram stations and a DataFrame `s_e_tram_station_name` \n",
    "    containing pairs of tram station names, returns a new DataFrame with columns `s_name`, `e_name`, `s_coordinates_x`, \n",
    "    `s_coordinates_y`, `e_coordinates_x`, and `e_coordinates_y`.\n",
    "    \n",
    "    Parameters\n",
    "    ----------\n",
    "    stations : geopandas.GeoDataFrame\n",
    "        A GeoDataFrame containing information about tram stations, including the `geometry` column with the latitude \n",
    "        and longitude coordinates of each station.\n",
    "    s_e_tram_station_name : pandas.DataFrame\n",
    "        A DataFrame containing pairs of tram station names, with columns `s_name` and `e_name`.\n",
    "    \n",
    "    Returns\n",
    "    -------\n",
    "    pandas.DataFrame\n",
    "        A new DataFrame with columns `s_name`, `e_name`, `s_coordinates_x`, `s_coordinates_y`, `e_coordinates_x`, and \n",
    "        `e_coordinates_y`. `s_name` and `e_name` are the names of the starting and ending tram stations, respectively, \n",
    "        and `s_coordinates_x`, `s_coordinates_y`, `e_coordinates_x`, and `e_coordinates_y` are the coordinates of the \n",
    "        starting and ending tram stations.\n",
    "    \"\"\"\n",
    "    \n",
    "    # Add columns for the x and y coordinates of each station\n",
    "    stations['geo_x'] = stations.geometry.x\n",
    "    stations['geo_y'] = stations.geometry.y\n",
    "    \n",
    "    # Drop duplicate stations and rename the two 'Centraal Station' stations as 'Centraal Station_A' and 'Centraal Station_B'\n",
    "    sorted_stations = stations.sort_values(by='geo_x')\n",
    "    stations_drop = sorted_stations[sorted_stations['name'] != 'Centraal Station'].drop_duplicates(subset=['name'], keep='first')\n",
    "    station_cetralB = sorted_stations[sorted_stations['name'] == 'Centraal Station'].drop_duplicates(subset=['name'], keep='first')\n",
    "    station_cetralB.iloc[0, 2] = 'Centraal Station_B'\n",
    "    station_cetralA = gpd.GeoDataFrame(sorted_stations[sorted_stations['name'] == 'Centraal Station'].iloc[-2]).T\n",
    "    station_cetralA.iloc[0, 2] = 'Centraal Station_A'\n",
    "    \n",
    "    # Create DataFrames for the stations and concatenate them into one DataFrame\n",
    "    df_stations_drop = pd.DataFrame(stations_drop)\n",
    "    df_station_cetralB = pd.DataFrame(station_cetralB)\n",
    "    df_station_cetralA = pd.DataFrame(station_cetralA)\n",
    "    tram_stations = pd.concat([df_stations_drop, df_station_cetralB, df_station_cetralA])\n",
    "    tram_stations\n",
    "    \n",
    "    # Create s_e_tram_coordinates DataFrame by compare station names \n",
    "    df31 = pd.merge(s_e_tram_station_name, tram_stations, how='left', left_on='s_name', right_on='name')\n",
    "    s_e_tram_coordinates = pd.merge(df31, tram_stations, how='left', left_on='e_name', right_on='name')\n",
    "    s_e_tram_coordinates = s_e_tram_coordinates.loc[:,['s_name', 'e_name', 'geo_x_x', 'geo_y_x', 'geo_x_y', 'geo_y_y']]\n",
    "    s_e_tram_coordinates.columns = ['s_name', 'e_name', 's_coordinates_x', 's_coordinates_y', 'e_coordinates_x', 'e_coordinates_y']\n",
    "    \n",
    "    return s_e_tram_coordinates\n",
    "\n",
    "def s_e_coordinates_pairs(s_e_coordinates):\n",
    "    \"\"\"\n",
    "    Given a Pandas DataFrame `s_e_coordinates` with columns `s_coordinates_x`, `s_coordinates_y`, `e_coordinates_x`, \n",
    "    and `e_coordinates_y`, returns a new DataFrame with columns `s_coordinates` and `e_coordinates`.\n",
    "    \n",
    "    `s_coordinates` and `e_coordinates` are each a tuple of the form `(x, y)`, where `x` is the value in the \n",
    "    `s_coordinates_x` or `e_coordinates_x` column, and `y` is the value in the `s_coordinates_y` or `e_coordinates_y` \n",
    "    column.\n",
    "    \n",
    "    Parameters\n",
    "    ----------\n",
    "    s_e_coordinates : pandas.DataFrame\n",
    "        A DataFrame with columns `s_coordinates_x`, `s_coordinates_y`, `e_coordinates_x`, and `e_coordinates_y`.\n",
    "    \n",
    "    Returns\n",
    "    -------\n",
    "    pandas.DataFrame\n",
    "        A new DataFrame with columns `s_coordinates` and `e_coordinates`.\n",
    "    \"\"\"\n",
    "    \n",
    "    # Create an empty DataFrame to hold the new columns\n",
    "    s_e_coordinates_pairs = pd.DataFrame()\n",
    "    \n",
    "    # Create the `s_coordinates` column by zipping the `s_coordinates_x` and `s_coordinates_y` columns\n",
    "    s_e_coordinates_pairs['s_coordinates'] = list(zip(s_e_coordinates.s_coordinates_x, s_e_coordinates.s_coordinates_y))\n",
    "    \n",
    "    # Create the `e_coordinates` column by zipping the `e_coordinates_x` and `e_coordinates_y` columns\n",
    "    s_e_coordinates_pairs['e_coordinates'] = list(zip(s_e_coordinates.e_coordinates_x, s_e_coordinates.e_coordinates_y))\n",
    "    \n",
    "    # Return the new DataFrame\n",
    "    return s_e_coordinates_pairs\n",
    "\n",
    "\n",
    "# Define nearest nodes with real_world coordinates of start and end points, obtain the nearest id pairs of nodes \n",
    "def find_nearest_node(coordinate, nodes):\n",
    "    \"\"\"\n",
    "    Find the nearest node to a given coordinate or geometry in a GeoDataFrame of nodes.\n",
    "\n",
    "    Args:\n",
    "    - coordinate: a tuple of longitude and latitude (in decimal degrees) or a PyGEOS geometry object representing the location to search from\n",
    "    - nodes: a GeoDataFrame containing nodes with a 'geometry' column representing their coordinates as PyGEOS Point objects\n",
    "    \n",
    "    Returns:\n",
    "    - the id value of the nearest node to the input coordinate or geometry\n",
    "\n",
    "    Example:\n",
    "    >>> import geopandas\n",
    "    >>> from shapely.geometry import Point\n",
    "    >>> from pygeos import Geometry\n",
    "    >>> nodes = geopandas.read_file('nodes.shp')\n",
    "    >>> coordinate = (-122.3, 47.6)\n",
    "    >>> find_nearest_node(coordinate, nodes)\n",
    "    1234\n",
    "\n",
    "    Note: This function requires the PyGEOS and STRtree libraries to be installed.\n",
    "    \"\"\"\n",
    "    # Build an STRtree index of the nodes' geometries for efficient nearest-neighbor search\n",
    "    node_tree = pygeos.STRtree(nodes.geometry)\n",
    "   \n",
    "    # Find the nearest node to the input coordinate or geometry using the STRtree index\n",
    "    if isinstance(coordinate, tuple):\n",
    "        find_nearest = node_tree.nearest(pygeos.points(coordinate))\n",
    "    elif isinstance(coordinate, pygeos.lib.Geometry):\n",
    "        find_nearest = node_tree.nearest(coordinate)\n",
    "    \n",
    "    # Return the id value of the nearest node from the nodes GeoDataFrame\n",
    "    return int(nodes.iloc[find_nearest[1]]['id'])\n",
    "\n",
    "def id_pairs(coordinates_pairs, nodes):\n",
    "    \"\"\"\n",
    "    Map the start and end coordinates to the nearest nodes in a transportation network.\n",
    "\n",
    "    Args:\n",
    "    - coordinates_pairs: a pandas DataFrame containing start and end coordinates in the network, with columns 's_coordinates', 'e_coordinates'\n",
    "    - nodes: a GeoDataFrame containing nodes in the network, with a 'geometry' column representing their coordinates as PyGEOS Point objects\n",
    "\n",
    "    Returns:\n",
    "    - a pandas DataFrame containing the nearest node IDs for each start and end coordinate pair, with columns 's_id', 'e_id'\n",
    "\n",
    "    \"\"\"\n",
    "    # Initialize an empty DataFrame to store the start and end node IDs\n",
    "    id_pairs = pd.DataFrame(columns=['s_id','e_id'])\n",
    "    pairs_num = coordinates_pairs.shape[0]\n",
    "    \n",
    "    # For each start and end coordinate pair, find the nearest node in the network and store the node IDs in the DataFrame\n",
    "    for i in range(pairs_num):\n",
    "        s_coordinate = pygeos.points(coordinates_pairs.s_coordinates[i])\n",
    "        s_id = find_nearest_node(s_coordinate, nodes)\n",
    "        e_coordinate = pygeos.points(coordinates_pairs.e_coordinates[i])\n",
    "        e_id = find_nearest_node(e_coordinate, nodes)\n",
    "        id_pairs.loc[i] = [s_id,e_id]\n",
    "        \n",
    "    return id_pairs\n",
    "\n",
    "\n",
    "# Create a base Graph object as the basic topology network with 'edges' and 'nodes'\n",
    "def create_ground_graph(edges, nodes):\n",
    "    \"\"\"\n",
    "    Create a networkx Graph object representing a ground transportation network.\n",
    "\n",
    "    Args:\n",
    "    - edges: a pandas DataFrame containing edges in the network, with columns 'from_id', 'to_id', and 'weights'\n",
    "    - nodes: a GeoDataFrame containing nodes in the network, with a 'geometry' column representing their coordinates as PyGEOS Point objects\n",
    "    \n",
    "    Returns:\n",
    "    - a networkx Graph object representing the ground transportation network\n",
    "\n",
    "    Example:\n",
    "    >>> import pandas as pd\n",
    "    >>> import geopandas as gpd\n",
    "    >>> import networkx as nx\n",
    "    >>> edges = pd.read_csv('edges.csv')\n",
    "    >>> nodes = gpd.read_file('nodes.shp')\n",
    "    >>> G = create_ground_graph(edges, nodes)\n",
    "\n",
    "    Note: This function requires the pandas, geopandas, and networkx libraries to be installed.\n",
    "    \"\"\"\n",
    "    # Extract the edges from the input DataFrame and create a list of tuples with weights\n",
    "    od = edges[['from_id', 'to_id', 'weights']]\n",
    "    edges_list = []\n",
    "    for i, row in od.iterrows():\n",
    "        weight_dict = {\"weight\": row[2]}\n",
    "        tuple_row = (row[0], row[1], weight_dict)\n",
    "        edges_list.append(tuple_row)\n",
    "    \n",
    "    # Extract the nodes from the input GeoDataFrame and create a list of node IDs\n",
    "    nodes_list = nodes.iloc[:,2].tolist()\n",
    "    \n",
    "    # Create an empty Graph object and add the nodes and edges\n",
    "    G = nx.Graph()\n",
    "    G.add_nodes_from(nodes_list)\n",
    "    G.add_edges_from(edges_list)\n",
    "    \n",
    "    return G\n",
    "\n",
    "\n",
    "# Calculate the shorted path\n",
    "def shortest_path(G, start_point_id, end_point_id, edges, weight = \"weight\"):   # calculate the shortest path for one start_end_node id_pair\n",
    "    \"\"\"\n",
    "    Compute the shortest path between two nodes in a given graph, along with its length and the edges that belong to the path.\n",
    "\n",
    "    Args:\n",
    "    - G: a networkx Graph object representing the graph\n",
    "    - start_point_id: the ID of the node where the path starts\n",
    "    - end_point_id: the ID of the node where the path ends\n",
    "    - weight: the attribute used to determine the weight of the edges in the graph (default: \"weight\")\n",
    "\n",
    "    Returns:\n",
    "    - a tuple containing:\n",
    "        - the list of nodes that form the shortest path from start_point_id to end_point_id\n",
    "        - the length of the shortest path\n",
    "        - a pandas DataFrame containing the edges that belong to the shortest path, with a new column 'linewidth' that is proportional to the edge weights\n",
    "\n",
    "    Example:\n",
    "    >>> import networkx as nx\n",
    "    >>> import pandas as pd\n",
    "    >>> G = nx.Graph()\n",
    "    >>> G.add_edge(0, 1, weight=2.0)\n",
    "    >>> G.add_edge(1, 2, weight=1.0)\n",
    "    >>> G.add_edge(0, 2, weight=3.0)\n",
    "    >>> path, length, edges = shortest_path(G, 0, 2)\n",
    "    >>> print(path)\n",
    "    [0, 1, 2]\n",
    "    >>> print(length)\n",
    "    3.0\n",
    "    >>> print(edges)\n",
    "       from_id  to_id  weights  to_from  from_to  linewidth\n",
    "    0        0      1      2.0      NaN      1.0        1.0\n",
    "    2        1      2      1.0      2.0      NaN        1.0\n",
    "    \"\"\"\n",
    "    \n",
    "    # Compute the shortest path and its length using the networkx library\n",
    "    path_s_e = nx.shortest_path(G, source=start_point_id, target=end_point_id, weight= weight)\n",
    "    length_s_e = nx.shortest_path_length(G, source=start_point_id, target=end_point_id, weight= weight)\n",
    "    \n",
    "   \n",
    "    # Select the edges that belong to the shortest path and compute their linewidth based on their weight\n",
    "    short_path_edges = edges.loc[edges.to_from.isin(list(pairwise(path_s_e))) | edges.from_to.isin(list(pairwise(path_s_e)))]\n",
    "    #short_path_edges['linewidth'] = short_path_edges['weights'].apply(lambda x: np.ceil(x * 0.01 / 2))   # test 'linewidth' with one pair and there is no practical significance camparing with several routes and can be left out of the calculation \n",
    "    \n",
    "    # Return the computed values as a tuple\n",
    "    return path_s_e, length_s_e, short_path_edges\n",
    "\n",
    "def all_shortest_paths(id_pairs,edges):\n",
    "    \"\"\"\n",
    "    Find all shortest paths between start and end nodes and extract corresponding edges.\n",
    "\n",
    "    Args:\n",
    "    - id_pairs: a pandas DataFrame containing start and end node IDs for each path\n",
    "    - edges: a pandas DataFrame containing edges in the network, with columns 'from_id', 'to_id', and 'weights'\n",
    "\n",
    "    Returns:\n",
    "    - shortest_path_pairs: a pandas DataFrame containing the edges for all shortest paths found\n",
    "\n",
    "    Example:\n",
    "    >>> shortest_path_pairs = all_shortest_paths(id_pairs, edges)\n",
    "\n",
    "    Note: This function requires the pandas and networkx libraries to be installed.\n",
    "    \"\"\"\n",
    "    row_num = id_pairs.shape[0]\n",
    "    shortest_path_pairs = pd.DataFrame()\n",
    "    \n",
    "    for i in range(row_num):\n",
    "        s_id = id_pairs.loc[i,'s_id']\n",
    "        e_id = id_pairs.loc[i,'e_id']\n",
    "        try:\n",
    "            # Find shortest path between start and end nodes\n",
    "            path_s_e = nx.shortest_path(G, source=s_id, target=e_id, weight= \"weight\")\n",
    "            # Extract edges corresponding to shortest path\n",
    "            short_path_edges = edges.loc[edges.to_from.isin(list(pairwise(path_s_e))) | edges.from_to.isin(list(pairwise(path_s_e)))]\n",
    "            shortest_path_pairs = pd.concat([shortest_path_pairs,short_path_edges])\n",
    "        except nx.NetworkXNoPath:\n",
    "            # If no path exists between start and end nodes, continue to next pair\n",
    "            # print(f\"No path found between {s_id} and {e_id}\")\n",
    "            continue\n",
    "        #print(path_s_e, length_s_e)\n",
    "        \n",
    "    return shortest_path_pairs\n",
    "\n",
    "\n",
    "# calculates the number of repetitions of each used edge and add the number to 'edges' with column of 'count_weight'\n",
    "def edges_with_count_weight(shortest_path_pairs, edges):\n",
    "    \"\"\"\n",
    "    Adds a 'count_weight' column to the edges dataframe to represent the number of times \n",
    "    each edge was used in the shortest paths. \n",
    "    Args:\n",
    "        shortest_path_pairs (pandas.DataFrame): A DataFrame containing the edges that \n",
    "            are used in the shortest paths.\n",
    "        edges (pandas.DataFrame): A DataFrame containing all the edges in the graph.\n",
    "    Returns:\n",
    "        A tuple of two DataFrames: \n",
    "            - shortest_path_edges (pandas.DataFrame): A DataFrame containing only the edges \n",
    "              used in the shortest paths and their corresponding 'count_weight' value.\n",
    "            - edges (pandas.DataFrame): A DataFrame containing all the edges in the graph \n",
    "              and their corresponding 'count_weight' value.\n",
    "    \"\"\"\n",
    "    shortest_path_edges = pd.DataFrame()\n",
    "    shortest_path_pairs_duplicate_count = pd.DataFrame()\n",
    "    \n",
    "    # Copy the id of the edges that are used in the shortest paths to a new DataFrame\n",
    "    shortest_path_pairs_duplicate_count['id'] = shortest_path_pairs['id']\n",
    "    \n",
    "    # Count the number of times each edge is used in the shortest paths\n",
    "    duplicate_row_count = pd.DataFrame(shortest_path_pairs_duplicate_count[shortest_path_pairs_duplicate_count['id'].duplicated(keep=False)].value_counts(dropna=False))\n",
    "    duplicate_row_count = duplicate_row_count.reset_index()\n",
    "    duplicate_row_count.columns = ['id','count_weight']\n",
    "    \n",
    "    # Merge the 'count_weight' values with the original edges DataFrame\n",
    "    edges = pd.merge(edges, duplicate_row_count, on='id', how='left')\n",
    "    edges['count_weight'] = edges['count_weight'].fillna(1)\n",
    "    # Merge the 'count_weight' values with the edges used in the shortest paths DataFrame\n",
    "    shortest_path_edges = pd.merge(shortest_path_pairs,duplicate_row_count, on='id', how='left')\n",
    "    shortest_path_edges['count_weight'] = shortest_path_edges['count_weight'].fillna(1)\n",
    "    return duplicate_row_count, shortest_path_edges, edges\n",
    "\n",
    "\n",
    "# Calculate maximum flow for each route and draw each of them with linewidth of 'capacity'\n",
    "def max_flow_am_tram (edges, nodes, route_capacity, id_pairs, G):\n",
    "    \"\"\"\n",
    "    Calculate the maximum flow through a network, given the edges and nodes information of the network, the capacity of the routes, the start and end node pairs, and the Graph object G.\n",
    "    Args:\n",
    "        edges (pandas.DataFrame): A DataFrame containing information about the edges of the network, including the from_id, to_id, and capacity of each edge.\n",
    "        nodes (pandas.DataFrame): A DataFrame containing information about the nodes of the network.\n",
    "        route_capacity (pandas.Series): A Series containing the capacity of each route in the network.\n",
    "        id_pairs (pandas.DataFrame): A DataFrame containing the start and end node pairs of each route in the network.\n",
    "        G (networkx.classes.graph.Graph): The Graph object representing the network.\n",
    "    Returns:\n",
    "        edges: A pandas DataFrame that contains information about edges in a graph, including the from_id, to_id, weight, and capacity columns.\n",
    "        route_edges: A pandas DataFrame that contains information about edges on the shortest path between source and target node pairs, including the from_id, to_id, weight, and capacity columns.\n",
    "        flow_value_dict: A pandas DataFrame that contains information about flow values between source and target node pairs, including the source, target, and flow columns.\n",
    "        flow_value: A float value that represents the maximum flow value in the graph.\n",
    "\n",
    "    The function adds the capacity of each route to the corresponding edges of the network. Then, it creates a new networkx Graph object, G_max, based on the updated edge capacity information. Afterward, it calculates the maximum flow through G_max using the networkx maximum_flow function.\n",
    "    \"\"\"\n",
    "    edges['capacity'] = 0\n",
    "    \n",
    "    fig, axes = plt.subplots(7, 2,figsize=(15,15))\n",
    "    for i, ax in enumerate(axes.flat):\n",
    "        if i < 14:\n",
    "            route, route_weight, route_edges = shortest_path(G, id_pairs.loc[i, 's_id'], id_pairs.loc[i, 'e_id'], edges, weight = \"weight\")\n",
    "            route_edges['capacity'] = 0\n",
    "            route_edges['capacity'] = route_capacity.iloc[i, 0]\n",
    "            #print(route_edges)\n",
    "            common_edges = set(route_edges['to_from']).intersection(set(edges['to_from'])) \\\n",
    "                    .union(set(route_edges['from_to']).intersection(set(edges['from_to'])))\n",
    "            edges.loc[edges['to_from'].isin(common_edges) | edges['from_to'].isin(common_edges), 'capacity'] = edges['capacity'] + route_capacity.iloc[i, 0]\n",
    "            #print(edges)\n",
    "        \n",
    "        if i == 0:\n",
    "            gpd.GeoDataFrame(edges.copy()).plot(ax=ax, color='gray', alpha=0.5)\n",
    "            gpd.GeoDataFrame(route_edges.copy()).plot(ax=ax, color='red', linewidth=route_edges['capacity'])\n",
    "            ax.set_title('Route 1')\n",
    "        elif i == 1:\n",
    "            gpd.GeoDataFrame(edges.copy()).plot(ax=ax, color='gray', alpha=0.5)\n",
    "            gpd.GeoDataFrame(route_edges.copy()).plot(ax=ax, color='green', linewidth=route_edges['capacity'])        \n",
    "            ax.set_title('Route 2')\n",
    "        elif i == 2:\n",
    "            gpd.GeoDataFrame(edges.copy()).plot(ax=ax, color='gray', alpha=0.5)\n",
    "            gpd.GeoDataFrame(route_edges.copy()).plot(ax=ax, color='blue', linewidth=route_edges['capacity'])\n",
    "            ax.set_title('Route 3')\n",
    "        elif i == 3:\n",
    "            gpd.GeoDataFrame(edges.copy()).plot(ax=ax, color='gray', alpha=0.5)\n",
    "            gpd.GeoDataFrame(route_edges.copy()).plot(ax=ax, color='orange', linewidth=route_edges['capacity'])\n",
    "            ax.set_title('Route 4')\n",
    "        elif i == 4:\n",
    "            gpd.GeoDataFrame(edges.copy()).plot(ax=ax, color='gray', alpha=0.5)\n",
    "            gpd.GeoDataFrame(route_edges.copy()).plot(ax=ax, color='pink', linewidth=route_edges['capacity'])\n",
    "            ax.set_title('Route 5')\n",
    "        elif i == 5:\n",
    "            gpd.GeoDataFrame(edges.copy()).plot(ax=ax, color='gray', alpha=0.5)\n",
    "            gpd.GeoDataFrame(route_edges.copy()).plot(ax=ax, color='green', linewidth=route_edges['capacity'])        \n",
    "            ax.set_title('Route 7')\n",
    "        elif i == 6:\n",
    "            gpd.GeoDataFrame(edges.copy()).plot(ax=ax, color='gray', alpha=0.5)\n",
    "            gpd.GeoDataFrame(route_edges.copy()).plot(ax=ax, color='blue', linewidth=route_edges['capacity'])\n",
    "            ax.set_title('Route 12')\n",
    "        elif i == 7:\n",
    "            gpd.GeoDataFrame(edges.copy()).plot(ax=ax, color='gray', alpha=0.5)\n",
    "            gpd.GeoDataFrame(route_edges.copy()).plot(ax=ax, color='orange', linewidth=route_edges['capacity'])\n",
    "            ax.set_title('Route 13')\n",
    "        elif i == 8:\n",
    "            gpd.GeoDataFrame(edges.copy()).plot(ax=ax, color='gray', alpha=0.5)\n",
    "            gpd.GeoDataFrame(route_edges.copy()).plot(ax=ax, color='pink', linewidth=route_edges['capacity'])\n",
    "            ax.set_title('Route 14')\n",
    "        elif i == 9:\n",
    "            gpd.GeoDataFrame(edges.copy()).plot(ax=ax, color='gray', alpha=0.5)\n",
    "            gpd.GeoDataFrame(route_edges.copy()).plot(ax=ax, color='green', linewidth=route_edges['capacity'])        \n",
    "            ax.set_title('Route 17')\n",
    "        elif i == 10:\n",
    "            gpd.GeoDataFrame(edges.copy()).plot(ax=ax, color='gray', alpha=0.5)\n",
    "            gpd.GeoDataFrame(route_edges.copy()).plot(ax=ax, color='blue', linewidth=route_edges['capacity'])\n",
    "            ax.set_title('Route 19')\n",
    "        elif i == 11:\n",
    "            gpd.GeoDataFrame(edges.copy()).plot(ax=ax, color='gray', alpha=0.5)\n",
    "            gpd.GeoDataFrame(route_edges.copy()).plot(ax=ax, color='orange', linewidth=route_edges['capacity'])\n",
    "            ax.set_title('Route 24')\n",
    "        elif i == 12:\n",
    "            gpd.GeoDataFrame(edges.copy()).plot(ax=ax, color='gray', alpha=0.5)\n",
    "            gpd.GeoDataFrame(route_edges.copy()).plot(ax=ax, color='pink', linewidth=route_edges['capacity'])\n",
    "            ax.set_title('Route 25')\n",
    "        elif i == 13:\n",
    "            gpd.GeoDataFrame(edges.copy()).plot(ax=ax, color='gray', alpha=0.5)\n",
    "            gpd.GeoDataFrame(route_edges.copy()).plot(ax=ax, color='pink', linewidth=route_edges['capacity'])\n",
    "            ax.set_title('Route 26')\n",
    "        else:    \n",
    "            ax.axis('off')\n",
    "        ax.axis('off')\n",
    "\n",
    "    plt.show()\n",
    "    \n",
    "    od = edges[['from_id', 'to_id', 'capacity']]\n",
    "    edges_list = []\n",
    "    for i, row in od.iterrows():\n",
    "        capacity_dict = {\"capacity\": row[2]}\n",
    "        tuple_row = (row[0], row[1], capacity_dict)\n",
    "        edges_list.append(tuple_row)\n",
    "    #edges_list\n",
    "    nodes_list = nodes.iloc[:,2].tolist()\n",
    "    G_max = nx.Graph()\n",
    "    G_max.add_nodes_from(nodes_list)\n",
    "    G_max.add_edges_from(edges_list)\n",
    "    \n",
    "    for i, ax in enumerate(axes.flat):\n",
    "        if i < 14:\n",
    "            flow_value, flow_dict = nx.maximum_flow(G_max, id_pairs.loc[i, 's_id'], id_pairs.loc[i, 'e_id'])\n",
    "            flow_value_dict = pd.DataFrame(columns=[\"source\", \"target\", \"flow\"])\n",
    "            for source, targets in flow_dict.items():\n",
    "                for target, flow in targets.items():\n",
    "                    flow_value_dict = flow_value_dict.append({\"source\":source, \"target\":target, \"flow\":flow}, ignore_index=True)\n",
    "            print(flow_value_dict)\n",
    "            print(\"Maximum flow:\", flow_value)\n",
    "    \n",
    "    return edges, route_edges, flow_value_dict, flow_value\n",
    "\n",
    "\n",
    "# Creat the dataset of 'edges' after delete some edges randomly\n",
    "def missing_edges(edges, e_num):\n",
    "    missing_edges = random.sample(list(edges.index), e_num)\n",
    "    edges = edges.drop(missing_edges)\n",
    "    return edges"
   ]
  },
  {
   "cell_type": "markdown",
   "id": "e0b9a344-517d-4d56-b3dd-595bfcdd91e8",
   "metadata": {},
   "source": [
    "## Step1: get data of edges and nodes from OSM map"
   ]
  },
  {
   "cell_type": "code",
   "execution_count": null,
   "id": "f219da05-5153-4e51-89bc-cdb71cf86075",
   "metadata": {},
   "outputs": [],
   "source": [
    "#osm_path = \"C:\\\\projects\\\\UTNCE\\\\data\\\\Amsterdam.osm.pbf\"\n",
    "osm_path = \"C:\\\\projects\\\\UTNCE\\\\data\\\\Amsterdam.bbbike.pbf\""
   ]
  },
  {
   "cell_type": "code",
   "execution_count": null,
   "id": "0f95a641-125f-4fd1-b3b1-c7e253f9355a",
   "metadata": {},
   "outputs": [],
   "source": [
    "tram = tram_network(osm_path)"
   ]
  },
  {
   "cell_type": "code",
   "execution_count": null,
   "id": "cdab38c7-e8c9-42a8-b867-e498b1e90b69",
   "metadata": {},
   "outputs": [],
   "source": [
    "edges,nodes = prepare_network(tram)"
   ]
  },
  {
   "cell_type": "code",
   "execution_count": null,
   "id": "6c482a51-7fe9-42ab-936e-c5bdc3aeb7a7",
   "metadata": {},
   "outputs": [],
   "source": [
    "# gpd.GeoDataFrame(edges.copy()).to_file('edges_tram_amsterdam.gpkg',driver='GPKG')\n",
    "# gpd.GeoDataFrame(nodes.copy()).to_file('nodes_tram_amsterdam.gpkg',driver='GPKG')"
   ]
  },
  {
   "cell_type": "code",
   "execution_count": null,
   "id": "7d89379c-6844-4080-b1a7-44e96b62908a",
   "metadata": {},
   "outputs": [],
   "source": [
    "edges = expand_edges(edges)"
   ]
  },
  {
   "cell_type": "code",
   "execution_count": null,
   "id": "b83596cf-3324-442a-b926-2a90c6603a5e",
   "metadata": {},
   "outputs": [],
   "source": [
    "# fig, ax = plt.subplots(1, 1,figsize=(12,10))\n",
    "\n",
    "\n",
    "# gpd.GeoDataFrame(edges.copy()).plot(ax=ax,zorder=0)"
   ]
  },
  {
   "cell_type": "code",
   "execution_count": null,
   "id": "3bdc4f8a-97ff-4233-adc8-824903fa957c",
   "metadata": {},
   "outputs": [],
   "source": []
  },
  {
   "cell_type": "code",
   "execution_count": null,
   "id": "c126e885-2539-4390-8930-43cbd643c8ff",
   "metadata": {},
   "outputs": [],
   "source": []
  },
  {
   "cell_type": "code",
   "execution_count": null,
   "id": "93a98270-ab68-4241-81a3-dc8e217bfd6b",
   "metadata": {},
   "outputs": [],
   "source": [
    "all_routes = routes(osm_path)\n",
    "all_routes"
   ]
  },
  {
   "cell_type": "code",
   "execution_count": null,
   "id": "10bb1bad-2f9f-45cf-bbbc-bc36592b483e",
   "metadata": {},
   "outputs": [],
   "source": [
    "tram_routes = pd.DataFrame(all_routes.loc[all_routes.route == 'tram'])\n",
    "tram_routes"
   ]
  },
  {
   "cell_type": "code",
   "execution_count": null,
   "id": "79f7beca-8aa4-491a-ad80-60157e99abb3",
   "metadata": {},
   "outputs": [],
   "source": [
    "#gpd.GeoDataFrame(tram_routes.copy()).to_file('tram_routes_amsterdam.gpkg',driver='GPKG')"
   ]
  },
  {
   "cell_type": "code",
   "execution_count": null,
   "id": "9f3b607b-62d3-4abc-87df-fa5ce3997394",
   "metadata": {},
   "outputs": [],
   "source": [
    "# fig, ax = plt.subplots(1, 1,figsize=(12,10))\n",
    "\n",
    "\n",
    "# gpd.GeoDataFrame(edges.copy()).plot(ax=ax,zorder=0)\n",
    "# gpd.GeoDataFrame(tram_routes.copy()).plot(ax=ax,color='black',zorder=1)"
   ]
  },
  {
   "cell_type": "code",
   "execution_count": null,
   "id": "53959440-be15-40d6-a3ce-965d2983179a",
   "metadata": {},
   "outputs": [],
   "source": [
    "tram_routes['each_line'] = tram_routes.geometry.apply(lambda x: [Line for Line in x])\n",
    "tram_routes"
   ]
  },
  {
   "cell_type": "code",
   "execution_count": null,
   "id": "898018cc-9c9e-4f80-88f2-4314031f9711",
   "metadata": {},
   "outputs": [],
   "source": [
    "edges.geometry = edges.geometry.apply(pygeos.to_shapely)  #因为tram_routes中是shapely格式\n",
    "edges['route'] = ''"
   ]
  },
  {
   "cell_type": "code",
   "execution_count": null,
   "id": "71c3c5e0-3a23-4993-a487-13d7f2c4f0eb",
   "metadata": {},
   "outputs": [],
   "source": [
    "edges"
   ]
  },
  {
   "cell_type": "code",
   "execution_count": null,
   "id": "2c0b6aa7-9d42-45a8-a478-5eafc2c0e1ee",
   "metadata": {},
   "outputs": [],
   "source": [
    "edges.to_excel('./am_tram_edges.xlsx',header = True, index = False)  \n",
    "tram_routes.to_excel('./am_tram_routes.xlsx',header = True, index = False)  "
   ]
  },
  {
   "cell_type": "code",
   "execution_count": null,
   "id": "e13704cf-6df7-4316-9a5e-385938bb8318",
   "metadata": {},
   "outputs": [],
   "source": [
    "# 将route的ref添加进edges的route列\n",
    "# 问题可能出在：edges中geometry的linestring部分存在在tram_routes中each_line的multilinestring中， 比如第1005行"
   ]
  },
  {
   "cell_type": "code",
   "execution_count": null,
   "id": "03111f91-4a3f-4f16-b13d-425ee2c7610d",
   "metadata": {},
   "outputs": [],
   "source": [
    "# 方法1\n",
    "# df_edges=pd.merge(edges,tram_routes,how='left',left_on='geometry',right_on='each_line')\n",
    "# df_edges=df_edges.loc[:,['osm_id','gemotry','railway','service','id','from_id','to_id','distance','time','weights','to_from','from_to','ref']]\n",
    "# df31=pd.merge(am_tram_name,am_tram_stations,how='left',left_on='s_name',right_on='name')\n",
    "# df31=df31.loc[:,['s_name','e_name','geo_x','geo_y']]"
   ]
  },
  {
   "cell_type": "code",
   "execution_count": null,
   "id": "f347cfab-c22d-49d9-b477-fd38aea775a9",
   "metadata": {},
   "outputs": [],
   "source": [
    "# 方法2\n",
    "# for n in range(len(tram_routes)):\n",
    "#     b = gpd.GeoSeries(tram_routes.each_line.iloc[n])\n",
    "#     for i in range(len(edges)):\n",
    "#         a = gpd.GeoSeries(edges.geometry.iloc[i])\n",
    "#         if a.within(b).all():\n",
    "#             edges.route.iloc[i] = tram_routes.ref.iloc[n]"
   ]
  },
  {
   "cell_type": "code",
   "execution_count": null,
   "id": "2efdeac3-1080-4e7a-942b-94558891a6da",
   "metadata": {},
   "outputs": [],
   "source": [
    "# 方法3\n",
    "#edges['is_on_tram_route'] = edges['geometry'].apply(lambda x: any(x.intersects(route) for route in tram_routes['each_line']))"
   ]
  },
  {
   "cell_type": "code",
   "execution_count": null,
   "id": "6a45e043-2c70-409f-b978-6667e8c5f32d",
   "metadata": {},
   "outputs": [],
   "source": [
    "#方法4\n",
    "# for idx, row in edges.iterrows():\n",
    "#     for each_line in tram_routes.loc['each_line'].tolist():\n",
    "#         if row['geometry'] in each_line:\n",
    "#             # 如果第二个表格中的geometry对象在第一个表格中的LineString列表中，则将该行的ref列添加到第二个表格中的对应行中\n",
    "#             edges.at[idx, 'route'] = tram_routes.loc[tram_routes['each_line'] == each_line, 'ref'].iloc[0]"
   ]
  },
  {
   "cell_type": "code",
   "execution_count": null,
   "id": "a520fa62-a169-473a-b191-6e8351e5a1b4",
   "metadata": {},
   "outputs": [],
   "source": [
    "for n in range(len(tram_routes)):\n",
    "    t = 0\n",
    "    b = tram_routes.each_line.iloc[n]\n",
    "    t = t + n\n",
    "    print(t)"
   ]
  },
  {
   "cell_type": "code",
   "execution_count": null,
   "id": "938562a8-a68b-473b-b504-3a55d72f031f",
   "metadata": {},
   "outputs": [],
   "source": [
    "# 方法0\n",
    "for i in range(len(edges)):\n",
    "    a = edges.geometry.iloc[i]\n",
    "    \n",
    "    for n in range(len(tram_routes)):\n",
    "        b = tram_routes.each_line.iloc[n]\n",
    "        c = a in b\n",
    "        if c > 0:\n",
    "            edges.route.iloc[i] = tram_routes.ref.iloc[n]      "
   ]
  },
  {
   "cell_type": "code",
   "execution_count": null,
   "id": "851b9ae8-cf16-46ab-9452-35c7b13d21fd",
   "metadata": {},
   "outputs": [],
   "source": [
    "#方法0.0\n",
    "for i in range(len(edges)):\n",
    "    a = edges.loc[i,'geometry']\n",
    "    \n",
    "    for n in range(len(tram_routes)):\n",
    "        b = tram_routes.iloc[n,tram_routes.columns.get_loc('each_line')]\n",
    "        if a in b:\n",
    "            edges.loc[i,'route'] = tram_routes.iloc[n,tram_routes.columns.get_loc('ref')]"
   ]
  },
  {
   "cell_type": "code",
   "execution_count": null,
   "id": "8d0df385-fbc1-4d1e-99f9-35f1991c1f91",
   "metadata": {},
   "outputs": [],
   "source": [
    "edges"
   ]
  },
  {
   "cell_type": "code",
   "execution_count": null,
   "id": "70216437-f66f-47ad-8c72-ec9f1cbb69de",
   "metadata": {},
   "outputs": [],
   "source": [
    "edges = edges.loc[edges.route != '']\n",
    "edges"
   ]
  },
  {
   "cell_type": "code",
   "execution_count": null,
   "id": "369d7f6d-907a-47c5-82ac-38b42d4b185e",
   "metadata": {},
   "outputs": [],
   "source": [
    "edges1 = edges.loc[edges.route == '1']\n",
    "edges1"
   ]
  },
  {
   "cell_type": "code",
   "execution_count": null,
   "id": "6fa0f04a-956c-49dd-872e-c19d9aaec4d0",
   "metadata": {},
   "outputs": [],
   "source": [
    "fig, ax = plt.subplots(1, 1,figsize=(12,10))\n",
    "\n",
    "\n",
    "gpd.GeoDataFrame(edges1.copy()).plot(ax=ax,zorder=0)"
   ]
  },
  {
   "cell_type": "code",
   "execution_count": null,
   "id": "56572ffd-d332-4019-95d2-52673c7dee97",
   "metadata": {},
   "outputs": [],
   "source": []
  },
  {
   "cell_type": "code",
   "execution_count": null,
   "id": "1c82b7ce-0b73-4ea9-8339-998bab161420",
   "metadata": {},
   "outputs": [],
   "source": []
  },
  {
   "cell_type": "code",
   "execution_count": null,
   "id": "69dd1a0a-f9ba-4f9d-83f7-3957147f0ce9",
   "metadata": {},
   "outputs": [],
   "source": []
  },
  {
   "cell_type": "code",
   "execution_count": null,
   "id": "2b0907dc-1ef1-4173-9034-e7e7cebb3531",
   "metadata": {},
   "outputs": [],
   "source": []
  },
  {
   "cell_type": "code",
   "execution_count": null,
   "id": "d4bb4127-ed05-4d55-be63-650b7c89aa0e",
   "metadata": {},
   "outputs": [],
   "source": []
  },
  {
   "cell_type": "code",
   "execution_count": null,
   "id": "9e36dc7b-a459-4529-a47f-ea709360e14d",
   "metadata": {},
   "outputs": [],
   "source": [
    "a = edges.geometry.loc[0] \n",
    "b = tram_routes.each_line.loc[622]\n",
    "c = tram_routes.each_line.loc[626]"
   ]
  },
  {
   "cell_type": "code",
   "execution_count": null,
   "id": "75abf6c9-1625-4059-9a22-4bad42437719",
   "metadata": {
    "tags": []
   },
   "outputs": [],
   "source": [
    "# fig, ax = plt.subplots(1, 1,figsize=(12,10))\n",
    "\n",
    "\n",
    "# gpd.GeoSeries(a).plot(ax=ax,zorder=0)\n",
    "# gpd.GeoSeries(b).plot(ax=ax,color='black',zorder=1)\n",
    "# gpd.GeoSeries(c).plot(ax=ax,color='blue',zorder=2)"
   ]
  },
  {
   "cell_type": "code",
   "execution_count": null,
   "id": "faf74799-4353-4a37-a55e-016f89ef5ed4",
   "metadata": {
    "tags": []
   },
   "outputs": [],
   "source": [
    "type(a)"
   ]
  },
  {
   "cell_type": "code",
   "execution_count": null,
   "id": "c7f6428d-243c-4695-8957-8d52f6f48955",
   "metadata": {
    "tags": []
   },
   "outputs": [],
   "source": [
    "b"
   ]
  },
  {
   "cell_type": "code",
   "execution_count": null,
   "id": "d499d92d-3097-443d-8ec3-5f7c883a9766",
   "metadata": {
    "tags": []
   },
   "outputs": [],
   "source": [
    "# a = pygeos.to_shapely(a)\n",
    "# a"
   ]
  },
  {
   "cell_type": "code",
   "execution_count": null,
   "id": "d12ee180-697f-4685-9e82-a85e691f9a97",
   "metadata": {
    "tags": []
   },
   "outputs": [],
   "source": [
    "a in c"
   ]
  },
  {
   "cell_type": "code",
   "execution_count": null,
   "id": "b98aaf6f-aab4-403a-9dc5-b575bc4fb1c9",
   "metadata": {
    "tags": []
   },
   "outputs": [],
   "source": [
    "a in b"
   ]
  },
  {
   "cell_type": "code",
   "execution_count": null,
   "id": "8dc5aa30-e3f8-4571-a739-fd3bd01540b8",
   "metadata": {},
   "outputs": [],
   "source": [
    "d = edges.geometry.loc[1006]\n",
    "e = tram_routes.each_line.loc[18]\n",
    "f = tram_routes.each_line.loc[357]"
   ]
  },
  {
   "cell_type": "code",
   "execution_count": null,
   "id": "55d6c81d-bbe5-46ad-af54-79c1215afdc3",
   "metadata": {},
   "outputs": [],
   "source": [
    "d in e"
   ]
  },
  {
   "cell_type": "code",
   "execution_count": null,
   "id": "cc90349c-fa10-456e-923b-40390fe276d8",
   "metadata": {},
   "outputs": [],
   "source": [
    "d in f"
   ]
  },
  {
   "cell_type": "code",
   "execution_count": null,
   "id": "9f2e4a2f-055b-421e-ab9f-fd57532c04e9",
   "metadata": {},
   "outputs": [],
   "source": []
  },
  {
   "cell_type": "code",
   "execution_count": null,
   "id": "869b2817-a4a4-43ac-96bb-d48503b0770e",
   "metadata": {},
   "outputs": [],
   "source": [
    "edges.geometry = gpd.GeoDataFrame(edges.copy()).geometry.apply(lambda x: Point(x.coords[0]))\n",
    "tram_routes.each_line = gpd.GeoDataFrame(tram_routes.copy()).geometry.apply(lambda x: Point(x.coords[0]))\n",
    "\n",
    "# 对于每个edges的坐标点，判断是否在tram_routes中存在\n",
    "for index, row in edges.iterrows():\n",
    "    point = row.geometry\n",
    "    ref_value = tram_routes[tram_routes.intersects(point)].ref.unique()\n",
    "    \n",
    "    # 如果存在，则将ref列的值添加到edges中\n",
    "    if len(ref_value) > 0:\n",
    "        edges.at[index, 'ref'] = ref_value[0]"
   ]
  },
  {
   "cell_type": "markdown",
   "id": "ca5a1d02-4d1c-4d5e-8e7a-c4bae5d54e95",
   "metadata": {
    "tags": []
   },
   "source": [
    "## Step2: get the coordinates of start-end stations accroding to the station name excel,   \n",
    "## and then calculate the coordinates_pairs and nearest id pairs of start-end points"
   ]
  },
  {
   "cell_type": "code",
   "execution_count": null,
   "id": "d39fd38a-2c10-4b86-b8c9-73bea442a232",
   "metadata": {},
   "outputs": [],
   "source": [
    "stations = tram_stations(osm_path)"
   ]
  },
  {
   "cell_type": "code",
   "execution_count": null,
   "id": "7bb48d2d-575e-4e30-b84e-4c201919f484",
   "metadata": {},
   "outputs": [],
   "source": [
    "am_tram_name = pd.read_excel(r'./am_tram_name.xlsx')"
   ]
  },
  {
   "cell_type": "code",
   "execution_count": null,
   "id": "49e02073-4012-4e65-aa18-7b6bcab7ec15",
   "metadata": {},
   "outputs": [],
   "source": [
    "am_tram_coordinates = s_e_tram_coordinates(stations, am_tram_name)\n",
    "am_tram_coordinates"
   ]
  },
  {
   "cell_type": "code",
   "execution_count": null,
   "id": "30bc4887-dffb-4bdd-9fe4-1b679b602fcc",
   "metadata": {},
   "outputs": [],
   "source": [
    "am_tram_coordinates_pairs = s_e_coordinates_pairs(am_tram_coordinates)"
   ]
  },
  {
   "cell_type": "code",
   "execution_count": null,
   "id": "c46af725-0294-49b4-bdc7-fe1d6c6829aa",
   "metadata": {},
   "outputs": [],
   "source": [
    "am_tram_coordinates_pairs"
   ]
  },
  {
   "cell_type": "code",
   "execution_count": null,
   "id": "96cf658b-ee67-4275-a31f-9b714ea5f199",
   "metadata": {
    "tags": []
   },
   "outputs": [],
   "source": [
    "am_tram_id_pairs = id_pairs(am_tram_coordinates_pairs,nodes)\n",
    "am_tram_id_pairs"
   ]
  },
  {
   "cell_type": "markdown",
   "id": "10e757d3-3396-4fda-8281-a40e1a3450d4",
   "metadata": {},
   "source": [
    "## Step3: calculate shortest pathes for all id pairs and visulize the tram map with the used time of each edges"
   ]
  },
  {
   "cell_type": "code",
   "execution_count": null,
   "id": "53370dc8-b0f3-4829-ba08-487eeec2ce42",
   "metadata": {},
   "outputs": [],
   "source": [
    "G = create_ground_graph(edges, nodes)"
   ]
  },
  {
   "cell_type": "code",
   "execution_count": null,
   "id": "3339a2a8-4b8e-4663-bca4-d057c6f5f1de",
   "metadata": {},
   "outputs": [],
   "source": [
    "am_tram_shortest_path_pairs = all_shortest_paths(am_tram_id_pairs,edges)\n",
    "am_tram_shortest_path_pairs"
   ]
  },
  {
   "cell_type": "code",
   "execution_count": null,
   "id": "e5d9ac28-8f1a-4eb1-b4ea-12ead20d269f",
   "metadata": {},
   "outputs": [],
   "source": [
    "duplicate_row_count, am_tram_shortest_path_edges, edges = edges_with_count_weight(am_tram_shortest_path_pairs,edges)\n",
    "#am_tram_shortest_path_edges, duplicate_row_count"
   ]
  },
  {
   "cell_type": "code",
   "execution_count": null,
   "id": "427e50a0-b72b-4d4a-9d27-3ff944e7dc27",
   "metadata": {},
   "outputs": [],
   "source": [
    "# am_tram_shortest_path_edges.to_excel('./am_tram_shortest_path_edges.xlsx',header = True, index = False) "
   ]
  },
  {
   "cell_type": "code",
   "execution_count": null,
   "id": "215b7c9b-5032-4be4-9622-53882172d851",
   "metadata": {},
   "outputs": [],
   "source": [
    "fig, ax = plt.subplots(1, 1,figsize=(12,10))\n",
    "\n",
    "gpd.GeoDataFrame(edges.copy()).plot(ax=ax,zorder=0)\n",
    "gpd.GeoDataFrame(am_tram_shortest_path_edges.copy()).plot(ax=ax,color='black',zorder=1,linewidth=(am_tram_shortest_path_edges['count_weight'])*2)"
   ]
  },
  {
   "cell_type": "code",
   "execution_count": null,
   "id": "8d3d9150-0d8b-4a0d-8f19-43789b1f0bf9",
   "metadata": {},
   "outputs": [],
   "source": [
    "# fig, ax = plt.subplots(1, 1,figsize=(12,10))\n",
    "\n",
    "# gpd.GeoDataFrame(edges.copy()).plot(ax=ax,zorder=0)\n",
    "# gpd.GeoDataFrame(edges.copy()).plot(ax=ax,color='black',zorder=1,linewidth=(edges['count_weight'])*2)"
   ]
  },
  {
   "cell_type": "markdown",
   "id": "9a8db910-185e-495d-a8a9-ed116f224ed9",
   "metadata": {
    "tags": []
   },
   "source": [
    "## Step4: draw each route with the base map of Amsterdam tram"
   ]
  },
  {
   "cell_type": "code",
   "execution_count": null,
   "id": "d7f495b4-71be-4369-b660-dbf9dba21226",
   "metadata": {},
   "outputs": [],
   "source": [
    "fig, axes = plt.subplots(7, 2,figsize=(25,25))\n",
    "for i, ax in enumerate(axes.flat):\n",
    "    if i < 14:\n",
    "        route, route_weight, route_edges = shortest_path(G, am_tram_id_pairs.loc[i, 's_id'], am_tram_id_pairs.loc[i, 'e_id'], edges, weight = \"weights\")\n",
    "    \n",
    "    if i == 0:\n",
    "        gpd.GeoDataFrame(edges.copy()).plot(ax=ax, color='gray', alpha=0.5)\n",
    "        gpd.GeoDataFrame(route_edges.copy()).plot(ax=ax, color='red')\n",
    "        ax.set_title('Route 1')\n",
    "    elif i == 1:\n",
    "        gpd.GeoDataFrame(edges.copy()).plot(ax=ax, color='gray', alpha=0.5)\n",
    "        gpd.GeoDataFrame(route_edges.copy()).plot(ax=ax, color='green')        \n",
    "        ax.set_title('Route 2')\n",
    "    elif i == 2:\n",
    "        gpd.GeoDataFrame(edges.copy()).plot(ax=ax, color='gray', alpha=0.5)\n",
    "        gpd.GeoDataFrame(route_edges.copy()).plot(ax=ax, color='blue')\n",
    "        ax.set_title('Route 3')\n",
    "    elif i == 3:\n",
    "        gpd.GeoDataFrame(edges.copy()).plot(ax=ax, color='gray', alpha=0.5)\n",
    "        gpd.GeoDataFrame(route_edges.copy()).plot(ax=ax, color='orange')\n",
    "        ax.set_title('Route 4')\n",
    "    elif i == 4:\n",
    "        gpd.GeoDataFrame(edges.copy()).plot(ax=ax, color='gray', alpha=0.5)\n",
    "        gpd.GeoDataFrame(route_edges.copy()).plot(ax=ax, color='pink')\n",
    "        ax.set_title('Route 5')\n",
    "    elif i == 5:\n",
    "        gpd.GeoDataFrame(edges.copy()).plot(ax=ax, color='gray', alpha=0.5)\n",
    "        gpd.GeoDataFrame(route_edges.copy()).plot(ax=ax, color='green')        \n",
    "        ax.set_title('Route 7')\n",
    "    elif i == 6:\n",
    "        gpd.GeoDataFrame(edges.copy()).plot(ax=ax, color='gray', alpha=0.5)\n",
    "        gpd.GeoDataFrame(route_edges.copy()).plot(ax=ax, color='blue')\n",
    "        ax.set_title('Route 12')\n",
    "    elif i == 7:\n",
    "        gpd.GeoDataFrame(edges.copy()).plot(ax=ax, color='gray', alpha=0.5)\n",
    "        gpd.GeoDataFrame(route_edges.copy()).plot(ax=ax, color='orange')\n",
    "        ax.set_title('Route 13')\n",
    "    elif i == 8:\n",
    "        gpd.GeoDataFrame(edges.copy()).plot(ax=ax, color='gray', alpha=0.5)\n",
    "        gpd.GeoDataFrame(route_edges.copy()).plot(ax=ax, color='pink')\n",
    "        ax.set_title('Route 14')\n",
    "    elif i == 9:\n",
    "        gpd.GeoDataFrame(edges.copy()).plot(ax=ax, color='gray', alpha=0.5)\n",
    "        gpd.GeoDataFrame(route_edges.copy()).plot(ax=ax, color='green')        \n",
    "        ax.set_title('Route 17')\n",
    "    elif i == 10:\n",
    "        gpd.GeoDataFrame(edges.copy()).plot(ax=ax, color='gray', alpha=0.5)\n",
    "        gpd.GeoDataFrame(route_edges.copy()).plot(ax=ax, color='blue')\n",
    "        ax.set_title('Route 19')\n",
    "    elif i == 11:\n",
    "        gpd.GeoDataFrame(edges.copy()).plot(ax=ax, color='gray', alpha=0.5)\n",
    "        gpd.GeoDataFrame(route_edges.copy()).plot(ax=ax, color='orange')\n",
    "        ax.set_title('Route 24')\n",
    "    elif i == 12:\n",
    "        gpd.GeoDataFrame(edges.copy()).plot(ax=ax, color='gray', alpha=0.5)\n",
    "        gpd.GeoDataFrame(route_edges.copy()).plot(ax=ax, color='pink')\n",
    "        ax.set_title('Route 25')\n",
    "    elif i == 13:\n",
    "        gpd.GeoDataFrame(edges.copy()).plot(ax=ax, color='gray', alpha=0.5)\n",
    "        gpd.GeoDataFrame(route_edges.copy()).plot(ax=ax, color='pink')\n",
    "        ax.set_title('Route 26')\n",
    "    else:    \n",
    "        ax.axis('off')\n",
    "    \n",
    "    ax.axis('off')\n",
    "\n",
    "plt.show()"
   ]
  },
  {
   "cell_type": "code",
   "execution_count": null,
   "id": "7a69c778-6266-4323-b7e0-015eb5381169",
   "metadata": {},
   "outputs": [],
   "source": [
    "# edges1 = edges.loc[edges.route == '1']\n",
    "# edges1"
   ]
  },
  {
   "cell_type": "code",
   "execution_count": null,
   "id": "af725f77-6b68-4e54-9415-2968852c63d2",
   "metadata": {},
   "outputs": [],
   "source": [
    "# fig, axes = plt.subplots(7, 2,figsize=(25,25))\n",
    "# for i, ax in enumerate(axes.flat):\n",
    "    \n",
    "#     if i == 0:\n",
    "#         edges = edges.loc[edges.route == '1']\n",
    "#         route, route_weight, route_edges = shortest_path(G, am_tram_id_pairs.loc[i, 's_id'], am_tram_id_pairs.loc[i, 'e_id'], edges, weight = \"weights\")\n",
    "#         gpd.GeoDataFrame(edges.copy()).plot(ax=ax, color='gray', alpha=0.5)\n",
    "#         gpd.GeoDataFrame(route_edges.copy()).plot(ax=ax, color='red')\n",
    "#         ax.set_title('Route 1')\n",
    "#     elif i == 1:\n",
    "#         edges = edges.loc[edges.route == '2']\n",
    "#         route, route_weight, route_edges = shortest_path(G, am_tram_id_pairs.loc[i, 's_id'], am_tram_id_pairs.loc[i, 'e_id'], edges, weight = \"weights\")\n",
    "#         gpd.GeoDataFrame(edges.copy()).plot(ax=ax, color='gray', alpha=0.5)\n",
    "#         gpd.GeoDataFrame(route_edges.copy()).plot(ax=ax, color='green')        \n",
    "#         ax.set_title('Route 2')\n",
    "#     elif i == 2:\n",
    "#         edges = edges.loc[edges.route == '3']\n",
    "#         route, route_weight, route_edges = shortest_path(G, am_tram_id_pairs.loc[i, 's_id'], am_tram_id_pairs.loc[i, 'e_id'], edges, weight = \"weights\")\n",
    "#         gpd.GeoDataFrame(edges.copy()).plot(ax=ax, color='gray', alpha=0.5)\n",
    "#         gpd.GeoDataFrame(route_edges.copy()).plot(ax=ax, color='blue')\n",
    "#         ax.set_title('Route 3')\n",
    "#     elif i == 3:\n",
    "#         edges = edges.loc[edges.route == '4']\n",
    "#         route, route_weight, route_edges = shortest_path(G, am_tram_id_pairs.loc[i, 's_id'], am_tram_id_pairs.loc[i, 'e_id'], edges, weight = \"weights\")\n",
    "#         gpd.GeoDataFrame(edges.copy()).plot(ax=ax, color='gray', alpha=0.5)\n",
    "#         gpd.GeoDataFrame(route_edges.copy()).plot(ax=ax, color='orange')\n",
    "#         ax.set_title('Route 4')\n",
    "#     elif i == 4:\n",
    "#         edges = edges.loc[edges.route == '5']\n",
    "#         route, route_weight, route_edges = shortest_path(G, am_tram_id_pairs.loc[i, 's_id'], am_tram_id_pairs.loc[i, 'e_id'], edges, weight = \"weights\")\n",
    "#         gpd.GeoDataFrame(edges.copy()).plot(ax=ax, color='gray', alpha=0.5)\n",
    "#         gpd.GeoDataFrame(route_edges.copy()).plot(ax=ax, color='pink')\n",
    "#         ax.set_title('Route 5')\n",
    "#     elif i == 5:\n",
    "#         edges = edges.loc[edges.route == '7']\n",
    "#         route, route_weight, route_edges = shortest_path(G, am_tram_id_pairs.loc[i, 's_id'], am_tram_id_pairs.loc[i, 'e_id'], edges, weight = \"weights\")\n",
    "#         gpd.GeoDataFrame(edges.copy()).plot(ax=ax, color='gray', alpha=0.5)\n",
    "#         gpd.GeoDataFrame(route_edges.copy()).plot(ax=ax, color='green')        \n",
    "#         ax.set_title('Route 7')\n",
    "#     elif i == 6:\n",
    "#         edges = edges.loc[edges.route == '12']\n",
    "#         route, route_weight, route_edges = shortest_path(G, am_tram_id_pairs.loc[i, 's_id'], am_tram_id_pairs.loc[i, 'e_id'], edges, weight = \"weights\")\n",
    "#         gpd.GeoDataFrame(edges.copy()).plot(ax=ax, color='gray', alpha=0.5)\n",
    "#         gpd.GeoDataFrame(route_edges.copy()).plot(ax=ax, color='blue')\n",
    "#         ax.set_title('Route 12')\n",
    "#     elif i == 7:\n",
    "#         edges = edges.loc[edges.route == '13']\n",
    "#         route, route_weight, route_edges = shortest_path(G, am_tram_id_pairs.loc[i, 's_id'], am_tram_id_pairs.loc[i, 'e_id'], edges, weight = \"weights\")\n",
    "#         gpd.GeoDataFrame(edges.copy()).plot(ax=ax, color='gray', alpha=0.5)\n",
    "#         gpd.GeoDataFrame(route_edges.copy()).plot(ax=ax, color='orange')\n",
    "#         ax.set_title('Route 13')\n",
    "#     elif i == 8:\n",
    "#         edges = edges.loc[edges.route == '14']\n",
    "#         route, route_weight, route_edges = shortest_path(G, am_tram_id_pairs.loc[i, 's_id'], am_tram_id_pairs.loc[i, 'e_id'], edges, weight = \"weights\")\n",
    "#         gpd.GeoDataFrame(edges.copy()).plot(ax=ax, color='gray', alpha=0.5)\n",
    "#         gpd.GeoDataFrame(route_edges.copy()).plot(ax=ax, color='pink')\n",
    "#         ax.set_title('Route 14')\n",
    "#     elif i == 9:\n",
    "#         edges = edges.loc[edges.route == '17']\n",
    "#         route, route_weight, route_edges = shortest_path(G, am_tram_id_pairs.loc[i, 's_id'], am_tram_id_pairs.loc[i, 'e_id'], edges, weight = \"weights\")        \n",
    "#         gpd.GeoDataFrame(edges.copy()).plot(ax=ax, color='gray', alpha=0.5)\n",
    "#         gpd.GeoDataFrame(route_edges.copy()).plot(ax=ax, color='green')        \n",
    "#         ax.set_title('Route 17')\n",
    "#     elif i == 10:\n",
    "#         edges = edges.loc[edges.route == '19']\n",
    "#         route, route_weight, route_edges = shortest_path(G, am_tram_id_pairs.loc[i, 's_id'], am_tram_id_pairs.loc[i, 'e_id'], edges, weight = \"weights\")\n",
    "#         gpd.GeoDataFrame(edges.copy()).plot(ax=ax, color='gray', alpha=0.5)\n",
    "#         gpd.GeoDataFrame(route_edges.copy()).plot(ax=ax, color='blue')\n",
    "#         ax.set_title('Route 19')\n",
    "#     elif i == 11:\n",
    "#         edges = edges.loc[edges.route == '24']\n",
    "#         route, route_weight, route_edges = shortest_path(G, am_tram_id_pairs.loc[i, 's_id'], am_tram_id_pairs.loc[i, 'e_id'], edges, weight = \"weights\")\n",
    "#         gpd.GeoDataFrame(edges.copy()).plot(ax=ax, color='gray', alpha=0.5)\n",
    "#         gpd.GeoDataFrame(route_edges.copy()).plot(ax=ax, color='orange')\n",
    "#         ax.set_title('Route 24')\n",
    "#     elif i == 12:\n",
    "#         edges = edges.loc[edges.route == '25']\n",
    "#         route, route_weight, route_edges = shortest_path(G, am_tram_id_pairs.loc[i, 's_id'], am_tram_id_pairs.loc[i, 'e_id'], edges, weight = \"weights\") \n",
    "#         gpd.GeoDataFrame(edges.copy()).plot(ax=ax, color='gray', alpha=0.5)\n",
    "#         gpd.GeoDataFrame(route_edges.copy()).plot(ax=ax, color='pink')\n",
    "#         ax.set_title('Route 25')\n",
    "#     elif i == 13:\n",
    "#         edges = edges.loc[edges.route == '26']\n",
    "#         route, route_weight, route_edges = shortest_path(G, am_tram_id_pairs.loc[i, 's_id'], am_tram_id_pairs.loc[i, 'e_id'], edges, weight = \"weights\")\n",
    "#         gpd.GeoDataFrame(edges.copy()).plot(ax=ax, color='gray', alpha=0.5)\n",
    "#         gpd.GeoDataFrame(route_edges.copy()).plot(ax=ax, color='pink')\n",
    "#         ax.set_title('Route 26')\n",
    "#     else:    \n",
    "#         ax.axis('off')\n",
    "    \n",
    "#     ax.axis('off')\n",
    "\n",
    "# plt.show()"
   ]
  },
  {
   "cell_type": "markdown",
   "id": "34e1c13e-b396-4b40-9746-5cf1eba00153",
   "metadata": {
    "tags": []
   },
   "source": [
    "## Step5: calculate maximum flow for each route of Amsterdam subway"
   ]
  },
  {
   "cell_type": "code",
   "execution_count": null,
   "id": "4d89bdef-c28d-4689-ba82-45642cc66cc0",
   "metadata": {},
   "outputs": [],
   "source": [
    "route_capacity = pd.DataFrame({'metro_num': [5.0, 4.0, 7.0, 6.0, 8.0, 6.0, 9.0, 4.0, 3.0, 5.0, 6.0, 7.0, 5.0, 6.0]})"
   ]
  },
  {
   "cell_type": "code",
   "execution_count": null,
   "id": "0af2133f-507c-4b44-b886-bf9c3d233755",
   "metadata": {},
   "outputs": [],
   "source": [
    "edges, route_edges, flow_value_dict, flow_value = max_flow_am_tram(edges, nodes, route_capacity, am_tram_id_pairs, G)"
   ]
  },
  {
   "cell_type": "code",
   "execution_count": null,
   "id": "0a7dba05-82f8-43dc-b786-68ddbd88e7b0",
   "metadata": {},
   "outputs": [],
   "source": [
    "edges"
   ]
  },
  {
   "cell_type": "code",
   "execution_count": null,
   "id": "ff3bd8dd-9559-4716-8e67-41b4d72c25d2",
   "metadata": {},
   "outputs": [],
   "source": []
  },
  {
   "cell_type": "code",
   "execution_count": null,
   "id": "4c5b0562-2085-4b5f-bc8b-057d0683f8ed",
   "metadata": {},
   "outputs": [],
   "source": []
  },
  {
   "cell_type": "code",
   "execution_count": null,
   "id": "bfcdb481-69ca-4710-afb7-3ba2e24445d1",
   "metadata": {},
   "outputs": [],
   "source": []
  },
  {
   "cell_type": "code",
   "execution_count": null,
   "id": "09a82dac-cdcf-4ac7-9a58-eb37741b71fb",
   "metadata": {},
   "outputs": [],
   "source": []
  },
  {
   "cell_type": "code",
   "execution_count": null,
   "id": "1938d951-f5f8-4766-a855-29e77b3804c5",
   "metadata": {},
   "outputs": [],
   "source": []
  },
  {
   "cell_type": "code",
   "execution_count": null,
   "id": "79b82fa9-3b1d-432b-ad73-2d3ab37af39d",
   "metadata": {},
   "outputs": [],
   "source": []
  },
  {
   "cell_type": "code",
   "execution_count": null,
   "id": "41730f4b-c5cd-42bf-9a5c-cd6ed4d27c14",
   "metadata": {},
   "outputs": [],
   "source": []
  },
  {
   "cell_type": "markdown",
   "id": "a2aa8238-da64-4805-93d9-38c65d5122e6",
   "metadata": {
    "tags": []
   },
   "source": [
    "# Old test records"
   ]
  },
  {
   "cell_type": "markdown",
   "id": "854edf0c-9f7c-49de-9991-95ed020b83b6",
   "metadata": {},
   "source": [
    "1 Muiderpoortstation,Matterhorn\n",
    "2 Centraal Station_B,Oudenaardeplantsoen\n",
    "3 Flevopark,Van Hallstraat\n",
    "4 Centraal Station_A,Station RAI\n",
    "5 Eerste Marnixdwarsstraat,Amstelveen Stadshart\n",
    "7 Azartplein,Sloterpark\n",
    "12 Centraal Station_B,Amstelstation\n",
    "13 Centraal Station_B,Lambertus Zijlplein\n",
    "14 Centraal Station_A,Flevopark\n",
    "17 Centraal Station_B,Dijkgraafplein\n",
    "19 Sniep,Station Sloterdijk\n",
    "24 Centraal Station_A,De Boelelaan/VU\n",
    "25 Station Zuid,Westwijk\n",
    "26 Centraal Station_A,IJburg"
   ]
  },
  {
   "cell_type": "markdown",
   "id": "6dfc3a39-a310-476c-950b-f33e2b93712d",
   "metadata": {},
   "source": [
    "## 循环的形式实现am_tram_coordinates_pairs，但是有一个问题，缺失的终点站被起始站坐标补齐，已经解决-因为pbf文件一开始不完整"
   ]
  },
  {
   "cell_type": "code",
   "execution_count": null,
   "id": "6ba6761f-e81a-4f5b-95cd-fac356b87d70",
   "metadata": {},
   "outputs": [],
   "source": [
    "am_tram_coordinates_pairs = pd.DataFrame(['s_coordinates_x', 's_coordinates_y', 'e_coordinates_x', 'e_coordinates_y'])\n",
    "for index, row in am_tram_name.iterrows():\n",
    "    s_station_name = row['s_name']\n",
    "    matching_stations1 = am_tram_stations[am_tram_stations['name'] == s_station_name]\n",
    "    if len(matching_stations1) > 0:\n",
    "        matching_station = matching_stations1.iloc[0]\n",
    "        am_tram_coordinates_pairs.loc[index, 's_coordinates_x'] = matching_station['geo_x']\n",
    "        am_tram_coordinates_pairs.loc[index, 's_coordinates_y'] = matching_station['geo_y'] \n",
    "\n",
    "    e_station_name = row['e_name']\n",
    "    matching_stations2 = am_tram_stations[am_tram_stations['name'] == e_station_name]\n",
    "    if len(matching_stations2) > 0:\n",
    "        matching_station = matching_stations2.iloc[0]\n",
    "        am_tram_coordinates_pairs.loc[index, 'e_coordinates_x'] = matching_station['geo_x']\n",
    "        am_tram_coordinates_pairs.loc[index, 'e_coordinates_y'] = matching_station['geo_y']\n",
    "\n",
    "\n",
    "am_tram_coordinates_pairs"
   ]
  },
  {
   "cell_type": "markdown",
   "id": "206fba8f-3514-449d-a94d-72240e9f5bac",
   "metadata": {
    "tags": []
   },
   "source": [
    "## 替代excel文件：am_tram_coordinates  #am_tram_coordinates = pd.read_excel(r'./am_tram_coordinates_pairs.xlsx')"
   ]
  },
  {
   "cell_type": "code",
   "execution_count": null,
   "id": "78076ba6-d648-4781-bf6c-36f93383dcb8",
   "metadata": {
    "tags": []
   },
   "outputs": [],
   "source": [
    "stations = tram_stations(osm_path)"
   ]
  },
  {
   "cell_type": "code",
   "execution_count": null,
   "id": "3384ca24-239c-4550-8853-36142a522bc2",
   "metadata": {},
   "outputs": [],
   "source": [
    "fig, ax = plt.subplots(1, 1,figsize=(12,10))\n",
    "\n",
    "\n",
    "gpd.GeoDataFrame(edges.copy()).plot(ax=ax,zorder=0)\n",
    "gpd.GeoDataFrame(stations.copy()).plot(ax=ax,color='black',zorder=1)"
   ]
  },
  {
   "cell_type": "code",
   "execution_count": null,
   "id": "fa507fa1-6fab-437d-87c1-f0ed38680137",
   "metadata": {},
   "outputs": [],
   "source": [
    "# stations.to_excel('./am_tram_stations.xlsx',header = True, index = False,sheet_name = 'mydata')  "
   ]
  },
  {
   "cell_type": "code",
   "execution_count": null,
   "id": "d1b013cc-53ba-4a37-b316-826e03f18d25",
   "metadata": {},
   "outputs": [],
   "source": [
    "stations['geo_x'] = stations.geometry.x\n",
    "stations['geo_y'] = stations.geometry.y"
   ]
  },
  {
   "cell_type": "code",
   "execution_count": null,
   "id": "692943e2-e95e-41e7-91da-a4f2ff8d2c27",
   "metadata": {
    "tags": []
   },
   "outputs": [],
   "source": [
    "sorted_stations = stations.sort_values(by='geo_x')"
   ]
  },
  {
   "cell_type": "code",
   "execution_count": null,
   "id": "9c9ae9dc-9157-4d06-a66d-ad89dca9b6a3",
   "metadata": {},
   "outputs": [],
   "source": [
    "stations_drop = sorted_stations [sorted_stations ['name'] != 'Centraal Station'].drop_duplicates(subset=['name'], keep='first')\n",
    "stations_drop"
   ]
  },
  {
   "cell_type": "code",
   "execution_count": null,
   "id": "51be2837-a68e-4866-83c1-03107ac2caf6",
   "metadata": {},
   "outputs": [],
   "source": [
    "station_cetralB = sorted_stations[sorted_stations['name'] == 'Centraal Station'].drop_duplicates(subset=['name'], keep='first')\n",
    "station_cetralB.iloc[0, 2] = 'Centraal Station_B'\n",
    "station_cetralB"
   ]
  },
  {
   "cell_type": "code",
   "execution_count": null,
   "id": "fee00e32-8246-4c01-b975-a51b34bf974a",
   "metadata": {},
   "outputs": [],
   "source": [
    "station_cetralA = gpd.GeoDataFrame(sorted_stations[sorted_stations['name'] == 'Centraal Station'].iloc[-2]).T\n",
    "station_cetralA.iloc[0, 2] = 'Centraal Station_A'\n",
    "station_cetralA"
   ]
  },
  {
   "cell_type": "code",
   "execution_count": null,
   "id": "4d0a2bd2-3c7b-4c99-8187-8cba5f21606e",
   "metadata": {},
   "outputs": [],
   "source": [
    "df_stations_drop = pd.DataFrame(stations_drop)\n",
    "df_station_cetralB = pd.DataFrame(station_cetralB)\n",
    "df_station_cetralA = pd.DataFrame(station_cetralA)\n",
    "am_tram_stations = pd.concat([df_stations_drop, df_station_cetralB, df_station_cetralA])\n",
    "am_tram_stations"
   ]
  },
  {
   "cell_type": "code",
   "execution_count": null,
   "id": "1b88a66f-5606-4930-a1cd-813b86791255",
   "metadata": {},
   "outputs": [],
   "source": [
    "am_tram_stations = am_tram_stations.sort_values(by='geo_y')\n",
    "am_tram_stations"
   ]
  },
  {
   "cell_type": "code",
   "execution_count": null,
   "id": "4130fd3d-02c4-436f-81ed-d133d67068c2",
   "metadata": {},
   "outputs": [],
   "source": [
    "am_tram_name = pd.read_excel(r'./am_tram_name.xlsx')"
   ]
  },
  {
   "cell_type": "code",
   "execution_count": null,
   "id": "32e9e425-006f-4be4-8636-2da4e65d5086",
   "metadata": {},
   "outputs": [],
   "source": [
    "am_tram_name"
   ]
  },
  {
   "cell_type": "code",
   "execution_count": null,
   "id": "8c73904c-448e-4619-994d-cb05ef1e34d2",
   "metadata": {},
   "outputs": [],
   "source": [
    "df31=pd.merge(am_tram_name,am_tram_stations,how='left',left_on='s_name',right_on='name')\n",
    "df31=df31.loc[:,['s_name','e_name','geo_x','geo_y']]\n",
    "df32=pd.merge(df31,am_tram_stations,how='left',left_on='e_name',right_on='name')\n",
    "df32.loc[:,['s_name','e_name','geo_x_x','geo_y_x','geo_x_y','geo_y_y']]\n",
    "\n",
    "# df32=pd.merge(am_tram_name,am_tram_stations,how='inner',left_on='e_name',right_on='name')\n",
    "# df32=df32.loc[:,['e_name','geo_x','geo_y']]\n",
    "# df3=pd.concat([df31,df32])"
   ]
  },
  {
   "cell_type": "code",
   "execution_count": null,
   "id": "df8102f8-78ac-4854-b850-a0cb6e4e36ff",
   "metadata": {},
   "outputs": [],
   "source": [
    "am_tram_coordinates = pd.DataFrame()\n",
    "am_tram_coordinates = df32.loc[:,['s_name','e_name','geo_x_x','geo_y_x','geo_x_y','geo_y_y']]\n",
    "am_tram_coordinates.columns = ['s_name','e_name','s_coordinates_x', 's_coordinates_y', 'e_coordinates_x', 'e_coordinates_y']"
   ]
  },
  {
   "cell_type": "code",
   "execution_count": null,
   "id": "db7ed838-81ab-4631-83f1-4499414a5e73",
   "metadata": {},
   "outputs": [],
   "source": [
    "am_tram_coordinates"
   ]
  },
  {
   "cell_type": "code",
   "execution_count": null,
   "id": "5d79b622-9b2a-4c78-9180-6a19d34d81a7",
   "metadata": {},
   "outputs": [],
   "source": [
    "# after using the Amsterdam.bbbike.pbf, there is no need to do this\n",
    "# am_tram_coordinates.loc[12,'e_coordinates_x'] = 4.8310348\n",
    "# am_tram_coordinates.loc[12,'e_coordinates_y'] = 52.2748113\n",
    "# am_tram_coordinates   "
   ]
  }
 ],
 "metadata": {
  "kernelspec": {
   "display_name": "Python 3 (ipykernel)",
   "language": "python",
   "name": "python3"
  },
  "language_info": {
   "codemirror_mode": {
    "name": "ipython",
    "version": 3
   },
   "file_extension": ".py",
   "mimetype": "text/x-python",
   "name": "python",
   "nbconvert_exporter": "python",
   "pygments_lexer": "ipython3",
   "version": "3.9.13"
  }
 },
 "nbformat": 4,
 "nbformat_minor": 5
}
