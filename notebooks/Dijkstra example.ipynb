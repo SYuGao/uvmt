{
 "cells": [
  {
   "cell_type": "code",
   "execution_count": 6,
   "id": "d64fa2d9-7ae7-4a9d-a826-2176399ec1b0",
   "metadata": {},
   "outputs": [],
   "source": [
    "# Shortest path example\n",
    "import networkx as nx\n",
    "\n",
    "edges = [\n",
    "    (1, 2, {\"weight\": 4}),\n",
    "    (1, 3, {\"weight\": 2}),\n",
    "    (2, 3, {\"weight\": 1}),\n",
    "    (2, 4, {\"weight\": 5}),\n",
    "    (3, 4, {\"weight\": 8}),\n",
    "    (3, 5, {\"weight\": 10}),\n",
    "    (4, 5, {\"weight\": 2}),\n",
    "    (4, 6, {\"weight\": 8}),\n",
    "    (5, 6, {\"weight\": 5}),\n",
    "]\n",
    "edge_labels = {\n",
    "    (1, 2): 4,\n",
    "    (1, 3): 2,\n",
    "    (2, 3): 1,\n",
    "    (2, 4): 5,\n",
    "    (3, 4): 8,\n",
    "    (3, 5): 10,\n",
    "    (4, 5): 2,\n",
    "    (4, 6): 8,\n",
    "    (5, 6): 5,\n",
    "}\n",
    "\n",
    "\n",
    "G = nx.Graph()\n",
    "for i in range(1, 7):\n",
    "    G.add_node(i)\n",
    "G.add_edges_from(edges)\n",
    "\n",
    "pos = nx.planar_layout(G)  # 可以没有，对最短路结果无影响 have no influence on the result of shortest path \n",
    "\n",
    "# This will give us all the shortest paths from node 1 using the weights from the edges.\n",
    "p1 = nx.shortest_path(G, source=1, weight=\"weight\")"
   ]
  },
  {
   "cell_type": "code",
   "execution_count": 7,
   "id": "2e4a16aa-6d67-4eba-8996-002472da0e65",
   "metadata": {},
   "outputs": [
    {
     "name": "stdout",
     "output_type": "stream",
     "text": [
      "All shortest paths from 1:  {1: [1], 2: [1, 3, 2], 3: [1, 3], 4: [1, 3, 2, 4], 5: [1, 3, 2, 4, 5], 6: [1, 3, 2, 4, 5, 6]}\n",
      "Shortest path from 1 to 6:  [1, 3, 2, 4, 5, 6]\n",
      "Length of the shortest path:  15\n"
     ]
    }
   ],
   "source": [
    "# This will give us the shortest path from node 1 to node 6.\n",
    "p1to6 = nx.shortest_path(G, source=1, target=6, weight=\"weight\")\n",
    "\n",
    "# This will give us the length of the shortest path from node 1 to node 6.\n",
    "length = nx.shortest_path_length(G, source=1, target=6, weight=\"weight\")\n",
    "\n",
    "print(\"All shortest paths from 1: \", p1)\n",
    "print(\"Shortest path from 1 to 6: \", p1to6)\n",
    "print(\"Length of the shortest path: \", length)"
   ]
  },
  {
   "cell_type": "code",
   "execution_count": null,
   "id": "568b4725-113f-45bd-a30a-c51bac4dcfb3",
   "metadata": {},
   "outputs": [],
   "source": []
  }
 ],
 "metadata": {
  "kernelspec": {
   "display_name": "Python 3 (ipykernel)",
   "language": "python",
   "name": "python3"
  },
  "language_info": {
   "codemirror_mode": {
    "name": "ipython",
    "version": 3
   },
   "file_extension": ".py",
   "mimetype": "text/x-python",
   "name": "python",
   "nbconvert_exporter": "python",
   "pygments_lexer": "ipython3",
   "version": "3.9.13"
  }
 },
 "nbformat": 4,
 "nbformat_minor": 5
}
