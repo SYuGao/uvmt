{
 "cells": [
  {
   "cell_type": "markdown",
   "id": "7c66e748-b0bd-4cf8-85a7-d9b2358de7c8",
   "metadata": {},
   "source": [
    "**Shortcuts of jupyter**\n",
    "- Shift + Enter run the current cell, select below\n",
    "- Ctrl/Cmd + Enter run selected cells\n",
    "- Ctrl/Cmd + S save and checkpoint\n",
    "- Enter take you into edit mode\n",
    "- A insert cell above\n",
    "- B insert cell below\n",
    "- C copy selected cells\n",
    "- V paste cells below\n",
    "- D twice to delete the cell\n",
    "- To delete multiple cells, hold down the Shift key, select all the cells you want to delete, and then press \"D\" twice to delete all the selected cells\n",
    "- Z undo cell deletion\n",
    "- M change the cell type to Markdown\n",
    "- Y change the cell type to Code\n",
    "- H show all shortcuts\n",
    "\n",
    "Note that these shortcut keys can only be used in command mode. If you have entered the editing mode of a cell, press \"ESC\" to return to the command mode."
   ]
  },
  {
   "cell_type": "markdown",
   "id": "46a2d593-dca6-48fb-a331-9451a6a14e71",
   "metadata": {},
   "source": [
    "python basic grammar ： 标识符identifier， key words, parameters, conditional syntax判断,loop循环..."
   ]
  },
  {
   "cell_type": "markdown",
   "id": "a726a1e8-e01a-44f1-9252-1840d2383792",
   "metadata": {},
   "source": [
    "容器类型（数据类型中的高级类型）"
   ]
  },
  {
   "cell_type": "markdown",
   "id": "7743607e-d9f5-4f2c-afb5-332f7aa96bf0",
   "metadata": {},
   "source": [
    "函数 "
   ]
  },
  {
   "cell_type": "markdown",
   "id": "56793ff4-2871-48c4-957a-e19fbaa6b97c",
   "metadata": {},
   "source": [
    "文件处理"
   ]
  },
  {
   "cell_type": "code",
   "execution_count": null,
   "id": "4311fc06-880d-4590-a8ca-e21a681d2703",
   "metadata": {},
   "outputs": [],
   "source": [
    "面向对象"
   ]
  },
  {
   "cell_type": "markdown",
   "id": "4487df2d-d9d9-45f6-8988-e6ee04b4021f",
   "metadata": {},
   "source": [
    "包和模块"
   ]
  },
  {
   "cell_type": "markdown",
   "id": "c1d9b4ed-315b-4c86-990e-08a104009435",
   "metadata": {
    "tags": []
   },
   "source": [
    "异常处理"
   ]
  },
  {
   "cell_type": "code",
   "execution_count": null,
   "id": "bcc9e245-7047-41f9-a919-e6076951c6fa",
   "metadata": {
    "tags": []
   },
   "outputs": [],
   "source": []
  },
  {
   "cell_type": "code",
   "execution_count": null,
   "id": "6652b54a-f112-4e36-99e5-802902018cd7",
   "metadata": {},
   "outputs": [],
   "source": []
  }
 ],
 "metadata": {
  "kernelspec": {
   "display_name": "Python 3 (ipykernel)",
   "language": "python",
   "name": "python3"
  },
  "language_info": {
   "codemirror_mode": {
    "name": "ipython",
    "version": 3
   },
   "file_extension": ".py",
   "mimetype": "text/x-python",
   "name": "python",
   "nbconvert_exporter": "python",
   "pygments_lexer": "ipython3",
   "version": "3.8.17"
  }
 },
 "nbformat": 4,
 "nbformat_minor": 5
}
